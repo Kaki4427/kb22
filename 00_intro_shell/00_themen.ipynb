{
 "cells": [
  {
   "cell_type": "markdown",
   "metadata": {
    "tags": []
   },
   "source": [
    "*Korpusbearbeitung in der Computerlinguistik, SoSe 2022, CIS, LMU München (Axel Wisiorek)*\n",
    "\n",
    "# Korpusbearbeitung in der Computerlinguistik\n",
    "\n"
   ]
  },
  {
   "cell_type": "markdown",
   "metadata": {},
   "source": [
    "# Inhalte\n",
    "\n",
    "> Im Teilmodul Korpusbearbeitung werden Programmiertechniken und -werkzeuge vorgestellt, mit denen **Textkorpora analysiert** und für die weitere Bearbeitung **annotiert** werden können. In der Vorlesung werden mit Hilfe von Programmen in einer **Skriptsprache**, speziellen Anwendungen und  **Betriebssystemtools** große Korpora erschlossen, verarbeitet und linguistisch annotiert. Es werden wichtige Aufgaben der Korpusbearbeitung, wie z.B. **Textkonvertierungen, Tokenisierungen, Erstellen von Frequenzlisten, Konkordanzen, n-Gramm-Extraktion** vorgestellt und Lösungen erarbeitet. Parallel dazu werden auch einige **exemplarisch** ausgewählte Korpora und **Verfahren der Arbeit mit Korpora** vorgestellt und damit gearbeitet. (https://www.cis.lmu.de/download/spo/cl_bsc_modulhandbuch.pdf#page=17)\n",
    "\n",
    "\n",
    "### Tools für die Verarbeitung von Korpusdaten (großen Textsammlungen):\n",
    "- **Shell**: \n",
    "    - Dateiverarbeitung (z.B. automatisiertes Iterieren über Dateien einer Textsammlung)\n",
    "    - Tools zur Daten- und Textmanipulation: awk, sed\n",
    "    - Tools zur Rekodierung\n",
    "    - Tools zur automatisierten Datenbeschaffung aus dem Web\n",
    "- **Python**: u.a. NLTK, pandas, scikit-learn, etree, bs4\n",
    "\n",
    "### Teilmodul zusammen mit 'Computerlinguistische Anwendungen' (s. Modulhandbuch):\n",
    "- dort: Korpora als Trainingsdaten für NLP-Modelle\n",
    "- hier: Aufbereitung von Korpora zur entsprechenden Verwendung (technische Grundlagen)\n",
    "    - (ebenso auch für DH-bezogene Korpusanalysen, Lexikographie etc.)\n",
    "    - z.B.: https://www.dwds.de/wb/Korpus#2\n",
    "\n",
    "### Methoden für:\n",
    "\n",
    "- **Dateiverarbeitung, Kodierung, Datenmanipulation, Korpussuche**\n",
    "- **Korpusformate**: raw vs. annotiert; (semi)strukturiert: csv, xml, json\n",
    "- **Korpustypen**: general vs. specialized vs. multilingual\n",
    "- **Preprocessing**: Tokenisierung, Stopwörter, MWT Expansion, Case, Punctuation\n",
    "- **Korpusannotation**: Stemming, POS-Tagging, Parsing, Entity Recognition\n",
    "- **Korpusauswertung**: Frequenzlisten, Kookkurrenzanalyse\n",
    "- **Korpusanalyse**: Clusteranalysen, Topic Modeling\n",
    "    \n",
    "### Aufgaben:\n",
    "\n",
    "- **praktische Anwendung der besprochenen Methoden und Tools für Korpusbearbeitung** (z.B. Anwendung von POS-Taggern)\n",
    "- Aufgaben werden zu Beginn der nächten Vorlesung besprochen\n"
   ]
  },
  {
   "cell_type": "markdown",
   "metadata": {
    "tags": []
   },
   "source": [
    "\n",
    "# Sitzungen\n",
    "\n",
    "### 0. *Shell*-Grundlagen\n",
    "\n",
    "### 1. Korpusverarbeitung mit *Shell*-Skripten\n",
    "\n",
    "### 2. Korpusverarbeitung mit *Python*: *NLTK*, *pandas*\n",
    "\n",
    "### 3. Korpusannotation mit *stanza* und *spaCy*\n",
    "\n",
    "### 4. Korpusanalyse mit *scikit-learn*\n",
    "\n",
    "### 5. Textmanipulation und -Suche mit der *Shell*: *sed* und *awk*\n",
    "\n",
    "### 6. Unicode und Zeichenkodierungen mit der *Shell*\n",
    "\n",
    "### 7. Semistrukturierte Daten und XML-Korpora: *etree*, *Beautiful Soup*\n",
    "\n",
    "### 8. Erzeugen eigener POS-Tagger: *NLTK*, *TreeTagger*\n",
    "\n",
    "### 9. Korpus-APIs (DTA) und Webcrawler "
   ]
  },
  {
   "cell_type": "markdown",
   "metadata": {},
   "source": [
    "# Häufig gestellte Fragen und Hinweise (Q&A)\n",
    "\n",
    "\n",
    "## git\n",
    "\n",
    "*Q: Wie komme ich an die Notebooks und weitere Materialien?*<br/>\n",
    "A: Clonen Sie das Repository des Kurses. In den entsprechenden Verzeichnissen finden Sie die Notebooks der Vorlesungen.\n",
    "\n",
    "*Q: Wie kann ich das Kurs-Repository clonen?*<br/>\n",
    "A: Mit der Konsole (git muss installiert sein):\n",
    "```bash\n",
    "git clone https://github.com/awisiorek/kb22.git\n",
    "```\n",
    "\n",
    "*Q: Wie kann ich das Kurs-Repository ohne einen Konsolen-Client clonen?*<br/>\n",
    "A: Verwenden Sie einen der unten angegebenen graphischen Git-Clients und clonen Sie das Repository\n",
    "unter https://github.com/awisiorek/kb22.git\n",
    "* [GitHub Desktop](https://desktop.github.com/)\n",
    "* [GitKraken](https://www.gitkraken.com/)\n",
    "* [TortoiseGit](https://tortoisegit.org/)\n",
    "* [SourceTree](https://www.sourcetreeapp.com/)\n",
    "\n",
    "*Q: Ich habe das Git-Repository.  Wie kann ich das aktuelle Notebook erhalten?*<br/>\n",
    "A: Verwenden Sie den graphischen Git-Client und aktualisieren Sie das Repository\n",
    "oder führen Sie (*innerhalb des Git-Verzeichnisses*) folgenden Befehl aus:\n",
    "```bash\n",
    "git pull origin main\n",
    "```"
   ]
  },
  {
   "cell_type": "markdown",
   "metadata": {},
   "source": [
    "\n",
    "## jupyter\n",
    "\n",
    "*Q: Wie kann ich ein Notebook starten?*<br/>\n",
    "A: Wechseln Sie in das entsprechende Verzeichnis (`jupyter/..`) und\n",
    "starten Sie das Notebook (jupyter muss installiert sein) mit folgenden Befehl:\n",
    "```bash\n",
    "jupyter notebook\n",
    "```\n",
    "\n",
    "*Q: Wie kann ich jupyter installieren?*<br/>\n",
    "A: Global (benötigt pip und python):\n",
    "```bash\n",
    "sudo pip install jupyter\n",
    "```\n",
    "oder lokal (benötigt python):\n",
    "```bash\n",
    "python -m venv venv\n",
    "source venv/bin/activate\n",
    "pip install jupyter\n",
    "...\n",
    "deactivate\n",
    "```"
   ]
  },
  {
   "cell_type": "markdown",
   "metadata": {},
   "source": [
    "## jupyterHub (DHVLab)\n",
    "\n",
    "**Wenn Sie keinen lokalen jupyter-Server installieren wollen, können Sie alternativ auch das [jupyterHub-Modul](https://dhvlab.gwi.uni-muenchen.de/notebook/) des [DHVLabs](https://dhvlab.gwi.uni-muenchen.de/) der LMU verwenden.**\n",
    "\n",
    "*Q: Wie bekomme ich einen DHVLab-Account?*<br/>\n",
    "A: Registrieren Sie sich hier ***mit Ihrer Campus-Adresse*** für das Lab **CIS_Korpus_22**: https://dhvlab.gwi.uni-muenchen.de/mgmt/labuser/signup. Bestätigen Sie anschließend Ihre Registrierung (Email). Anschließend warten Sie, bis Ihre Account freigeschaltet wurde.\n",
    "\n",
    "*Q: Wie starte ich jupyterHub?*<br/>\n",
    "A: Bevor Sie sich zum ersten Mal in jupyterHub einloggen, müssen Sie sich einmalig am [Modul \"Virtueller Desktop\"](https://dhvlab.gwi.uni-muenchen.de/desktop/#/) anmelden, um Ihr Home-Verzeichnis anzulegen. Wählen Sie am besten einen SSH-Login und geben Sie DHVLab-Username und Passwort ein. Danach können Sie sich mit ihrem DHVLab-Account beim jupyterHub-Modul anmelden: https://dhvlab.gwi.uni-muenchen.de/notebook/\n",
    "\n",
    "*Q: Wie bekomme ich die Notebooks und anderen Dateien ins jupyterHub?*<br/>\n",
    "A: Am besten clonen Sie das github-Repository über die Konsole in ihr Homeverzeichnis und aktualisieren wöchentlich (s.o.) Alternativ können Sie auch manuell Dateien hochladen (auch mehrere gleichzeitig per Drag&Drop).\n",
    "\n",
    "*Q: Wie starte ich Notebooks im jupyterHub?*<br/>\n",
    "A: Doppelklick auf das Notebook.\n",
    "\n",
    "*Q: Wie starte ich eine Shell-Konsole im jupyterHub?*<br/>\n",
    "A:  File > New > Terminal. (oder über den Launcher)\n",
    "\n"
   ]
  }
 ],
 "metadata": {
  "kernelspec": {
   "display_name": "Python 3",
   "language": "python",
   "name": "python3"
  },
  "language_info": {
   "codemirror_mode": {
    "name": "ipython",
    "version": 3
   },
   "file_extension": ".py",
   "mimetype": "text/x-python",
   "name": "python",
   "nbconvert_exporter": "python",
   "pygments_lexer": "ipython3",
   "version": "3.6.1"
  },
  "toc-showtags": true
 },
 "nbformat": 4,
 "nbformat_minor": 5
}
