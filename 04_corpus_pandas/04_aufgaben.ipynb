{
 "cells": [
  {
   "cell_type": "markdown",
   "metadata": {},
   "source": [
    "# Übungsaufgaben 4\n",
    "\n",
    "\n",
    "\n",
    "\n",
    "## Aufgabe 1 (Frequenzliste mit pandas)\n",
    "\n",
    "### Aufgabe 1a\n",
    "Berechnen Sie für folgende Tokenliste die Frequenzliste mit pandas, indem Sie die Liste in eine pandas-Series umwandeln:"
   ]
  },
  {
   "cell_type": "code",
   "execution_count": 1,
   "metadata": {},
   "outputs": [],
   "source": [
    "text = ['Call', 'me', 'Ishmael', '.', 'Call', 'me', 'Ahab', '.', 'Call', 'him', 'Ahab', '.']"
   ]
  },
  {
   "cell_type": "code",
   "execution_count": 2,
   "metadata": {},
   "outputs": [
    {
     "data": {
      "text/plain": [
       ".          3\n",
       "Call       3\n",
       "Ahab       2\n",
       "me         2\n",
       "Ishmael    1\n",
       "him        1\n",
       "dtype: int64"
      ]
     },
     "execution_count": 2,
     "metadata": {},
     "output_type": "execute_result"
    }
   ],
   "source": [
    "import pandas as pd\n",
    "pd.Series(text).value_counts()"
   ]
  },
  {
   "cell_type": "markdown",
   "metadata": {},
   "source": [
    "#### Efficiency Test:"
   ]
  },
  {
   "cell_type": "code",
   "execution_count": 3,
   "metadata": {},
   "outputs": [
    {
     "data": {
      "text/plain": [
       "['die',\n",
       " 'wahlverwandtschaften',\n",
       " 'ein',\n",
       " 'roman',\n",
       " 'von',\n",
       " 'johann',\n",
       " 'wolfgang',\n",
       " 'von',\n",
       " 'goethe']"
      ]
     },
     "execution_count": 3,
     "metadata": {},
     "output_type": "execute_result"
    }
   ],
   "source": [
    "from nltk.tokenize import word_tokenize\n",
    "raw_wahlverw = open('wahlverwandschaften.txt').read().lower()\n",
    "wahlverw = word_tokenize(raw_wahlverw)\n",
    "wahlverw[0:9]"
   ]
  },
  {
   "cell_type": "code",
   "execution_count": 4,
   "metadata": {},
   "outputs": [],
   "source": [
    "def countwords_pandas(text):\n",
    "    counts = pd.Series(text).value_counts()\n",
    "    return counts"
   ]
  },
  {
   "cell_type": "code",
   "execution_count": 5,
   "metadata": {},
   "outputs": [
    {
     "name": "stdout",
     "output_type": "stream",
     "text": [
      "0.023810106999007985\n"
     ]
    }
   ],
   "source": [
    "import timeit, functools\n",
    "t = timeit.Timer(functools.partial(countwords_pandas, wahlverw))\n",
    "print(t.timeit(5))"
   ]
  },
  {
   "cell_type": "markdown",
   "metadata": {},
   "source": [
    "### Aufgabe 1b\n",
    "Wandeln Sie folgendes Mini-Satzkorpus in ein pandas-Dataframe mit Spalte `texts` um und zählen Sie anschließend die Tokens, indem Sie die String-Methode `str.split()` auf diese Spalte anwenden:"
   ]
  },
  {
   "cell_type": "code",
   "execution_count": 6,
   "metadata": {},
   "outputs": [],
   "source": [
    "corpus = ['Call me Ishmael .', 'Call me Ahab.', 'Call him Ahab.']"
   ]
  },
  {
   "cell_type": "code",
   "execution_count": 7,
   "metadata": {},
   "outputs": [
    {
     "data": {
      "text/html": [
       "<div>\n",
       "<style scoped>\n",
       "    .dataframe tbody tr th:only-of-type {\n",
       "        vertical-align: middle;\n",
       "    }\n",
       "\n",
       "    .dataframe tbody tr th {\n",
       "        vertical-align: top;\n",
       "    }\n",
       "\n",
       "    .dataframe thead th {\n",
       "        text-align: right;\n",
       "    }\n",
       "</style>\n",
       "<table border=\"1\" class=\"dataframe\">\n",
       "  <thead>\n",
       "    <tr style=\"text-align: right;\">\n",
       "      <th></th>\n",
       "      <th>texts</th>\n",
       "    </tr>\n",
       "  </thead>\n",
       "  <tbody>\n",
       "    <tr>\n",
       "      <th>0</th>\n",
       "      <td>Call me Ishmael .</td>\n",
       "    </tr>\n",
       "    <tr>\n",
       "      <th>1</th>\n",
       "      <td>Call me Ahab.</td>\n",
       "    </tr>\n",
       "    <tr>\n",
       "      <th>2</th>\n",
       "      <td>Call him Ahab.</td>\n",
       "    </tr>\n",
       "  </tbody>\n",
       "</table>\n",
       "</div>"
      ],
      "text/plain": [
       "               texts\n",
       "0  Call me Ishmael .\n",
       "1      Call me Ahab.\n",
       "2     Call him Ahab."
      ]
     },
     "execution_count": 7,
     "metadata": {},
     "output_type": "execute_result"
    }
   ],
   "source": [
    "df = pd.DataFrame(corpus)\n",
    "df.columns = ['texts']\n",
    "df"
   ]
  },
  {
   "cell_type": "code",
   "execution_count": 8,
   "metadata": {},
   "outputs": [
    {
     "data": {
      "text/plain": [
       "0    [Call, me, Ishmael, .]\n",
       "1         [Call, me, Ahab.]\n",
       "2        [Call, him, Ahab.]\n",
       "Name: texts, dtype: object"
      ]
     },
     "execution_count": 8,
     "metadata": {},
     "output_type": "execute_result"
    }
   ],
   "source": [
    "df['texts'].str.split()"
   ]
  },
  {
   "cell_type": "code",
   "execution_count": 9,
   "metadata": {},
   "outputs": [
    {
     "data": {
      "text/html": [
       "<div>\n",
       "<style scoped>\n",
       "    .dataframe tbody tr th:only-of-type {\n",
       "        vertical-align: middle;\n",
       "    }\n",
       "\n",
       "    .dataframe tbody tr th {\n",
       "        vertical-align: top;\n",
       "    }\n",
       "\n",
       "    .dataframe thead th {\n",
       "        text-align: right;\n",
       "    }\n",
       "</style>\n",
       "<table border=\"1\" class=\"dataframe\">\n",
       "  <thead>\n",
       "    <tr style=\"text-align: right;\">\n",
       "      <th></th>\n",
       "      <th>texts</th>\n",
       "      <th>texts_split</th>\n",
       "    </tr>\n",
       "  </thead>\n",
       "  <tbody>\n",
       "    <tr>\n",
       "      <th>0</th>\n",
       "      <td>Call me Ishmael .</td>\n",
       "      <td>[Call, me, Ishmael, .]</td>\n",
       "    </tr>\n",
       "    <tr>\n",
       "      <th>1</th>\n",
       "      <td>Call me Ahab.</td>\n",
       "      <td>[Call, me, Ahab.]</td>\n",
       "    </tr>\n",
       "    <tr>\n",
       "      <th>2</th>\n",
       "      <td>Call him Ahab.</td>\n",
       "      <td>[Call, him, Ahab.]</td>\n",
       "    </tr>\n",
       "  </tbody>\n",
       "</table>\n",
       "</div>"
      ],
      "text/plain": [
       "               texts             texts_split\n",
       "0  Call me Ishmael .  [Call, me, Ishmael, .]\n",
       "1      Call me Ahab.       [Call, me, Ahab.]\n",
       "2     Call him Ahab.      [Call, him, Ahab.]"
      ]
     },
     "execution_count": 9,
     "metadata": {},
     "output_type": "execute_result"
    }
   ],
   "source": [
    "df['texts_split'] = df['texts'].str.split()\n",
    "df"
   ]
  },
  {
   "cell_type": "code",
   "execution_count": 10,
   "metadata": {},
   "outputs": [
    {
     "data": {
      "text/html": [
       "<div>\n",
       "<style scoped>\n",
       "    .dataframe tbody tr th:only-of-type {\n",
       "        vertical-align: middle;\n",
       "    }\n",
       "\n",
       "    .dataframe tbody tr th {\n",
       "        vertical-align: top;\n",
       "    }\n",
       "\n",
       "    .dataframe thead th {\n",
       "        text-align: right;\n",
       "    }\n",
       "</style>\n",
       "<table border=\"1\" class=\"dataframe\">\n",
       "  <thead>\n",
       "    <tr style=\"text-align: right;\">\n",
       "      <th></th>\n",
       "      <th>texts</th>\n",
       "      <th>texts_split</th>\n",
       "    </tr>\n",
       "  </thead>\n",
       "  <tbody>\n",
       "    <tr>\n",
       "      <th>0</th>\n",
       "      <td>Call me Ishmael .</td>\n",
       "      <td>Call</td>\n",
       "    </tr>\n",
       "    <tr>\n",
       "      <th>0</th>\n",
       "      <td>Call me Ishmael .</td>\n",
       "      <td>me</td>\n",
       "    </tr>\n",
       "    <tr>\n",
       "      <th>0</th>\n",
       "      <td>Call me Ishmael .</td>\n",
       "      <td>Ishmael</td>\n",
       "    </tr>\n",
       "    <tr>\n",
       "      <th>0</th>\n",
       "      <td>Call me Ishmael .</td>\n",
       "      <td>.</td>\n",
       "    </tr>\n",
       "    <tr>\n",
       "      <th>1</th>\n",
       "      <td>Call me Ahab.</td>\n",
       "      <td>Call</td>\n",
       "    </tr>\n",
       "  </tbody>\n",
       "</table>\n",
       "</div>"
      ],
      "text/plain": [
       "               texts texts_split\n",
       "0  Call me Ishmael .        Call\n",
       "0  Call me Ishmael .          me\n",
       "0  Call me Ishmael .     Ishmael\n",
       "0  Call me Ishmael .           .\n",
       "1      Call me Ahab.        Call"
      ]
     },
     "execution_count": 10,
     "metadata": {},
     "output_type": "execute_result"
    }
   ],
   "source": [
    "df_tokens = df.explode('texts_split')\n",
    "df_tokens.head()"
   ]
  },
  {
   "cell_type": "code",
   "execution_count": 11,
   "metadata": {},
   "outputs": [
    {
     "data": {
      "text/plain": [
       "Call       3\n",
       "Ahab.      2\n",
       "me         2\n",
       "Ishmael    1\n",
       "him        1\n",
       ".          1\n",
       "Name: texts_split, dtype: int64"
      ]
     },
     "execution_count": 11,
     "metadata": {},
     "output_type": "execute_result"
    }
   ],
   "source": [
    "df_tokens['texts_split'].value_counts()"
   ]
  },
  {
   "cell_type": "markdown",
   "metadata": {},
   "source": [
    "---"
   ]
  },
  {
   "cell_type": "code",
   "execution_count": 12,
   "metadata": {},
   "outputs": [
    {
     "data": {
      "text/plain": [
       "['Call me Ishmael .', 'Call me Ahab.', 'Call him Ahab.']"
      ]
     },
     "execution_count": 12,
     "metadata": {},
     "output_type": "execute_result"
    }
   ],
   "source": [
    "#alternativ (wenn Dataframe gegeben, umwandeln in Liste und weiterverarbeiten):\n",
    "list(df['texts'])"
   ]
  },
  {
   "cell_type": "code",
   "execution_count": 13,
   "metadata": {},
   "outputs": [
    {
     "data": {
      "text/plain": [
       "['Call', 'me', 'Ishmael', '.', 'Call', 'me', 'Ahab.', 'Call', 'him', 'Ahab.']"
      ]
     },
     "execution_count": 13,
     "metadata": {},
     "output_type": "execute_result"
    }
   ],
   "source": [
    "list_texts = [w for s in list(df['texts']) for w in s.split()]\n",
    "list_texts"
   ]
  },
  {
   "cell_type": "code",
   "execution_count": 14,
   "metadata": {},
   "outputs": [
    {
     "data": {
      "text/plain": [
       "Counter({'.': 1, 'Ahab.': 2, 'Call': 3, 'Ishmael': 1, 'him': 1, 'me': 2})"
      ]
     },
     "execution_count": 14,
     "metadata": {},
     "output_type": "execute_result"
    }
   ],
   "source": [
    "from collections import Counter\n",
    "Counter(list_texts)"
   ]
  },
  {
   "cell_type": "markdown",
   "metadata": {},
   "source": [
    "## Aufgabe 2 (Textverarbeitung mit pandas)\n",
    "\n",
    "Lesen Sie den Wahlverwandschaften-Text zeilenweise in ein pandas-Dataframe ein und führen Sie anschließend untenstehende Korpusanalysen aus. "
   ]
  },
  {
   "cell_type": "markdown",
   "metadata": {},
   "source": [
    "### Aufgabe 2a \n",
    "Tokenisieren Sie den Text und erstellen Sie eine Frequenzliste."
   ]
  },
  {
   "cell_type": "code",
   "execution_count": 15,
   "metadata": {},
   "outputs": [],
   "source": [
    "import pandas as pd"
   ]
  },
  {
   "cell_type": "code",
   "execution_count": 16,
   "metadata": {},
   "outputs": [
    {
     "data": {
      "text/html": [
       "<div>\n",
       "<style scoped>\n",
       "    .dataframe tbody tr th:only-of-type {\n",
       "        vertical-align: middle;\n",
       "    }\n",
       "\n",
       "    .dataframe tbody tr th {\n",
       "        vertical-align: top;\n",
       "    }\n",
       "\n",
       "    .dataframe thead th {\n",
       "        text-align: right;\n",
       "    }\n",
       "</style>\n",
       "<table border=\"1\" class=\"dataframe\">\n",
       "  <thead>\n",
       "    <tr style=\"text-align: right;\">\n",
       "      <th></th>\n",
       "      <th>lines</th>\n",
       "    </tr>\n",
       "  </thead>\n",
       "  <tbody>\n",
       "    <tr>\n",
       "      <th>0</th>\n",
       "      <td>Die Wahlverwandtschaften</td>\n",
       "    </tr>\n",
       "    <tr>\n",
       "      <th>1</th>\n",
       "      <td>Ein Roman</td>\n",
       "    </tr>\n",
       "    <tr>\n",
       "      <th>2</th>\n",
       "      <td>von Johann Wolfgang von Goethe</td>\n",
       "    </tr>\n",
       "    <tr>\n",
       "      <th>3</th>\n",
       "      <td>Erster Teil</td>\n",
       "    </tr>\n",
       "    <tr>\n",
       "      <th>4</th>\n",
       "      <td>Erstes Kapitel</td>\n",
       "    </tr>\n",
       "  </tbody>\n",
       "</table>\n",
       "</div>"
      ],
      "text/plain": [
       "                            lines\n",
       "0        Die Wahlverwandtschaften\n",
       "1                       Ein Roman\n",
       "2  von Johann Wolfgang von Goethe\n",
       "3                     Erster Teil\n",
       "4                  Erstes Kapitel"
      ]
     },
     "execution_count": 16,
     "metadata": {},
     "output_type": "execute_result"
    }
   ],
   "source": [
    "#Text zeilenweise in DataFrame einlesen\n",
    "df = pd.read_csv('wahlverwandschaften.txt', sep = \"\\n\", header=None) \n",
    "df.columns = ['lines']\n",
    "df.head()"
   ]
  },
  {
   "cell_type": "code",
   "execution_count": 17,
   "metadata": {},
   "outputs": [
    {
     "data": {
      "text/plain": [
       "['die',\n",
       " 'wahlverwandtschaften',\n",
       " 'ein',\n",
       " 'roman',\n",
       " 'von',\n",
       " 'johann',\n",
       " 'wolfgang',\n",
       " 'von',\n",
       " 'goethe',\n",
       " 'erster']"
      ]
     },
     "execution_count": 17,
     "metadata": {},
     "output_type": "execute_result"
    }
   ],
   "source": [
    "words = [w for l in list(df['lines']) for w in l.lower().split()]\n",
    "words[0:10]"
   ]
  },
  {
   "cell_type": "code",
   "execution_count": 18,
   "metadata": {},
   "outputs": [
    {
     "data": {
      "text/plain": [
       "und             330\n",
       "die             253\n",
       "der             181\n",
       "zu              180\n",
       "sie             156\n",
       "               ... \n",
       "gerecht           1\n",
       "behaupten,        1\n",
       "ahnungsvoll,      1\n",
       "minder            1\n",
       "aufgeklärt,       1\n",
       "Length: 3850, dtype: int64"
      ]
     },
     "execution_count": 18,
     "metadata": {},
     "output_type": "execute_result"
    }
   ],
   "source": [
    "pd.Series(words).value_counts()"
   ]
  },
  {
   "cell_type": "markdown",
   "metadata": {},
   "source": [
    "### Aufgabe 2b\n",
    "\n",
    "Erstellen Sie eine Stopwort-gefilterte Frequenzliste."
   ]
  },
  {
   "cell_type": "code",
   "execution_count": 19,
   "metadata": {},
   "outputs": [
    {
     "data": {
      "text/plain": [
       "['aber', 'alle', 'allem', 'allen', 'aller', 'alles', 'als', 'also', 'am', 'an']"
      ]
     },
     "execution_count": 19,
     "metadata": {},
     "output_type": "execute_result"
    }
   ],
   "source": [
    "from nltk.corpus import stopwords\n",
    "stop = stopwords.words('german')\n",
    "stop[0:10]"
   ]
  },
  {
   "cell_type": "code",
   "execution_count": 20,
   "metadata": {},
   "outputs": [
    {
     "data": {
      "text/plain": [
       "['wahlverwandtschaften',\n",
       " 'roman',\n",
       " 'johann',\n",
       " 'wolfgang',\n",
       " 'goethe',\n",
       " 'erster',\n",
       " 'teil',\n",
       " 'erstes',\n",
       " 'kapitel',\n",
       " 'eduard—so']"
      ]
     },
     "execution_count": 20,
     "metadata": {},
     "output_type": "execute_result"
    }
   ],
   "source": [
    "words = [w for l in list(df['lines']) for w in l.lower().split() if w not in stop]\n",
    "words[0:10]"
   ]
  },
  {
   "cell_type": "code",
   "execution_count": 21,
   "metadata": {},
   "outputs": [
    {
     "data": {
      "text/plain": [
       "sagte          37\n",
       "versetzte      36\n",
       "eduard         34\n",
       "charlotte,     30\n",
       "immer          23\n",
       "               ..\n",
       "allerdings      1\n",
       "freundlich,     1\n",
       "„bald           1\n",
       "sein?“          1\n",
       "aufgeklärt,     1\n",
       "Length: 3652, dtype: int64"
      ]
     },
     "execution_count": 21,
     "metadata": {},
     "output_type": "execute_result"
    }
   ],
   "source": [
    "pd.Series(words).value_counts()"
   ]
  },
  {
   "cell_type": "markdown",
   "metadata": {},
   "source": [
    "### Aufgabe 2c\n",
    "Berechnen Sie die durchschnittliche Zeilen- und Wortlänge."
   ]
  },
  {
   "cell_type": "code",
   "execution_count": 22,
   "metadata": {},
   "outputs": [],
   "source": [
    "#Beispiel-Daten:\n",
    "corpus = ['a a', 'aa', 'a']\n",
    "df_test = pd.DataFrame(corpus)\n",
    "df_test.columns = ['lines']"
   ]
  },
  {
   "cell_type": "code",
   "execution_count": 23,
   "metadata": {},
   "outputs": [
    {
     "name": "stdout",
     "output_type": "stream",
     "text": [
      "average word count per line/row:  1.3333333333333333\n"
     ]
    }
   ],
   "source": [
    "#Zeilenlänge in Wörtern:\n",
    "print(\"average word count per line/row: \", df_test['lines'].str.split().apply(len).mean())"
   ]
  },
  {
   "cell_type": "code",
   "execution_count": 24,
   "metadata": {},
   "outputs": [],
   "source": [
    "#Wortlänge in Zeichen:"
   ]
  },
  {
   "cell_type": "code",
   "execution_count": 25,
   "metadata": {},
   "outputs": [
    {
     "data": {
      "text/plain": [
       "0    [a, a]\n",
       "1      [aa]\n",
       "2       [a]\n",
       "Name: lines, dtype: object"
      ]
     },
     "execution_count": 25,
     "metadata": {},
     "output_type": "execute_result"
    }
   ],
   "source": [
    "df_test_words = df_test['lines'].str.split()\n",
    "df_test_words"
   ]
  },
  {
   "cell_type": "code",
   "execution_count": 26,
   "metadata": {},
   "outputs": [
    {
     "data": {
      "text/plain": [
       "0     a\n",
       "0     a\n",
       "1    aa\n",
       "2     a\n",
       "Name: lines, dtype: object"
      ]
     },
     "execution_count": 26,
     "metadata": {},
     "output_type": "execute_result"
    }
   ],
   "source": [
    "df_test_tokens = df_test_words.explode()\n",
    "df_test_tokens.head()"
   ]
  },
  {
   "cell_type": "code",
   "execution_count": 27,
   "metadata": {},
   "outputs": [
    {
     "name": "stdout",
     "output_type": "stream",
     "text": [
      "average character count per word:  1.25\n"
     ]
    }
   ],
   "source": [
    "print(\"average character count per word: \", df_test_tokens.str.len().mean())"
   ]
  },
  {
   "cell_type": "markdown",
   "metadata": {},
   "source": [
    "#### für Wahlverwandschaften:"
   ]
  },
  {
   "cell_type": "code",
   "execution_count": 28,
   "metadata": {},
   "outputs": [
    {
     "name": "stdout",
     "output_type": "stream",
     "text": [
      "average word count per line/row:  9.820603907637656\n"
     ]
    }
   ],
   "source": [
    "#Zeilenlänge in Wörtern:\n",
    "print(\"average word count per line/row: \", df['lines'].str.split().apply(len).mean())"
   ]
  },
  {
   "cell_type": "code",
   "execution_count": 29,
   "metadata": {},
   "outputs": [
    {
     "name": "stdout",
     "output_type": "stream",
     "text": [
      "average character count per word:  5.523331524688008\n"
     ]
    }
   ],
   "source": [
    "#Wortlänge in Zeichen:\n",
    "df_words = df['lines'].str.split()\n",
    "print(\"average character count per word: \", df_words.explode().str.len().mean())"
   ]
  },
  {
   "cell_type": "markdown",
   "metadata": {},
   "source": [
    "## Aufgabe 3 (Bigramme mit pandas und NLTK)\n",
    "\n",
    "Berechnen Sie auf dem Wahlverwandschaften-Text eine Stopwort-gefilterte Bigramm-Frequenzliste mit pandas-Dataframe und NLTK ngrams."
   ]
  },
  {
   "cell_type": "code",
   "execution_count": 30,
   "metadata": {},
   "outputs": [
    {
     "data": {
      "text/html": [
       "<div>\n",
       "<style scoped>\n",
       "    .dataframe tbody tr th:only-of-type {\n",
       "        vertical-align: middle;\n",
       "    }\n",
       "\n",
       "    .dataframe tbody tr th {\n",
       "        vertical-align: top;\n",
       "    }\n",
       "\n",
       "    .dataframe thead th {\n",
       "        text-align: right;\n",
       "    }\n",
       "</style>\n",
       "<table border=\"1\" class=\"dataframe\">\n",
       "  <thead>\n",
       "    <tr style=\"text-align: right;\">\n",
       "      <th></th>\n",
       "      <th>lines</th>\n",
       "    </tr>\n",
       "  </thead>\n",
       "  <tbody>\n",
       "    <tr>\n",
       "      <th>0</th>\n",
       "      <td>Die Wahlverwandtschaften</td>\n",
       "    </tr>\n",
       "    <tr>\n",
       "      <th>1</th>\n",
       "      <td>Ein Roman</td>\n",
       "    </tr>\n",
       "    <tr>\n",
       "      <th>2</th>\n",
       "      <td>von Johann Wolfgang von Goethe</td>\n",
       "    </tr>\n",
       "    <tr>\n",
       "      <th>3</th>\n",
       "      <td>Erster Teil</td>\n",
       "    </tr>\n",
       "    <tr>\n",
       "      <th>4</th>\n",
       "      <td>Erstes Kapitel</td>\n",
       "    </tr>\n",
       "  </tbody>\n",
       "</table>\n",
       "</div>"
      ],
      "text/plain": [
       "                            lines\n",
       "0        Die Wahlverwandtschaften\n",
       "1                       Ein Roman\n",
       "2  von Johann Wolfgang von Goethe\n",
       "3                     Erster Teil\n",
       "4                  Erstes Kapitel"
      ]
     },
     "execution_count": 30,
     "metadata": {},
     "output_type": "execute_result"
    }
   ],
   "source": [
    "import pandas as pd\n",
    "df = pd.read_csv('wahlverwandschaften.txt', sep = \"\\n\", header=None) \n",
    "df.columns = ['lines']\n",
    "df.head()"
   ]
  },
  {
   "cell_type": "code",
   "execution_count": 31,
   "metadata": {},
   "outputs": [
    {
     "data": {
      "text/plain": [
       "1126"
      ]
     },
     "execution_count": 31,
     "metadata": {},
     "output_type": "execute_result"
    }
   ],
   "source": [
    "len(df)"
   ]
  },
  {
   "cell_type": "code",
   "execution_count": 32,
   "metadata": {},
   "outputs": [
    {
     "data": {
      "text/plain": [
       "['aber', 'alle', 'allem', 'allen', 'aller', 'alles', 'als', 'also', 'am', 'an']"
      ]
     },
     "execution_count": 32,
     "metadata": {},
     "output_type": "execute_result"
    }
   ],
   "source": [
    "from nltk.corpus import stopwords\n",
    "stop = stopwords.words('german')\n",
    "stop[0:10]"
   ]
  },
  {
   "cell_type": "code",
   "execution_count": 33,
   "metadata": {},
   "outputs": [],
   "source": [
    "from nltk import ngrams"
   ]
  },
  {
   "cell_type": "code",
   "execution_count": 34,
   "metadata": {},
   "outputs": [
    {
     "data": {
      "text/plain": [
       "[('johann', 'wolfgang'),\n",
       " ('erster', 'teil'),\n",
       " ('erstes', 'kapitel'),\n",
       " ('eduard—so', 'nennen'),\n",
       " ('reichen', 'baron'),\n",
       " ('besten', 'mannesalter—eduard'),\n",
       " ('schönste', 'stunde'),\n",
       " ('frisch', 'erhaltene'),\n",
       " ('erhaltene', 'pfropfreiser'),\n",
       " ('junge', 'stämme')]"
      ]
     },
     "execution_count": 34,
     "metadata": {},
     "output_type": "execute_result"
    }
   ],
   "source": [
    "bigrams = [ngram for l in list(df['lines']) for ngram in ngrams(l.lower().split(), 2) if not any(word in ngram for word in stop)]\n",
    "bigrams[0:10]"
   ]
  },
  {
   "cell_type": "code",
   "execution_count": 35,
   "metadata": {},
   "outputs": [
    {
     "data": {
      "text/plain": [
       "(versetzte, charlotte,)         11\n",
       "(sagte, charlotte,)             11\n",
       "(sagte, eduard,)                 6\n",
       "(versetzte, eduard,)             5\n",
       "(versetzte, charlotte.)          4\n",
       "                                ..\n",
       "(mauer, aufgerichtet,)           1\n",
       "(mitteln, bestanden,)            1\n",
       "(berühmter, arzt;)               1\n",
       "(freundschaftlichen, bitten)     1\n",
       "(eduard, gewendet,)              1\n",
       "Length: 2351, dtype: int64"
      ]
     },
     "execution_count": 35,
     "metadata": {},
     "output_type": "execute_result"
    }
   ],
   "source": [
    "pd.Series(bigrams).value_counts()"
   ]
  },
  {
   "cell_type": "code",
   "execution_count": 36,
   "metadata": {
    "scrolled": true
   },
   "outputs": [
    {
     "data": {
      "text/plain": [
       "[(('versetzte', 'charlotte,'), 11),\n",
       " (('sagte', 'charlotte,'), 11),\n",
       " (('sagte', 'eduard,'), 6),\n",
       " (('versetzte', 'eduard,'), 5),\n",
       " (('versetzte', 'charlotte.'), 4),\n",
       " (('versetzte', 'eduard;'), 3),\n",
       " (('charlotte,', '„und'), 3),\n",
       " (('sagte', 'eduard'), 3),\n",
       " (('recht', 'schön'), 2),\n",
       " (('„ganz', 'recht“,'), 2)]"
      ]
     },
     "execution_count": 36,
     "metadata": {},
     "output_type": "execute_result"
    }
   ],
   "source": [
    "#alternativ: mit Counter\n",
    "from collections import Counter\n",
    "Counter(bigrams).most_common(10)"
   ]
  },
  {
   "cell_type": "markdown",
   "metadata": {},
   "source": [
    "## Aufgabe 4 (UD-Korpusanalyse mit pandas)\n",
    "\n",
    "Lesen Sie das UD-Korpus https://raw.githubusercontent.com/proiel/proiel-treebank/master/latin-nt.conll in ein pandas-Dataframe ein und führen Sie dieselben Korpusanalysen wie in obigen Aufgaben aus. Visualisieren Sie auch die Ergebnisse.\n"
   ]
  },
  {
   "cell_type": "code",
   "execution_count": 37,
   "metadata": {},
   "outputs": [
    {
     "data": {
      "text/html": [
       "<div>\n",
       "<style scoped>\n",
       "    .dataframe tbody tr th:only-of-type {\n",
       "        vertical-align: middle;\n",
       "    }\n",
       "\n",
       "    .dataframe tbody tr th {\n",
       "        vertical-align: top;\n",
       "    }\n",
       "\n",
       "    .dataframe thead th {\n",
       "        text-align: right;\n",
       "    }\n",
       "</style>\n",
       "<table border=\"1\" class=\"dataframe\">\n",
       "  <thead>\n",
       "    <tr style=\"text-align: right;\">\n",
       "      <th></th>\n",
       "      <th>nr</th>\n",
       "      <th>token</th>\n",
       "      <th>lemma</th>\n",
       "      <th>pos</th>\n",
       "      <th>pos2</th>\n",
       "      <th>feat</th>\n",
       "      <th>head</th>\n",
       "      <th>rel</th>\n",
       "      <th>8</th>\n",
       "      <th>9</th>\n",
       "    </tr>\n",
       "  </thead>\n",
       "  <tbody>\n",
       "    <tr>\n",
       "      <th>0</th>\n",
       "      <td>1</td>\n",
       "      <td>liber</td>\n",
       "      <td>liber</td>\n",
       "      <td>N</td>\n",
       "      <td>Nb</td>\n",
       "      <td>NUMBs|GENDm|CASEn</td>\n",
       "      <td>0</td>\n",
       "      <td>xobj(9)pred</td>\n",
       "      <td>_</td>\n",
       "      <td>_</td>\n",
       "    </tr>\n",
       "    <tr>\n",
       "      <th>1</th>\n",
       "      <td>2</td>\n",
       "      <td>generationis</td>\n",
       "      <td>generatio</td>\n",
       "      <td>N</td>\n",
       "      <td>Nb</td>\n",
       "      <td>NUMBs|GENDf|CASEg</td>\n",
       "      <td>1</td>\n",
       "      <td>atr</td>\n",
       "      <td>_</td>\n",
       "      <td>_</td>\n",
       "    </tr>\n",
       "    <tr>\n",
       "      <th>2</th>\n",
       "      <td>3</td>\n",
       "      <td>Iesu</td>\n",
       "      <td>Iesus</td>\n",
       "      <td>N</td>\n",
       "      <td>Ne</td>\n",
       "      <td>NUMBs|GENDm|CASEg</td>\n",
       "      <td>2</td>\n",
       "      <td>atr</td>\n",
       "      <td>_</td>\n",
       "      <td>_</td>\n",
       "    </tr>\n",
       "    <tr>\n",
       "      <th>3</th>\n",
       "      <td>4</td>\n",
       "      <td>Christi</td>\n",
       "      <td>Christus</td>\n",
       "      <td>N</td>\n",
       "      <td>Ne</td>\n",
       "      <td>NUMBs|GENDm|CASEg</td>\n",
       "      <td>3</td>\n",
       "      <td>apos</td>\n",
       "      <td>_</td>\n",
       "      <td>_</td>\n",
       "    </tr>\n",
       "    <tr>\n",
       "      <th>4</th>\n",
       "      <td>5</td>\n",
       "      <td>filii</td>\n",
       "      <td>filius</td>\n",
       "      <td>N</td>\n",
       "      <td>Nb</td>\n",
       "      <td>NUMBs|GENDm|CASEg</td>\n",
       "      <td>3</td>\n",
       "      <td>apos</td>\n",
       "      <td>_</td>\n",
       "      <td>_</td>\n",
       "    </tr>\n",
       "  </tbody>\n",
       "</table>\n",
       "</div>"
      ],
      "text/plain": [
       "   nr         token      lemma pos pos2               feat  head          rel  \\\n",
       "0   1         liber      liber   N   Nb  NUMBs|GENDm|CASEn     0  xobj(9)pred   \n",
       "1   2  generationis  generatio   N   Nb  NUMBs|GENDf|CASEg     1          atr   \n",
       "2   3          Iesu      Iesus   N   Ne  NUMBs|GENDm|CASEg     2          atr   \n",
       "3   4       Christi   Christus   N   Ne  NUMBs|GENDm|CASEg     3         apos   \n",
       "4   5         filii     filius   N   Nb  NUMBs|GENDm|CASEg     3         apos   \n",
       "\n",
       "   8  9  \n",
       "0  _  _  \n",
       "1  _  _  \n",
       "2  _  _  \n",
       "3  _  _  \n",
       "4  _  _  "
      ]
     },
     "execution_count": 37,
     "metadata": {},
     "output_type": "execute_result"
    }
   ],
   "source": [
    "import pandas as pd\n",
    "df = pd.read_csv('../../texte_corpora/latin-nt.conll.txt', sep = \"\\t\", header=None) \n",
    "df.columns = ['nr','token','lemma','pos','pos2','feat','head','rel','8','9']\n",
    "df.head()"
   ]
  },
  {
   "cell_type": "markdown",
   "metadata": {},
   "source": [
    "#### Frequenzliste:"
   ]
  },
  {
   "cell_type": "code",
   "execution_count": 38,
   "metadata": {},
   "outputs": [
    {
     "data": {
      "text/plain": [
       "et             8489\n",
       "in             3784\n",
       "autem          1935\n",
       "est            1853\n",
       "non            1697\n",
       "               ... \n",
       "caedens           1\n",
       "turbemini         1\n",
       "secedebat         1\n",
       "praestabant       1\n",
       "pascentium        1\n",
       "Name: token, Length: 13996, dtype: int64"
      ]
     },
     "execution_count": 38,
     "metadata": {},
     "output_type": "execute_result"
    }
   ],
   "source": [
    "df['token'].value_counts()"
   ]
  },
  {
   "cell_type": "markdown",
   "metadata": {},
   "source": [
    "#### gefilterte Frequenzlisten:"
   ]
  },
  {
   "cell_type": "code",
   "execution_count": 39,
   "metadata": {},
   "outputs": [
    {
     "data": {
      "text/plain": [
       "sum          4620\n",
       "dico         2079\n",
       "autem        1935\n",
       "non          1697\n",
       "deus         1087\n",
       "             ... \n",
       "polliceor       1\n",
       "premo           1\n",
       "oblivio         1\n",
       "Cleopas         1\n",
       "Porcius         1\n",
       "Name: lemma, Length: 4325, dtype: int64"
      ]
     },
     "execution_count": 39,
     "metadata": {},
     "output_type": "execute_result"
    }
   ],
   "source": [
    "# Lemma-Frequenzliste, gefiltert nach Content-Word-POS-Tags:\n",
    "df[df['pos'].isin(['N','V','A','D'])]['lemma'].value_counts()"
   ]
  },
  {
   "cell_type": "code",
   "execution_count": 40,
   "metadata": {},
   "outputs": [
    {
     "data": {
      "text/plain": [
       "deus          1087\n",
       "Iesus          857\n",
       "dominus        631\n",
       "homo           512\n",
       "Christus       429\n",
       "              ... \n",
       "creator          1\n",
       "subtilitas       1\n",
       "par              1\n",
       "Sychar           1\n",
       "Sergius          1\n",
       "Name: lemma, Length: 2151, dtype: int64"
      ]
     },
     "execution_count": 40,
     "metadata": {},
     "output_type": "execute_result"
    }
   ],
   "source": [
    "# Lemma-Frequenzliste von Substantiven:\n",
    "df[df['pos'] == 'N']['lemma'].value_counts()"
   ]
  },
  {
   "cell_type": "code",
   "execution_count": 41,
   "metadata": {},
   "outputs": [],
   "source": [
    "import matplotlib.pyplot as plt\n",
    "%matplotlib inline"
   ]
  },
  {
   "cell_type": "code",
   "execution_count": 42,
   "metadata": {},
   "outputs": [],
   "source": [
    "df_N_lemma_head = df[df['pos'] == 'N']['lemma'].value_counts().head(20)"
   ]
  },
  {
   "cell_type": "code",
   "execution_count": 43,
   "metadata": {},
   "outputs": [
    {
     "data": {
      "text/plain": [
       "<matplotlib.axes._subplots.AxesSubplot at 0x12730f978>"
      ]
     },
     "execution_count": 43,
     "metadata": {},
     "output_type": "execute_result"
    },
    {
     "data": {
      "image/png": "[encoded data removed]",
      "text/plain": [
       "<matplotlib.figure.Figure at 0x127307fd0>"
      ]
     },
     "metadata": {},
     "output_type": "display_data"
    }
   ],
   "source": [
    "df_N_lemma_head.sort_values().plot(kind = 'barh')"
   ]
  },
  {
   "cell_type": "markdown",
   "metadata": {},
   "source": [
    "#### Bigramme:"
   ]
  },
  {
   "cell_type": "code",
   "execution_count": 44,
   "metadata": {},
   "outputs": [
    {
     "name": "stdout",
     "output_type": "stream",
     "text": [
      "['liber', 'generationis', 'Iesu', 'Christi', 'filii', 'David', 'filii', 'Abraham', 'Abraham', 'genuit']\n"
     ]
    }
   ],
   "source": [
    "#ausgehend von Tokenliste\n",
    "print(list(df['token'])[0:10])"
   ]
  },
  {
   "cell_type": "code",
   "execution_count": 45,
   "metadata": {},
   "outputs": [
    {
     "name": "stdout",
     "output_type": "stream",
     "text": [
      "[('liber', 'generationis'), ('generationis', 'Iesu'), ('Iesu', 'Christi'), ('Christi', 'filii'), ('filii', 'David'), ('David', 'filii'), ('filii', 'Abraham'), ('Abraham', 'Abraham'), ('Abraham', 'genuit'), ('genuit', 'Isaac')]\n"
     ]
    }
   ],
   "source": [
    "#mit zip:\n",
    "bigrams = zip(list(df['token'])[:-1], list(df['token'])[1:])\n",
    "print(list(bigrams)[0:10])"
   ]
  },
  {
   "cell_type": "code",
   "execution_count": 46,
   "metadata": {},
   "outputs": [
    {
     "name": "stdout",
     "output_type": "stream",
     "text": [
      "[('liber', 'generationis'), ('generationis', 'Iesu'), ('Iesu', 'Christi'), ('Christi', 'filii'), ('filii', 'David'), ('David', 'filii'), ('filii', 'Abraham'), ('Abraham', 'Abraham'), ('Abraham', 'genuit'), ('genuit', 'Isaac')]\n"
     ]
    }
   ],
   "source": [
    "#mit NLTK:\n",
    "from nltk import ngrams\n",
    "bigrams = ngrams(list(df['token']), 2)\n",
    "print(list(bigrams)[0:10])"
   ]
  },
  {
   "cell_type": "markdown",
   "metadata": {},
   "source": [
    "#### Durchschnittliche Wortlänge:"
   ]
  },
  {
   "cell_type": "code",
   "execution_count": 47,
   "metadata": {},
   "outputs": [
    {
     "name": "stdout",
     "output_type": "stream",
     "text": [
      "average character count per word:  5.239704262733133\n"
     ]
    }
   ],
   "source": [
    "print(\"average character count per word: \", df['token'].str.len().mean())"
   ]
  },
  {
   "cell_type": "code",
   "execution_count": 48,
   "metadata": {},
   "outputs": [
    {
     "data": {
      "text/plain": [
       "<matplotlib.axes._subplots.AxesSubplot at 0x127399438>"
      ]
     },
     "execution_count": 48,
     "metadata": {},
     "output_type": "execute_result"
    },
    {
     "data": {
      "image/png": "[encoded data removed]",
      "text/plain": [
       "<matplotlib.figure.Figure at 0x127be01d0>"
      ]
     },
     "metadata": {},
     "output_type": "display_data"
    }
   ],
   "source": [
    "df['token'].str.len().hist()"
   ]
  },
  {
   "cell_type": "markdown",
   "metadata": {},
   "source": [
    "#### Durchschnittliche Satzlänge:"
   ]
  },
  {
   "cell_type": "code",
   "execution_count": 49,
   "metadata": {},
   "outputs": [
    {
     "data": {
      "text/html": [
       "<div>\n",
       "<style scoped>\n",
       "    .dataframe tbody tr th:only-of-type {\n",
       "        vertical-align: middle;\n",
       "    }\n",
       "\n",
       "    .dataframe tbody tr th {\n",
       "        vertical-align: top;\n",
       "    }\n",
       "\n",
       "    .dataframe thead th {\n",
       "        text-align: right;\n",
       "    }\n",
       "</style>\n",
       "<table border=\"1\" class=\"dataframe\">\n",
       "  <thead>\n",
       "    <tr style=\"text-align: right;\">\n",
       "      <th></th>\n",
       "      <th>nr</th>\n",
       "      <th>token</th>\n",
       "      <th>lemma</th>\n",
       "      <th>pos</th>\n",
       "      <th>pos2</th>\n",
       "      <th>feat</th>\n",
       "      <th>head</th>\n",
       "      <th>rel</th>\n",
       "      <th>8</th>\n",
       "      <th>9</th>\n",
       "      <th>sentnr</th>\n",
       "    </tr>\n",
       "  </thead>\n",
       "  <tbody>\n",
       "    <tr>\n",
       "      <th>0</th>\n",
       "      <td>1</td>\n",
       "      <td>liber</td>\n",
       "      <td>liber</td>\n",
       "      <td>N</td>\n",
       "      <td>Nb</td>\n",
       "      <td>NUMBs|GENDm|CASEn</td>\n",
       "      <td>0</td>\n",
       "      <td>xobj(9)pred</td>\n",
       "      <td>_</td>\n",
       "      <td>_</td>\n",
       "      <td>0</td>\n",
       "    </tr>\n",
       "    <tr>\n",
       "      <th>1</th>\n",
       "      <td>2</td>\n",
       "      <td>generationis</td>\n",
       "      <td>generatio</td>\n",
       "      <td>N</td>\n",
       "      <td>Nb</td>\n",
       "      <td>NUMBs|GENDf|CASEg</td>\n",
       "      <td>1</td>\n",
       "      <td>atr</td>\n",
       "      <td>_</td>\n",
       "      <td>_</td>\n",
       "      <td>0</td>\n",
       "    </tr>\n",
       "  </tbody>\n",
       "</table>\n",
       "</div>"
      ],
      "text/plain": [
       "   nr         token      lemma pos pos2               feat  head          rel  \\\n",
       "0   1         liber      liber   N   Nb  NUMBs|GENDm|CASEn     0  xobj(9)pred   \n",
       "1   2  generationis  generatio   N   Nb  NUMBs|GENDf|CASEg     1          atr   \n",
       "\n",
       "   8  9  sentnr  \n",
       "0  _  _       0  \n",
       "1  _  _       0  "
      ]
     },
     "execution_count": 49,
     "metadata": {},
     "output_type": "execute_result"
    }
   ],
   "source": [
    "#Satzindex hinzufügen:\n",
    "df['sentnr'] = 0\n",
    "df.head(2)"
   ]
  },
  {
   "cell_type": "code",
   "execution_count": 50,
   "metadata": {},
   "outputs": [
    {
     "data": {
      "text/html": [
       "<div>\n",
       "<style scoped>\n",
       "    .dataframe tbody tr th:only-of-type {\n",
       "        vertical-align: middle;\n",
       "    }\n",
       "\n",
       "    .dataframe tbody tr th {\n",
       "        vertical-align: top;\n",
       "    }\n",
       "\n",
       "    .dataframe thead th {\n",
       "        text-align: right;\n",
       "    }\n",
       "</style>\n",
       "<table border=\"1\" class=\"dataframe\">\n",
       "  <thead>\n",
       "    <tr style=\"text-align: right;\">\n",
       "      <th></th>\n",
       "      <th>nr</th>\n",
       "      <th>token</th>\n",
       "      <th>lemma</th>\n",
       "      <th>pos</th>\n",
       "      <th>pos2</th>\n",
       "      <th>feat</th>\n",
       "      <th>head</th>\n",
       "      <th>rel</th>\n",
       "      <th>8</th>\n",
       "      <th>9</th>\n",
       "      <th>sentnr</th>\n",
       "    </tr>\n",
       "  </thead>\n",
       "  <tbody>\n",
       "    <tr>\n",
       "      <th>0</th>\n",
       "      <td>1</td>\n",
       "      <td>liber</td>\n",
       "      <td>liber</td>\n",
       "      <td>N</td>\n",
       "      <td>Nb</td>\n",
       "      <td>NUMBs|GENDm|CASEn</td>\n",
       "      <td>0</td>\n",
       "      <td>xobj(9)pred</td>\n",
       "      <td>_</td>\n",
       "      <td>_</td>\n",
       "      <td>1</td>\n",
       "    </tr>\n",
       "    <tr>\n",
       "      <th>1</th>\n",
       "      <td>2</td>\n",
       "      <td>generationis</td>\n",
       "      <td>generatio</td>\n",
       "      <td>N</td>\n",
       "      <td>Nb</td>\n",
       "      <td>NUMBs|GENDf|CASEg</td>\n",
       "      <td>1</td>\n",
       "      <td>atr</td>\n",
       "      <td>_</td>\n",
       "      <td>_</td>\n",
       "      <td>1</td>\n",
       "    </tr>\n",
       "    <tr>\n",
       "      <th>2</th>\n",
       "      <td>3</td>\n",
       "      <td>Iesu</td>\n",
       "      <td>Iesus</td>\n",
       "      <td>N</td>\n",
       "      <td>Ne</td>\n",
       "      <td>NUMBs|GENDm|CASEg</td>\n",
       "      <td>2</td>\n",
       "      <td>atr</td>\n",
       "      <td>_</td>\n",
       "      <td>_</td>\n",
       "      <td>1</td>\n",
       "    </tr>\n",
       "    <tr>\n",
       "      <th>3</th>\n",
       "      <td>4</td>\n",
       "      <td>Christi</td>\n",
       "      <td>Christus</td>\n",
       "      <td>N</td>\n",
       "      <td>Ne</td>\n",
       "      <td>NUMBs|GENDm|CASEg</td>\n",
       "      <td>3</td>\n",
       "      <td>apos</td>\n",
       "      <td>_</td>\n",
       "      <td>_</td>\n",
       "      <td>1</td>\n",
       "    </tr>\n",
       "    <tr>\n",
       "      <th>4</th>\n",
       "      <td>5</td>\n",
       "      <td>filii</td>\n",
       "      <td>filius</td>\n",
       "      <td>N</td>\n",
       "      <td>Nb</td>\n",
       "      <td>NUMBs|GENDm|CASEg</td>\n",
       "      <td>3</td>\n",
       "      <td>apos</td>\n",
       "      <td>_</td>\n",
       "      <td>_</td>\n",
       "      <td>1</td>\n",
       "    </tr>\n",
       "    <tr>\n",
       "      <th>5</th>\n",
       "      <td>6</td>\n",
       "      <td>David</td>\n",
       "      <td>David</td>\n",
       "      <td>N</td>\n",
       "      <td>Ne</td>\n",
       "      <td>INFLn</td>\n",
       "      <td>5</td>\n",
       "      <td>atr</td>\n",
       "      <td>_</td>\n",
       "      <td>_</td>\n",
       "      <td>1</td>\n",
       "    </tr>\n",
       "    <tr>\n",
       "      <th>6</th>\n",
       "      <td>7</td>\n",
       "      <td>filii</td>\n",
       "      <td>filius</td>\n",
       "      <td>N</td>\n",
       "      <td>Nb</td>\n",
       "      <td>NUMBs|GENDm|CASEg</td>\n",
       "      <td>5</td>\n",
       "      <td>apos</td>\n",
       "      <td>_</td>\n",
       "      <td>_</td>\n",
       "      <td>1</td>\n",
       "    </tr>\n",
       "    <tr>\n",
       "      <th>7</th>\n",
       "      <td>8</td>\n",
       "      <td>Abraham</td>\n",
       "      <td>Abraham</td>\n",
       "      <td>N</td>\n",
       "      <td>Ne</td>\n",
       "      <td>INFLn</td>\n",
       "      <td>7</td>\n",
       "      <td>atr</td>\n",
       "      <td>_</td>\n",
       "      <td>_</td>\n",
       "      <td>1</td>\n",
       "    </tr>\n",
       "    <tr>\n",
       "      <th>8</th>\n",
       "      <td>1</td>\n",
       "      <td>Abraham</td>\n",
       "      <td>Abraham</td>\n",
       "      <td>N</td>\n",
       "      <td>Ne</td>\n",
       "      <td>INFLn</td>\n",
       "      <td>2</td>\n",
       "      <td>sub</td>\n",
       "      <td>_</td>\n",
       "      <td>_</td>\n",
       "      <td>2</td>\n",
       "    </tr>\n",
       "    <tr>\n",
       "      <th>9</th>\n",
       "      <td>2</td>\n",
       "      <td>genuit</td>\n",
       "      <td>gigno</td>\n",
       "      <td>V</td>\n",
       "      <td>V-</td>\n",
       "      <td>PERS3|NUMBs|TENSr|MOODi|VOICa</td>\n",
       "      <td>0</td>\n",
       "      <td>pred</td>\n",
       "      <td>_</td>\n",
       "      <td>_</td>\n",
       "      <td>2</td>\n",
       "    </tr>\n",
       "    <tr>\n",
       "      <th>10</th>\n",
       "      <td>3</td>\n",
       "      <td>Isaac</td>\n",
       "      <td>Isaac</td>\n",
       "      <td>N</td>\n",
       "      <td>Ne</td>\n",
       "      <td>INFLn</td>\n",
       "      <td>2</td>\n",
       "      <td>obj</td>\n",
       "      <td>_</td>\n",
       "      <td>_</td>\n",
       "      <td>2</td>\n",
       "    </tr>\n",
       "    <tr>\n",
       "      <th>11</th>\n",
       "      <td>1</td>\n",
       "      <td>Isaac</td>\n",
       "      <td>Isaac</td>\n",
       "      <td>N</td>\n",
       "      <td>Ne</td>\n",
       "      <td>INFLn</td>\n",
       "      <td>3</td>\n",
       "      <td>sub</td>\n",
       "      <td>_</td>\n",
       "      <td>_</td>\n",
       "      <td>3</td>\n",
       "    </tr>\n",
       "    <tr>\n",
       "      <th>12</th>\n",
       "      <td>2</td>\n",
       "      <td>autem</td>\n",
       "      <td>autem</td>\n",
       "      <td>D</td>\n",
       "      <td>Df</td>\n",
       "      <td>INFLn</td>\n",
       "      <td>3</td>\n",
       "      <td>aux</td>\n",
       "      <td>_</td>\n",
       "      <td>_</td>\n",
       "      <td>3</td>\n",
       "    </tr>\n",
       "    <tr>\n",
       "      <th>13</th>\n",
       "      <td>3</td>\n",
       "      <td>genuit</td>\n",
       "      <td>gigno</td>\n",
       "      <td>V</td>\n",
       "      <td>V-</td>\n",
       "      <td>PERS3|NUMBs|TENSr|MOODi|VOICa</td>\n",
       "      <td>0</td>\n",
       "      <td>pred</td>\n",
       "      <td>_</td>\n",
       "      <td>_</td>\n",
       "      <td>3</td>\n",
       "    </tr>\n",
       "    <tr>\n",
       "      <th>14</th>\n",
       "      <td>4</td>\n",
       "      <td>Iacob</td>\n",
       "      <td>Iacob</td>\n",
       "      <td>N</td>\n",
       "      <td>Ne</td>\n",
       "      <td>INFLn</td>\n",
       "      <td>3</td>\n",
       "      <td>obj</td>\n",
       "      <td>_</td>\n",
       "      <td>_</td>\n",
       "      <td>3</td>\n",
       "    </tr>\n",
       "  </tbody>\n",
       "</table>\n",
       "</div>"
      ],
      "text/plain": [
       "    nr         token      lemma pos pos2                           feat  head  \\\n",
       "0    1         liber      liber   N   Nb              NUMBs|GENDm|CASEn     0   \n",
       "1    2  generationis  generatio   N   Nb              NUMBs|GENDf|CASEg     1   \n",
       "2    3          Iesu      Iesus   N   Ne              NUMBs|GENDm|CASEg     2   \n",
       "3    4       Christi   Christus   N   Ne              NUMBs|GENDm|CASEg     3   \n",
       "4    5         filii     filius   N   Nb              NUMBs|GENDm|CASEg     3   \n",
       "5    6         David      David   N   Ne                          INFLn     5   \n",
       "6    7         filii     filius   N   Nb              NUMBs|GENDm|CASEg     5   \n",
       "7    8       Abraham    Abraham   N   Ne                          INFLn     7   \n",
       "8    1       Abraham    Abraham   N   Ne                          INFLn     2   \n",
       "9    2        genuit      gigno   V   V-  PERS3|NUMBs|TENSr|MOODi|VOICa     0   \n",
       "10   3         Isaac      Isaac   N   Ne                          INFLn     2   \n",
       "11   1         Isaac      Isaac   N   Ne                          INFLn     3   \n",
       "12   2         autem      autem   D   Df                          INFLn     3   \n",
       "13   3        genuit      gigno   V   V-  PERS3|NUMBs|TENSr|MOODi|VOICa     0   \n",
       "14   4         Iacob      Iacob   N   Ne                          INFLn     3   \n",
       "\n",
       "            rel  8  9  sentnr  \n",
       "0   xobj(9)pred  _  _       1  \n",
       "1           atr  _  _       1  \n",
       "2           atr  _  _       1  \n",
       "3          apos  _  _       1  \n",
       "4          apos  _  _       1  \n",
       "5           atr  _  _       1  \n",
       "6          apos  _  _       1  \n",
       "7           atr  _  _       1  \n",
       "8           sub  _  _       2  \n",
       "9          pred  _  _       2  \n",
       "10          obj  _  _       2  \n",
       "11          sub  _  _       3  \n",
       "12          aux  _  _       3  \n",
       "13         pred  _  _       3  \n",
       "14          obj  _  _       3  "
      ]
     },
     "execution_count": 50,
     "metadata": {},
     "output_type": "execute_result"
    }
   ],
   "source": [
    "sent_nr = 0\n",
    "for index, row in df.iterrows():\n",
    "    if row['nr'] == 1:\n",
    "        sent_nr += 1\n",
    "    df.at[index, 'sentnr'] = sent_nr\n",
    "\n",
    "df.head(15)"
   ]
  },
  {
   "cell_type": "code",
   "execution_count": 51,
   "metadata": {},
   "outputs": [
    {
     "data": {
      "text/plain": [
       "sentnr\n",
       "1        8\n",
       "2        3\n",
       "3        4\n",
       "4        7\n",
       "5        8\n",
       "        ..\n",
       "11847    5\n",
       "11848    3\n",
       "11849    1\n",
       "11850    3\n",
       "11851    7\n",
       "Name: nr, Length: 11851, dtype: int64"
      ]
     },
     "execution_count": 51,
     "metadata": {},
     "output_type": "execute_result"
    }
   ],
   "source": [
    "words_per_sent = df.groupby(['sentnr'], sort=False)['nr'].max()\n",
    "words_per_sent"
   ]
  },
  {
   "cell_type": "code",
   "execution_count": 52,
   "metadata": {
    "scrolled": true
   },
   "outputs": [
    {
     "name": "stdout",
     "output_type": "stream",
     "text": [
      "average word count per sentence:  9.347228082018395\n"
     ]
    }
   ],
   "source": [
    "print(\"average word count per sentence: \", words_per_sent.mean())"
   ]
  },
  {
   "cell_type": "markdown",
   "metadata": {},
   "source": [
    "#### alternativ: count words "
   ]
  },
  {
   "cell_type": "code",
   "execution_count": 53,
   "metadata": {},
   "outputs": [
    {
     "data": {
      "text/plain": [
       "sentnr\n",
       "1        8\n",
       "2        3\n",
       "3        4\n",
       "4        7\n",
       "5        8\n",
       "        ..\n",
       "11847    5\n",
       "11848    3\n",
       "11849    1\n",
       "11850    3\n",
       "11851    7\n",
       "Length: 11851, dtype: int64"
      ]
     },
     "execution_count": 53,
     "metadata": {},
     "output_type": "execute_result"
    }
   ],
   "source": [
    "#alternativ: count words (wenn keine nr-Daten gegeben)\n",
    "words_per_sent_count = df.groupby(['sentnr'], sort=False).size()\n",
    "words_per_sent_count"
   ]
  },
  {
   "cell_type": "code",
   "execution_count": 54,
   "metadata": {},
   "outputs": [
    {
     "name": "stdout",
     "output_type": "stream",
     "text": [
      "average word count per sentence:  9.347228082018395\n"
     ]
    }
   ],
   "source": [
    "print(\"average word count per sentence: \", words_per_sent_count.mean())"
   ]
  },
  {
   "cell_type": "markdown",
   "metadata": {},
   "source": [
    "#### Plotting"
   ]
  },
  {
   "cell_type": "code",
   "execution_count": 55,
   "metadata": {},
   "outputs": [
    {
     "data": {
      "text/plain": [
       "sentnr\n",
       "3445     237\n",
       "10739     91\n",
       "11656     82\n",
       "10564     76\n",
       "10688     75\n",
       "        ... \n",
       "6618       1\n",
       "867        1\n",
       "2962       1\n",
       "1796       1\n",
       "3578       1\n",
       "Name: nr, Length: 11851, dtype: int64"
      ]
     },
     "execution_count": 55,
     "metadata": {},
     "output_type": "execute_result"
    }
   ],
   "source": [
    "words_per_sent.sort_values(ascending=False)"
   ]
  },
  {
   "cell_type": "code",
   "execution_count": 56,
   "metadata": {},
   "outputs": [
    {
     "data": {
      "text/plain": [
       "'et ipse Iesus erat incipiens quasi annorum triginta ut putabatur filius Ioseph qui fuit Heli qui fuit Matthat qui fuit Levi qui fuit Melchi qui fuit Iannae qui fuit Ioseph qui fuit Matthathiae qui fuit Amos qui fuit Naum qui fuit Esli qui fuit Naggae qui fuit Maath qui fuit Matthathiae qui fuit Semei qui fuit Iosech qui fuit Ioda qui fuit Iohanna qui fuit Resa qui fuit Zorobabel qui fuit Salathihel qui fuit Neri qui fuit Melchi qui fuit Addi qui fuit Cosam qui fuit Helmadam qui fuit Her qui fuit Iesu qui fuit Eliezer qui fuit Iorim qui fuit Matthat qui fuit Levi qui fuit Symeon qui fuit Iuda qui fuit Ioseph qui fuit Iona qui fuit Eliachim qui fuit Melea qui fuit Menna qui fuit Matthata qui fuit Nathan qui fuit David qui fuit Iesse qui fuit Obed qui fuit Booz qui fuit Salmon qui fuit Naasson qui fuit Aminadab qui fuit Aram qui fuit Esrom qui fuit Phares qui fuit Iudae qui fuit Iacob qui fuit Isaac qui fuit Abraham qui fuit Thare qui fuit Nachor qui fuit Seruch qui fuit Ragau qui fuit Phalec qui fuit Eber qui fuit Sale qui fuit Cainan qui fuit Arfaxat qui fuit Sem qui fuit Noe qui fuit Lamech qui fuit Mathusalae qui fuit Enoch qui fuit Iared qui fuit Malelehel qui fuit Cainan qui fuit Enos qui fuit Seth qui fuit Adam qui fuit Dei'"
      ]
     },
     "execution_count": 56,
     "metadata": {},
     "output_type": "execute_result"
    }
   ],
   "source": [
    "df[df['sentnr'] == 3445].token.str.cat(sep=' ')"
   ]
  },
  {
   "cell_type": "code",
   "execution_count": 57,
   "metadata": {
    "scrolled": true
   },
   "outputs": [
    {
     "data": {
      "text/plain": [
       "<matplotlib.axes._subplots.AxesSubplot at 0x125cd18d0>"
      ]
     },
     "execution_count": 57,
     "metadata": {},
     "output_type": "execute_result"
    },
    {
     "data": {
      "image/png": "[encoded data removed]",
      "text/plain": [
       "<matplotlib.figure.Figure at 0x127e74128>"
      ]
     },
     "metadata": {},
     "output_type": "display_data"
    }
   ],
   "source": [
    "words_per_sent.where(words_per_sent  < 30).hist()"
   ]
  }
 ],
 "metadata": {
  "kernelspec": {
   "display_name": "Python 3",
   "language": "python",
   "name": "python3"
  },
  "language_info": {
   "codemirror_mode": {
    "name": "ipython",
    "version": 3
   },
   "file_extension": ".py",
   "mimetype": "text/x-python",
   "name": "python",
   "nbconvert_exporter": "python",
   "pygments_lexer": "ipython3",
   "version": "3.6.1"
  }
 },
 "nbformat": 4,
 "nbformat_minor": 2
}
