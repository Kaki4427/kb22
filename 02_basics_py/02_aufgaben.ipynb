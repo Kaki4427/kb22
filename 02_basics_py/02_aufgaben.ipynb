{
 "cells": [
  {
   "cell_type": "markdown",
   "metadata": {
    "tags": []
   },
   "source": [
    "\n",
    "# Übungsaufgaben 2\n"
   ]
  },
  {
   "cell_type": "markdown",
   "metadata": {
    "tags": []
   },
   "source": [
    "## Aufgabe 1 (Frequenzliste mit Python)\n",
    "In der Vorlesung wurde die Frequenzliste mit der NLTK-Funktion `FreqDist()` berechnet. \n",
    "\n",
    "Berechnen Sie für folgende Tokenliste jeweils die Frequenzliste:"
   ]
  },
  {
   "cell_type": "code",
   "execution_count": 1,
   "metadata": {},
   "outputs": [],
   "source": [
    "text = ['Call', 'me', 'Ishmael', '.', 'Call', 'me', 'Ahab', '.', 'Call', 'him', 'Ahab', '.']"
   ]
  },
  {
   "cell_type": "markdown",
   "metadata": {},
   "source": [
    "#### (mit NLTK/FreqDist)"
   ]
  },
  {
   "cell_type": "code",
   "execution_count": 2,
   "metadata": {},
   "outputs": [
    {
     "data": {
      "text/plain": [
       "FreqDist({'.': 3, 'Ahab': 2, 'Call': 3, 'Ishmael': 1, 'him': 1, 'me': 2})"
      ]
     },
     "execution_count": 2,
     "metadata": {},
     "output_type": "execute_result"
    }
   ],
   "source": [
    "from nltk import FreqDist\n",
    "fd = FreqDist(text)\n",
    "fd"
   ]
  },
  {
   "cell_type": "markdown",
   "metadata": {},
   "source": [
    "### 1a: mit Python"
   ]
  },
  {
   "cell_type": "code",
   "execution_count": 3,
   "metadata": {},
   "outputs": [
    {
     "name": "stdout",
     "output_type": "stream",
     "text": [
      "{'Call': 3, 'me': 2, 'Ishmael': 1, '.': 3, 'Ahab': 2, 'him': 1}\n"
     ]
    }
   ],
   "source": [
    "#dictionary comprehension:\n",
    "def countwords_dict(text):\n",
    "    counts = {t:0 for t in text}    \n",
    "    for i in text: counts[i] += 1\n",
    "    return counts\n",
    "\n",
    "print(countwords_dict(text))"
   ]
  },
  {
   "cell_type": "code",
   "execution_count": 4,
   "metadata": {
    "scrolled": false
   },
   "outputs": [
    {
     "name": "stdout",
     "output_type": "stream",
     "text": [
      "defaultdict(<class 'int'>, {'Call': 3, 'me': 2, 'Ishmael': 1, '.': 3, 'Ahab': 2, 'him': 1})\n"
     ]
    }
   ],
   "source": [
    "#defaultdict:\n",
    "from collections import defaultdict\n",
    "\n",
    "def countwords_defdict(text):\n",
    "    counts = defaultdict(int)\n",
    "    for t in text: counts[t] += 1\n",
    "    return counts\n",
    "        \n",
    "print(countwords_defdict(text))"
   ]
  },
  {
   "cell_type": "code",
   "execution_count": 5,
   "metadata": {},
   "outputs": [
    {
     "name": "stdout",
     "output_type": "stream",
     "text": [
      "{'Call': 3, 'me': 2, 'Ishmael': 1, '.': 3, 'Ahab': 2, 'him': 1}\n"
     ]
    }
   ],
   "source": [
    "#try/except:\n",
    "def countwords_try(text):\n",
    "    counts = {} \n",
    "    for t in text: \n",
    "        try: counts[t] += 1 \n",
    "        except: counts[t] = 1\n",
    "    return counts\n",
    "\n",
    "print(countwords_try(text))"
   ]
  },
  {
   "cell_type": "code",
   "execution_count": 6,
   "metadata": {},
   "outputs": [
    {
     "name": "stdout",
     "output_type": "stream",
     "text": [
      "{'Call': 3, 'me': 2, 'Ishmael': 1, '.': 3, 'Ahab': 2, 'him': 1}\n"
     ]
    }
   ],
   "source": [
    "#if/else:\n",
    "def countwords_if(text):\n",
    "    counts = {}\n",
    "    for t in text:\n",
    "        if t not in counts: counts[t] = 1\n",
    "        else: counts[t] += 1\n",
    "    return counts\n",
    "        \n",
    "print(countwords_if(text))"
   ]
  },
  {
   "cell_type": "code",
   "execution_count": 7,
   "metadata": {},
   "outputs": [
    {
     "name": "stdout",
     "output_type": "stream",
     "text": [
      "{'him': 1, 'me': 2, '.': 3, 'Ahab': 2, 'Ishmael': 1, 'Call': 3}\n"
     ]
    }
   ],
   "source": [
    "#set+count:\n",
    "def countwords_set(text):\n",
    "    word_set = set(text)\n",
    "    counts = {}\n",
    "    for t in word_set: counts[t] = text.count(t) \n",
    "    return counts\n",
    "\n",
    "print(countwords_set(text))"
   ]
  },
  {
   "cell_type": "markdown",
   "metadata": {},
   "source": [
    "##### 1d: Efficiency Tests"
   ]
  },
  {
   "cell_type": "code",
   "execution_count": 8,
   "metadata": {},
   "outputs": [
    {
     "data": {
      "text/plain": [
       "['die',\n",
       " 'wahlverwandtschaften',\n",
       " 'ein',\n",
       " 'roman',\n",
       " 'von',\n",
       " 'johann',\n",
       " 'wolfgang',\n",
       " 'von',\n",
       " 'goethe']"
      ]
     },
     "execution_count": 8,
     "metadata": {},
     "output_type": "execute_result"
    }
   ],
   "source": [
    "from nltk.tokenize import word_tokenize\n",
    "raw_wahlverw = open('wahlverwandschaften.txt').read().lower()\n",
    "wahlverw = word_tokenize(raw_wahlverw)\n",
    "wahlverw[0:9]"
   ]
  },
  {
   "cell_type": "code",
   "execution_count": 9,
   "metadata": {},
   "outputs": [],
   "source": [
    "import timeit, functools"
   ]
  },
  {
   "cell_type": "code",
   "execution_count": 10,
   "metadata": {},
   "outputs": [
    {
     "name": "stdout",
     "output_type": "stream",
     "text": [
      "0.007468117051757872\n"
     ]
    }
   ],
   "source": [
    "t = timeit.Timer(functools.partial(FreqDist, wahlverw)) #NLTK.FreqDist()\n",
    "print(t.timeit(5)) #number of executions"
   ]
  },
  {
   "cell_type": "code",
   "execution_count": 11,
   "metadata": {},
   "outputs": [
    {
     "name": "stdout",
     "output_type": "stream",
     "text": [
      "0.01400143199134618\n"
     ]
    }
   ],
   "source": [
    "t = timeit.Timer(functools.partial(countwords_dict, wahlverw))\n",
    "print(t.timeit(5))"
   ]
  },
  {
   "cell_type": "code",
   "execution_count": 12,
   "metadata": {},
   "outputs": [
    {
     "name": "stdout",
     "output_type": "stream",
     "text": [
      "0.012836566078476608\n"
     ]
    }
   ],
   "source": [
    "t = timeit.Timer(functools.partial(countwords_defdict, wahlverw))\n",
    "print(t.timeit(5))"
   ]
  },
  {
   "cell_type": "code",
   "execution_count": 13,
   "metadata": {},
   "outputs": [
    {
     "name": "stdout",
     "output_type": "stream",
     "text": [
      "0.014851063024252653\n"
     ]
    }
   ],
   "source": [
    "t = timeit.Timer(functools.partial(countwords_try, wahlverw))\n",
    "print(t.timeit(5))"
   ]
  },
  {
   "cell_type": "code",
   "execution_count": 14,
   "metadata": {},
   "outputs": [
    {
     "name": "stdout",
     "output_type": "stream",
     "text": [
      "0.01236682990565896\n"
     ]
    }
   ],
   "source": [
    "t = timeit.Timer(functools.partial(countwords_if, wahlverw))\n",
    "print(t.timeit(5))"
   ]
  },
  {
   "cell_type": "code",
   "execution_count": 15,
   "metadata": {},
   "outputs": [
    {
     "name": "stdout",
     "output_type": "stream",
     "text": [
      "2.8465699050575495\n"
     ]
    }
   ],
   "source": [
    "t = timeit.Timer(functools.partial(countwords_set, wahlverw))\n",
    "print(t.timeit(5)) #count() inefficient.."
   ]
  },
  {
   "cell_type": "markdown",
   "metadata": {},
   "source": [
    "### 1b: mit Counter (Collection)\n",
    "\n",
    "https://docs.python.org/3/library/collections.html"
   ]
  },
  {
   "cell_type": "code",
   "execution_count": 16,
   "metadata": {},
   "outputs": [
    {
     "name": "stdout",
     "output_type": "stream",
     "text": [
      "Counter({'Call': 3, '.': 3, 'me': 2, 'Ahab': 2, 'Ishmael': 1, 'him': 1})\n"
     ]
    }
   ],
   "source": [
    "# Counter (Collection):\n",
    "from collections import Counter\n",
    "\n",
    "def countwords_counter(text):\n",
    "    counts = Counter(text)\n",
    "    return counts\n",
    "\n",
    "print(countwords_counter(text))"
   ]
  },
  {
   "cell_type": "code",
   "execution_count": 17,
   "metadata": {},
   "outputs": [
    {
     "data": {
      "text/plain": [
       "[('Call', 3), ('.', 3), ('me', 2)]"
      ]
     },
     "execution_count": 17,
     "metadata": {},
     "output_type": "execute_result"
    }
   ],
   "source": [
    "countwords_counter(text).most_common(3)"
   ]
  },
  {
   "cell_type": "code",
   "execution_count": 18,
   "metadata": {},
   "outputs": [
    {
     "name": "stdout",
     "output_type": "stream",
     "text": [
      "0.006068342016078532\n"
     ]
    }
   ],
   "source": [
    "t = timeit.Timer(functools.partial(countwords_counter, wahlverw))\n",
    "print(t.timeit(5)) #Counter most efficient"
   ]
  },
  {
   "cell_type": "markdown",
   "metadata": {},
   "source": [
    "## Aufgabe 2 (Tokenisierung mit Python und NLTK)\n",
    "\n",
    "Führen Sie auf `wahlverwandschaften.txt` verschiedene Varianten einer Tokenisierung durch. Verwenden Sie: \n",
    "\n",
    "\n",
    "- `split()`\n",
    "- `re.findall()`\n",
    "- `nltk.word_tokenize()`\n",
    "- `nltk.regexp_tokenize()` (siehe https://www.nltk.org/book/ch03.html)\n",
    "\n",
    "\n",
    "siehe auch https://www.nltk.org/book/ch03.html#sec-tokenization"
   ]
  },
  {
   "cell_type": "markdown",
   "metadata": {},
   "source": [
    "### split():"
   ]
  },
  {
   "cell_type": "code",
   "execution_count": 19,
   "metadata": {},
   "outputs": [
    {
     "data": {
      "text/plain": [
       "'!\"#$%&\\'()*+,-./:;<=>?@[\\\\]^_`{|}~'"
      ]
     },
     "execution_count": 19,
     "metadata": {},
     "output_type": "execute_result"
    }
   ],
   "source": [
    "import string\n",
    "punc = string.punctuation\n",
    "punc"
   ]
  },
  {
   "cell_type": "code",
   "execution_count": 20,
   "metadata": {},
   "outputs": [],
   "source": [
    "text = open('wahlverwandschaften.txt').read().lower()"
   ]
  },
  {
   "cell_type": "code",
   "execution_count": 21,
   "metadata": {},
   "outputs": [
    {
     "name": "stdout",
     "output_type": "stream",
     "text": [
      "['die', 'wahlverwandtschaften', 'ein', 'roman', 'von', 'johann', 'wolfgang', 'von', 'goethe', 'erster', 'teil', 'erstes', 'kapitel', 'eduard—so', 'nennen', 'wir', 'einen', 'reichen', 'baron', 'im', 'besten', 'mannesalter—eduard', 'hatte', 'in', 'seiner', 'baumschule', 'die', 'schönste', 'stunde', 'eines', 'aprilnachmittags', 'zugebracht', 'um', 'frisch', 'erhaltene', 'pfropfreiser', 'auf', 'junge', 'stämme', 'zu', 'bringen', 'sein', 'geschäft', 'war', 'eben', 'vollendet', 'er', 'legte', 'die', 'gerätschaften']\n"
     ]
    }
   ],
   "source": [
    "words = ''.join([t for t in text if not t in punc]).split()\n",
    "print(words[0:50])"
   ]
  },
  {
   "cell_type": "code",
   "execution_count": 22,
   "metadata": {},
   "outputs": [
    {
     "data": {
      "text/plain": [
       "[('und', 331), ('die', 256), ('zu', 184), ('der', 183), ('sie', 163)]"
      ]
     },
     "execution_count": 22,
     "metadata": {},
     "output_type": "execute_result"
    }
   ],
   "source": [
    "Counter(words).most_common(5)"
   ]
  },
  {
   "cell_type": "code",
   "execution_count": 23,
   "metadata": {},
   "outputs": [
    {
     "name": "stdout",
     "output_type": "stream",
     "text": [
      "['die', 'wahlverwandtschaften', 'ein', 'roman', 'von', 'johann', 'wolfgang', 'von', 'goethe', 'erster', 'teil', 'erstes', 'kapitel', 'eduard', 'so', 'nennen', 'wir', 'einen', 'reichen', 'baron', 'im', 'besten', 'mannesalter', 'eduard', 'hatte', 'in', 'seiner', 'baumschule', 'die', 'schönste', 'stunde', 'eines', 'aprilnachmittags', 'zugebracht', 'um', 'frisch', 'erhaltene', 'pfropfreiser', 'auf', 'junge', 'stämme', 'zu', 'bringen', 'sein', 'geschäft', 'war', 'eben', 'vollendet', 'er', 'legte']\n"
     ]
    }
   ],
   "source": [
    "#mit Trennung Gedankenstriche (ohne RegExp):\n",
    "text = text.replace(\"—\", \" \")\n",
    "words = ''.join([t for t in text if not t in punc]).split()\n",
    "print(words[0:50])"
   ]
  },
  {
   "cell_type": "code",
   "execution_count": 24,
   "metadata": {},
   "outputs": [
    {
     "data": {
      "text/plain": [
       "[('und', 334), ('die', 256), ('zu', 184), ('der', 183), ('sie', 163)]"
      ]
     },
     "execution_count": 24,
     "metadata": {},
     "output_type": "execute_result"
    }
   ],
   "source": [
    "Counter(words).most_common(5)"
   ]
  },
  {
   "cell_type": "code",
   "execution_count": 25,
   "metadata": {},
   "outputs": [
    {
     "name": "stdout",
     "output_type": "stream",
     "text": [
      "['die', 'wahlverwandtschaften', 'ein', 'roman', 'von', 'johann', 'wolfgang', 'von', 'goethe', 'erster', 'teil', 'erstes', 'kapitel', 'eduard', 'so', 'nennen', 'wir', 'einen', 'reichen', 'baron', 'im', 'besten', 'mannesalter', 'eduard', 'hatte', 'in', 'seiner', 'baumschule', 'die', 'schönste', 'stunde', 'eines', 'aprilnachmittags', 'zugebracht', ',', 'um', 'frisch', 'erhaltene', 'pfropfreiser', 'auf', 'junge', 'stämme', 'zu', 'bringen', '.', 'sein', 'geschäft', 'war', 'eben', 'vollendet']\n"
     ]
    }
   ],
   "source": [
    "#mit Punctuation (einfache Lösung, die z.B. Abkürzungen wie 'Mr.' nicht korrekt behandelt):\n",
    "words = ''.join([' '+t if t in punc else t for t in text]).split()\n",
    "print(words[0:50])"
   ]
  },
  {
   "cell_type": "code",
   "execution_count": 26,
   "metadata": {},
   "outputs": [
    {
     "data": {
      "text/plain": [
       "[(',', 1229), ('.', 430), ('und', 334), ('die', 256), ('zu', 184)]"
      ]
     },
     "execution_count": 26,
     "metadata": {},
     "output_type": "execute_result"
    }
   ],
   "source": [
    "Counter(words).most_common(5)"
   ]
  },
  {
   "cell_type": "markdown",
   "metadata": {},
   "source": [
    "### re.findall():"
   ]
  },
  {
   "cell_type": "code",
   "execution_count": 27,
   "metadata": {},
   "outputs": [],
   "source": [
    "import re"
   ]
  },
  {
   "cell_type": "code",
   "execution_count": 28,
   "metadata": {},
   "outputs": [],
   "source": [
    "text = open('wahlverwandschaften.txt').read().lower()"
   ]
  },
  {
   "cell_type": "code",
   "execution_count": 29,
   "metadata": {},
   "outputs": [
    {
     "name": "stdout",
     "output_type": "stream",
     "text": [
      "['die', 'wahlverwandtschaften', 'ein', 'roman', 'von', 'johann', 'wolfgang', 'von', 'goethe', 'erster', 'teil', 'erstes', 'kapitel', 'eduard', 'so', 'nennen', 'wir', 'einen', 'reichen', 'baron', 'im', 'besten', 'mannesalter', 'eduard', 'hatte', 'in', 'seiner', 'baumschule', 'die', 'schönste', 'stunde', 'eines', 'aprilnachmittags', 'zugebracht', 'um', 'frisch', 'erhaltene', 'pfropfreiser', 'auf', 'junge', 'stämme', 'zu', 'bringen', 'sein', 'geschäft', 'war', 'eben', 'vollendet', 'er', 'legte']\n"
     ]
    }
   ],
   "source": [
    "words = re.findall(r'[\\w]+', text)\n",
    "print(words[0:50])"
   ]
  },
  {
   "cell_type": "code",
   "execution_count": 30,
   "metadata": {},
   "outputs": [
    {
     "data": {
      "text/plain": [
       "[('und', 345), ('die', 258), ('der', 187), ('zu', 184), ('sie', 166)]"
      ]
     },
     "execution_count": 30,
     "metadata": {},
     "output_type": "execute_result"
    }
   ],
   "source": [
    "Counter(words).most_common(5)"
   ]
  },
  {
   "cell_type": "code",
   "execution_count": 31,
   "metadata": {},
   "outputs": [
    {
     "name": "stdout",
     "output_type": "stream",
     "text": [
      "['die', 'wahlverwandtschaften', 'ein', 'roman', 'von', 'johann', 'wolfgang', 'von', 'goethe', 'erster', 'teil', 'erstes', 'kapitel', 'eduard—so', 'nennen', 'wir', 'einen', 'reichen', 'baron', 'im', 'besten', 'mannesalter—eduard', 'hatte', 'in', 'seiner', 'baumschule', 'die', 'schönste', 'stunde', 'eines', 'aprilnachmittags', 'zugebracht', 'um', 'frisch', 'erhaltene', 'pfropfreiser', 'auf', 'junge', 'stämme', 'zu', 'bringen', 'sein', 'geschäft', 'war', 'eben', 'vollendet', 'er', 'legte', 'die', 'gerätschaften']\n"
     ]
    }
   ],
   "source": [
    "#mit Bindestrich-Wörtern (falls gegeben):\n",
    "words = re.findall(r'[\\w\\—\\-]+', text)\n",
    "print(words[0:50])"
   ]
  },
  {
   "cell_type": "code",
   "execution_count": 32,
   "metadata": {},
   "outputs": [
    {
     "data": {
      "text/plain": [
       "[('und', 342), ('die', 258), ('der', 187), ('zu', 184), ('sie', 166)]"
      ]
     },
     "execution_count": 32,
     "metadata": {},
     "output_type": "execute_result"
    }
   ],
   "source": [
    "Counter(words).most_common(5)"
   ]
  },
  {
   "cell_type": "code",
   "execution_count": 33,
   "metadata": {},
   "outputs": [
    {
     "name": "stdout",
     "output_type": "stream",
     "text": [
      "['die', 'wahlverwandtschaften', 'ein', 'roman', 'von', 'johann', 'wolfgang', 'von', 'goethe', 'erster', 'teil', 'erstes', 'kapitel', 'eduard', '—', 'so', 'nennen', 'wir', 'einen', 'reichen', 'baron', 'im', 'besten', 'mannesalter', '—', 'eduard', 'hatte', 'in', 'seiner', 'baumschule', 'die', 'schönste', 'stunde', 'eines', 'aprilnachmittags', 'zugebracht', ',', 'um', 'frisch', 'erhaltene', 'pfropfreiser', 'auf', 'junge', 'stämme', 'zu', 'bringen', '.', 'sein', 'geschäft', 'war']\n"
     ]
    }
   ],
   "source": [
    "#mit Punctuation:\n",
    "words = re.findall(r'\\w+|[^\\w\\s]+', text) \n",
    "print(words[0:50])\n",
    "#entspricht wordpunct_tokenize als einfachem NLTK-RegExp-Parser: https://www.nltk.org/api/nltk.tokenize.html"
   ]
  },
  {
   "cell_type": "code",
   "execution_count": 34,
   "metadata": {},
   "outputs": [
    {
     "data": {
      "text/plain": [
       "[(',', 1140), ('und', 345), ('.', 340), ('die', 258), ('„', 212)]"
      ]
     },
     "execution_count": 34,
     "metadata": {},
     "output_type": "execute_result"
    }
   ],
   "source": [
    "Counter(words).most_common(5)"
   ]
  },
  {
   "cell_type": "markdown",
   "metadata": {},
   "source": [
    "### nltk.wordpunct_tokenize():"
   ]
  },
  {
   "cell_type": "code",
   "execution_count": 35,
   "metadata": {},
   "outputs": [],
   "source": [
    "from nltk.tokenize import wordpunct_tokenize"
   ]
  },
  {
   "cell_type": "code",
   "execution_count": 36,
   "metadata": {},
   "outputs": [],
   "source": [
    "text = open('wahlverwandschaften.txt').read().lower()"
   ]
  },
  {
   "cell_type": "code",
   "execution_count": 37,
   "metadata": {},
   "outputs": [
    {
     "name": "stdout",
     "output_type": "stream",
     "text": [
      "['die', 'wahlverwandtschaften', 'ein', 'roman', 'von', 'johann', 'wolfgang', 'von', 'goethe', 'erster', 'teil', 'erstes', 'kapitel', 'eduard', '—', 'so', 'nennen', 'wir', 'einen', 'reichen', 'baron', 'im', 'besten', 'mannesalter', '—', 'eduard', 'hatte', 'in', 'seiner', 'baumschule', 'die', 'schönste', 'stunde', 'eines', 'aprilnachmittags', 'zugebracht', ',', 'um', 'frisch', 'erhaltene', 'pfropfreiser', 'auf', 'junge', 'stämme', 'zu', 'bringen', '.', 'sein', 'geschäft', 'war']\n"
     ]
    }
   ],
   "source": [
    "#verwendet TreebankWordTokenizer: https://www.nltk.org/api/nltk.tokenize.treebank.html#nltk.tokenize.treebank.TreebankWordTokenizer\n",
    "words = wordpunct_tokenize(text)\n",
    "print(words[0:50])"
   ]
  },
  {
   "cell_type": "code",
   "execution_count": 38,
   "metadata": {},
   "outputs": [
    {
     "data": {
      "text/plain": [
       "[(',', 1140), ('und', 345), ('.', 340), ('die', 258), ('„', 212)]"
      ]
     },
     "execution_count": 38,
     "metadata": {},
     "output_type": "execute_result"
    }
   ],
   "source": [
    "Counter(words).most_common(5)"
   ]
  },
  {
   "cell_type": "code",
   "execution_count": 60,
   "metadata": {},
   "outputs": [
    {
     "name": "stdout",
     "output_type": "stream",
     "text": [
      "['Mr', '.', 'Smith', ':', 'Good', 'muffins', 'cost', '$', '3', '.', '88', 'in', 'New', 'York', '.', 'Please', 'buy', 'me', 'two', 'of', 'them', '.', 'Thanks', '.']\n"
     ]
    }
   ],
   "source": [
    "# erkennt keine Abkürzungen etc.:\n",
    "s = '''Mr. Smith: Good muffins cost $3.88\\nin New York.  Please buy me\\ntwo of them.\\nThanks.'''\n",
    "words = wordpunct_tokenize(s)\n",
    "print(words[0:50])"
   ]
  },
  {
   "cell_type": "markdown",
   "metadata": {},
   "source": [
    "### nltk.word_tokenize():\n",
    "\n",
    "- https://www.nltk.org/api/nltk.tokenize.html\n",
    "- https://www.nltk.org/api/nltk.tokenize.treebank.html#nltk.tokenize.treebank.TreebankWordTokenizer"
   ]
  },
  {
   "cell_type": "code",
   "execution_count": 39,
   "metadata": {},
   "outputs": [],
   "source": [
    "from nltk.tokenize import word_tokenize"
   ]
  },
  {
   "cell_type": "code",
   "execution_count": 40,
   "metadata": {},
   "outputs": [],
   "source": [
    "text = open('wahlverwandschaften.txt').read().lower()"
   ]
  },
  {
   "cell_type": "code",
   "execution_count": 41,
   "metadata": {},
   "outputs": [
    {
     "name": "stdout",
     "output_type": "stream",
     "text": [
      "['die', 'wahlverwandtschaften', 'ein', 'roman', 'von', 'johann', 'wolfgang', 'von', 'goethe', 'erster', 'teil', 'erstes', 'kapitel', 'eduard—so', 'nennen', 'wir', 'einen', 'reichen', 'baron', 'im', 'besten', 'mannesalter—eduard', 'hatte', 'in', 'seiner', 'baumschule', 'die', 'schönste', 'stunde', 'eines', 'aprilnachmittags', 'zugebracht', ',', 'um', 'frisch', 'erhaltene', 'pfropfreiser', 'auf', 'junge', 'stämme', 'zu', 'bringen', '.', 'sein', 'geschäft', 'war', 'eben', 'vollendet', ';', 'er']\n"
     ]
    }
   ],
   "source": [
    "#verwendet TreebankWordTokenizer: https://www.nltk.org/api/nltk.tokenize.treebank.html#nltk.tokenize.treebank.TreebankWordTokenizer\n",
    "words = word_tokenize(text)\n",
    "print(words[0:50])"
   ]
  },
  {
   "cell_type": "code",
   "execution_count": 42,
   "metadata": {},
   "outputs": [
    {
     "data": {
      "text/plain": [
       "[(',', 1229), ('.', 427), ('und', 331), ('die', 256), ('zu', 184)]"
      ]
     },
     "execution_count": 42,
     "metadata": {},
     "output_type": "execute_result"
    }
   ],
   "source": [
    "Counter(words).most_common(5)"
   ]
  },
  {
   "cell_type": "code",
   "execution_count": 61,
   "metadata": {},
   "outputs": [
    {
     "name": "stdout",
     "output_type": "stream",
     "text": [
      "['Mr.', 'Smith', ':', 'Good', 'muffins', 'cost', '$', '3.88', 'in', 'New', 'York', '.', 'Please', 'buy', 'me', 'two', 'of', 'them', '.', 'Thanks', '.']\n"
     ]
    }
   ],
   "source": [
    "# erkennt Abkürzungen etc.:\n",
    "s = '''Mr. Smith: Good muffins cost $3.88\\nin New York.  Please buy me\\ntwo of them.\\nThanks.'''\n",
    "words = word_tokenize(s)\n",
    "print(words[0:50])"
   ]
  },
  {
   "cell_type": "markdown",
   "metadata": {},
   "source": [
    "### nltk.regexp_tokenize():\n",
    "\n",
    "#### Definition eigener RegExp-Tokenizer"
   ]
  },
  {
   "cell_type": "code",
   "execution_count": 43,
   "metadata": {},
   "outputs": [],
   "source": [
    "from nltk import regexp_tokenize"
   ]
  },
  {
   "cell_type": "code",
   "execution_count": 44,
   "metadata": {},
   "outputs": [],
   "source": [
    "# Beispiel: https://www.nltk.org/book/ch03.html\n",
    "text = 'That U.S.A. poster-print costs $12.40...'"
   ]
  },
  {
   "cell_type": "code",
   "execution_count": 45,
   "metadata": {},
   "outputs": [
    {
     "data": {
      "text/plain": [
       "['That', 'U.S.A.', 'poster-print', 'costs', '$12.40', '...']"
      ]
     },
     "execution_count": 45,
     "metadata": {},
     "output_type": "execute_result"
    }
   ],
   "source": [
    "pattern = r'''(?x)     # set flag to allow verbose regexps\n",
    "(?:[A-Z]\\.)+       # abbreviations, e.g. U.S.A.\n",
    "| \\w+(?:-\\w+)*       # words with optional internal hyphens\n",
    "| \\$?\\d+(?:\\.\\d+)?%? # currency and percentages, e.g. $12.40, 82%\n",
    "| \\.\\.\\.             # ellipsis\n",
    "| [][.,;\"'?():-_`]   # these are separate tokens; includes ], [\n",
    "'''\n",
    "regexp_tokenize(text, pattern)"
   ]
  },
  {
   "cell_type": "markdown",
   "metadata": {
    "tags": []
   },
   "source": [
    "## Aufgabe 3 (gefilterte Frequenzliste mit NLTK)"
   ]
  },
  {
   "cell_type": "markdown",
   "metadata": {},
   "source": [
    "Berechnen Sie mit NLTK eine Stopwort-gefilterte Frequenzliste auf dem Brown-Korpus und plotten diese."
   ]
  },
  {
   "cell_type": "code",
   "execution_count": 46,
   "metadata": {},
   "outputs": [
    {
     "data": {
      "text/plain": [
       "['i', 'me', 'my', 'myself', 'we', 'our', 'ours', 'ourselves', 'you']"
      ]
     },
     "execution_count": 46,
     "metadata": {},
     "output_type": "execute_result"
    }
   ],
   "source": [
    "from nltk.corpus import stopwords\n",
    "stop = stopwords.words('english')\n",
    "stop[0:9]"
   ]
  },
  {
   "cell_type": "code",
   "execution_count": 47,
   "metadata": {},
   "outputs": [],
   "source": [
    "from nltk.corpus import brown\n",
    "from nltk import FreqDist\n",
    "import re"
   ]
  },
  {
   "cell_type": "code",
   "execution_count": 48,
   "metadata": {},
   "outputs": [],
   "source": [
    "content_words = [word.lower() for word in brown.words() if (word.lower() not in stop and not re.match(r\"[^\\w]\", word))]\n",
    "fd = FreqDist(content_words)"
   ]
  },
  {
   "cell_type": "code",
   "execution_count": 49,
   "metadata": {},
   "outputs": [
    {
     "data": {
      "text/plain": [
       "[('one', 3292),\n",
       " ('would', 2714),\n",
       " ('said', 1961),\n",
       " ('new', 1635),\n",
       " ('could', 1601),\n",
       " ('time', 1598),\n",
       " ('two', 1412),\n",
       " ('may', 1402),\n",
       " ('first', 1361),\n",
       " ('like', 1292)]"
      ]
     },
     "execution_count": 49,
     "metadata": {},
     "output_type": "execute_result"
    }
   ],
   "source": [
    "fd.most_common(10)"
   ]
  },
  {
   "cell_type": "code",
   "execution_count": 50,
   "metadata": {},
   "outputs": [
    {
     "data": {
      "image/png": "[encoded data removed]",
      "text/plain": [
       "<matplotlib.figure.Figure at 0x123423828>"
      ]
     },
     "metadata": {},
     "output_type": "display_data"
    }
   ],
   "source": [
    "fd.plot(35, cumulative=False)"
   ]
  },
  {
   "cell_type": "markdown",
   "metadata": {},
   "source": [
    "### Aufgabe 4 (Konkordanzen mit Python)\n",
    "\n",
    "Berechnen Sie `wahlverwandschaften.txt` eine zeilenweise Konkordanz mit Python für den Suchterm 'geht'."
   ]
  },
  {
   "cell_type": "code",
   "execution_count": 51,
   "metadata": {},
   "outputs": [
    {
     "data": {
      "text/plain": [
       "['innere, du das äußere und was ins ganze geht. meine einrichtung ist',\n",
       " 'ottilien geht, wie dir mit dem hauptmann. höchst ungern weiß ich das',\n",
       " 'wollte. da es aber einmal nicht in unsern plan geht und man an seinen',\n",
       " 'abends der hauptmann; „nun geht uns aber das notwendigste noch ab, ein']"
      ]
     },
     "execution_count": 51,
     "metadata": {},
     "output_type": "execute_result"
    }
   ],
   "source": [
    "import re\n",
    "matches = re.findall(r\"(^.*\\bgeht\\b.*$)\", open('wahlverwandschaften.txt').read().lower(), re.MULTILINE)\n",
    "matches"
   ]
  },
  {
   "cell_type": "markdown",
   "metadata": {
    "tags": []
   },
   "source": [
    "### Aufgabe 5 (Bigramme mit Python und NLTK)\n",
    "\n",
    "### 5a: Berechnen Sie auf `wahlverwandschaften.txt` eine Bigramm-Liste mit Python."
   ]
  },
  {
   "cell_type": "code",
   "execution_count": 52,
   "metadata": {},
   "outputs": [
    {
     "name": "stdout",
     "output_type": "stream",
     "text": [
      "['die', 'wahlverwandtschaften', 'ein', 'roman', 'von', 'johann', 'wolfgang', 'von', 'goethe', 'erster', 'teil', 'erstes', 'kapitel', 'eduard', 'so', 'nennen', 'wir', 'einen', 'reichen', 'baron', 'im', 'besten', 'mannesalter', 'eduard', 'hatte', 'in', 'seiner', 'baumschule', 'die', 'schönste']\n"
     ]
    }
   ],
   "source": [
    "#Tokenisierung\n",
    "words = re.findall(r'\\w+', open('wahlverwandschaften.txt').read().lower())\n",
    "print(words[0:30])"
   ]
  },
  {
   "cell_type": "code",
   "execution_count": 53,
   "metadata": {},
   "outputs": [
    {
     "name": "stdout",
     "output_type": "stream",
     "text": [
      "[('ein', 'ein'), ('roman', 'roman'), ('von', 'von'), ('johann', 'johann'), ('wolfgang', 'wolfgang'), ('von', 'von'), ('goethe', 'goethe')]\n"
     ]
    }
   ],
   "source": [
    "#zip takes iterables and aggregates them in a tuple:\n",
    "example = ['ein', 'roman', 'von', 'johann', 'wolfgang', 'von', 'goethe']\n",
    "result = zip(example, example)\n",
    "print(list(result))"
   ]
  },
  {
   "cell_type": "code",
   "execution_count": 54,
   "metadata": {},
   "outputs": [
    {
     "name": "stdout",
     "output_type": "stream",
     "text": [
      "[('die', 'wahlverwandtschaften'), ('wahlverwandtschaften', 'ein'), ('ein', 'roman'), ('roman', 'von'), ('von', 'johann'), ('johann', 'wolfgang'), ('wolfgang', 'von'), ('von', 'goethe'), ('goethe', 'erster')]\n"
     ]
    }
   ],
   "source": [
    "paste = zip(words[:-1], words[1:])\n",
    "print(list(paste)[0:9])"
   ]
  },
  {
   "cell_type": "markdown",
   "metadata": {
    "scrolled": false,
    "tags": []
   },
   "source": [
    "### 5b: Testen Sie verschiedene NLTK-Bigramm-Assoziationsmaße und Frequency-Filter für einen Text ihrer Wahl."
   ]
  },
  {
   "cell_type": "code",
   "execution_count": 63,
   "metadata": {},
   "outputs": [],
   "source": [
    "import nltk\n",
    "from nltk.book import *"
   ]
  },
  {
   "cell_type": "code",
   "execution_count": 65,
   "metadata": {},
   "outputs": [],
   "source": [
    "from nltk.collocations import *\n",
    "bigram_measures = nltk.collocations.BigramAssocMeasures()\n",
    "finder = BigramCollocationFinder.from_words(text6)"
   ]
  },
  {
   "cell_type": "code",
   "execution_count": 66,
   "metadata": {},
   "outputs": [
    {
     "data": {
      "text/plain": [
       "[('mumble', 'mumble'),\n",
       " ('clop', 'clop'),\n",
       " ('Burn', 'her'),\n",
       " ('BLACK', 'KNIGHT'),\n",
       " ('FRENCH', 'GUARD'),\n",
       " ('A', 'witch'),\n",
       " ('ha', 'ha'),\n",
       " ('HEAD', 'KNIGHT'),\n",
       " ('SOLDIER', '#'),\n",
       " ('VILLAGER', '#')]"
      ]
     },
     "execution_count": 66,
     "metadata": {},
     "output_type": "execute_result"
    }
   ],
   "source": [
    "finder.apply_freq_filter(20)\n",
    "finder.nbest(bigram_measures.pmi, 10)"
   ]
  },
  {
   "cell_type": "code",
   "execution_count": 67,
   "metadata": {},
   "outputs": [
    {
     "data": {
      "text/plain": [
       "[('ARTHUR', ':'),\n",
       " (\"'\", 's'),\n",
       " (']', '['),\n",
       " ('!', '['),\n",
       " (':', 'Oh'),\n",
       " ('Oh', ','),\n",
       " (\"'\", 't'),\n",
       " ('LAUNCELOT', ':'),\n",
       " ('#', '1'),\n",
       " ('.', 'ARTHUR')]"
      ]
     },
     "execution_count": 67,
     "metadata": {},
     "output_type": "execute_result"
    }
   ],
   "source": [
    "finder.apply_freq_filter(20)\n",
    "finder.nbest(bigram_measures.raw_freq, 10)"
   ]
  }
 ],
 "metadata": {
  "kernelspec": {
   "display_name": "Python 3",
   "language": "python",
   "name": "python3"
  },
  "language_info": {
   "codemirror_mode": {
    "name": "ipython",
    "version": 3
   },
   "file_extension": ".py",
   "mimetype": "text/x-python",
   "name": "python",
   "nbconvert_exporter": "python",
   "pygments_lexer": "ipython3",
   "version": "3.6.1"
  }
 },
 "nbformat": 4,
 "nbformat_minor": 5
}
