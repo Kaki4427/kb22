{
 "cells": [
  {
   "cell_type": "markdown",
   "metadata": {},
   "source": [
    "# 2a: Korpustypen und Korpusverarbeitung mit NLTK\n",
    "\n",
    "- Read & Process NLTK Corpora\n",
    "- Corpus + Lexical Resources in NLTK\n",
    "- Frequency Lists\n",
    "- Concordances \n",
    "- Collocations\n",
    "\n",
    "\n",
    "- https://www.nltk.org/book/ch01.html\n",
    "- https://www.nltk.org/book/ch02.html\n",
    "- https://www.nltk.org/book/ch03.html\n"
   ]
  },
  {
   "cell_type": "markdown",
   "metadata": {},
   "source": [
    "---\n",
    "## Package Info\n",
    "\n",
    "### NLTK (Natural Language Toolkit)\n",
    "\n",
    "https://www.nltk.org/\n",
    "\n",
    "\n",
    "- open source platform for working with language data\n",
    "  - access to ***linguistic resources*** (NLTK Data)\n",
    "  - ***text processing libraries*** for tokenization, stemming, tagging, parsing, semantic reasoning and classification\n",
    "\n",
    "- developed as a teaching tool\n",
    "  - ***hands-on guide (NLTK book)*** introducing the basics of computational linguistics as well as the basics of programming with Python: https://www.nltk.org/book/\n",
    "\n",
    "\n",
    "\n",
    "### numpy (Scientific Computing with Python)\n",
    "\n",
    "https://numpy.org/\n",
    "\n",
    "\n",
    "### matplotlib (Visualization with Python)\n",
    "\n",
    "https://matplotlib.org/\n",
    "\n",
    "\n"
   ]
  },
  {
   "cell_type": "markdown",
   "metadata": {},
   "source": [
    "---\n",
    "\n",
    "## Introduction\n",
    "\n",
    "\n",
    "###  Corpora = large structured sets of texts \n",
    "- metadata: author, year, genre etc.\n",
    "- systematically collected as sample of language use\n",
    "\n",
    "#### Types of corpora\n",
    "- **general purpose corpora** \n",
    "  - BNC (British National Corpus), Brown Corpus\n",
    "  - DeReKo, DWDS, Deutsches Textarchiv\n",
    "- **specialized corpora** (&rarr; specific fields, e.g. law, medical corpora)\n",
    "- **multilingual corpora** (&rarr; machine translation)\n",
    "\n",
    "\n",
    "- https://en.wikipedia.org/wiki/List_of_text_corpora\n",
    "\n",
    "#### Raw Text Corpora vs Annotated Corpora\n",
    "  - POS-annotated (Part-of-Speech, morphological annotation)\n",
    "  - Treebanks (syntactic sentence structure)\n"
   ]
  },
  {
   "cell_type": "markdown",
   "metadata": {},
   "source": [
    "---\n",
    "## Installation NLTK:"
   ]
  },
  {
   "cell_type": "code",
   "execution_count": 1,
   "metadata": {},
   "outputs": [],
   "source": [
    "## Anaconda:\n",
    "#conda install nltk\n",
    "\n",
    "## pip local:\n",
    "#pip install --user -U nltk\n",
    "#oder\n",
    "#pip3 install --user -U nltk\n",
    "\n",
    "## pip system-wide:\n",
    "#sudo -H pip3 install -U pip"
   ]
  },
  {
   "cell_type": "markdown",
   "metadata": {},
   "source": [
    "---\n",
    "## Loading Packages:"
   ]
  },
  {
   "cell_type": "code",
   "execution_count": 2,
   "metadata": {},
   "outputs": [],
   "source": [
    "import nltk, numpy, matplotlib, re"
   ]
  },
  {
   "cell_type": "markdown",
   "metadata": {},
   "source": [
    "---\n",
    "## Download NLTK Corpora and other resources:"
   ]
  },
  {
   "cell_type": "code",
   "execution_count": 3,
   "metadata": {},
   "outputs": [],
   "source": [
    "#nltk.download()\n",
    "##e.g. \"book\""
   ]
  },
  {
   "cell_type": "markdown",
   "metadata": {},
   "source": [
    "---\n",
    "\n",
    "## 1 Read & Process Corpora"
   ]
  },
  {
   "cell_type": "markdown",
   "metadata": {},
   "source": [
    "---\n",
    "\n",
    "### 1.1 Read & Process Single Text\n"
   ]
  },
  {
   "cell_type": "markdown",
   "metadata": {},
   "source": [
    "#### Read Text from File:"
   ]
  },
  {
   "cell_type": "code",
   "execution_count": 4,
   "metadata": {},
   "outputs": [
    {
     "data": {
      "text/plain": [
       "'Call me Ishmael. Some years ago—never mind how long precisely—having little or no money in my purse, and nothing particular to interest me on shore, I thought I would sail about a little and see the watery part of the world.'"
      ]
     },
     "execution_count": 4,
     "metadata": {},
     "output_type": "execute_result"
    }
   ],
   "source": [
    "import io\n",
    "f=open('sample_texts/sample_text.txt','r',encoding='utf8')\n",
    "sample_text=f.read()\n",
    "f.close()\n",
    "sample_text"
   ]
  },
  {
   "cell_type": "markdown",
   "metadata": {},
   "source": [
    "#### Tokenize Text with NLTK: `nltk.word_tokenize()`\n",
    "\n",
    "- Tokenization = splitting string in sections (usually words and punctuation marks)"
   ]
  },
  {
   "cell_type": "code",
   "execution_count": 5,
   "metadata": {},
   "outputs": [
    {
     "data": {
      "text/plain": [
       "['Call', 'me', 'Ishmael', '.', 'Some', 'years', 'ago—never', 'mind', 'how']"
      ]
     },
     "execution_count": 5,
     "metadata": {},
     "output_type": "execute_result"
    }
   ],
   "source": [
    "tokens = nltk.word_tokenize(sample_text)\n",
    "tokens[0:9]"
   ]
  },
  {
   "cell_type": "markdown",
   "metadata": {},
   "source": [
    "---\n",
    "### 1.2 Read Corpus with `nltk.PlaintextCorpusReader`\n",
    "\n",
    "#### Read from Multiple Files (Text Collection):"
   ]
  },
  {
   "cell_type": "code",
   "execution_count": 6,
   "metadata": {},
   "outputs": [
    {
     "data": {
      "text/plain": [
       "<PlaintextCorpusReader in '/Users/axel/Desktop/cis-lehre/cis-korpus-2022/notebooks/02_basics_py/sample_texts'>"
      ]
     },
     "execution_count": 6,
     "metadata": {},
     "output_type": "execute_result"
    }
   ],
   "source": [
    "from nltk.corpus import PlaintextCorpusReader\n",
    "\n",
    "# RegEx or list of file names\n",
    "files = \".*\\.txt\"\n",
    "my_corpus = PlaintextCorpusReader(\"sample_texts\", files)\n",
    "my_corpus"
   ]
  },
  {
   "cell_type": "markdown",
   "metadata": {},
   "source": [
    "#### Access all Words in Corpus with `nltk.words()`"
   ]
  },
  {
   "cell_type": "code",
   "execution_count": 7,
   "metadata": {},
   "outputs": [
    {
     "data": {
      "text/plain": [
       "['Call', 'me', 'Ishmael', '.', 'Some', 'years', 'ago', ...]"
      ]
     },
     "execution_count": 7,
     "metadata": {},
     "output_type": "execute_result"
    }
   ],
   "source": [
    "my_corpus.words()"
   ]
  },
  {
   "cell_type": "code",
   "execution_count": 8,
   "metadata": {},
   "outputs": [
    {
     "data": {
      "text/plain": [
       "130"
      ]
     },
     "execution_count": 8,
     "metadata": {},
     "output_type": "execute_result"
    }
   ],
   "source": [
    "len(my_corpus.words())"
   ]
  },
  {
   "cell_type": "code",
   "execution_count": 9,
   "metadata": {},
   "outputs": [
    {
     "data": {
      "text/plain": [
       "['There', 'now', 'is', 'your', 'insular', 'city', 'of', ...]"
      ]
     },
     "execution_count": 9,
     "metadata": {},
     "output_type": "execute_result"
    }
   ],
   "source": [
    "my_corpus.words('sample_text2.txt')"
   ]
  },
  {
   "cell_type": "code",
   "execution_count": 10,
   "metadata": {},
   "outputs": [
    {
     "data": {
      "text/plain": [
       "81"
      ]
     },
     "execution_count": 10,
     "metadata": {},
     "output_type": "execute_result"
    }
   ],
   "source": [
    "len(my_corpus.words('sample_text2.txt'))"
   ]
  },
  {
   "cell_type": "code",
   "execution_count": 11,
   "metadata": {},
   "outputs": [
    {
     "data": {
      "text/plain": [
       "49"
      ]
     },
     "execution_count": 11,
     "metadata": {},
     "output_type": "execute_result"
    }
   ],
   "source": [
    "len(my_corpus.words('sample_text.txt'))"
   ]
  },
  {
   "cell_type": "markdown",
   "metadata": {},
   "source": [
    "---\n",
    "### 1.3 Basic Methods with `nltk.Text()`:\n",
    "\n",
    "Wrapper around token sequence\n",
    "\n",
    "https://www.nltk.org/api/nltk.text.html#nltk.text.Text\n"
   ]
  },
  {
   "cell_type": "code",
   "execution_count": 12,
   "metadata": {},
   "outputs": [
    {
     "data": {
      "text/plain": [
       "<Text: Call me Ishmael . Some years ago —...>"
      ]
     },
     "execution_count": 12,
     "metadata": {},
     "output_type": "execute_result"
    }
   ],
   "source": [
    "my_corpus_text = nltk.Text(my_corpus.words())\n",
    "my_corpus_text"
   ]
  },
  {
   "cell_type": "code",
   "execution_count": 13,
   "metadata": {},
   "outputs": [
    {
     "data": {
      "text/plain": [
       "['Call', 'me', 'Ishmael', '.', 'Some', 'years', 'ago', '—', 'never']"
      ]
     },
     "execution_count": 13,
     "metadata": {},
     "output_type": "execute_result"
    }
   ],
   "source": [
    "my_corpus_text[0:9]"
   ]
  },
  {
   "cell_type": "code",
   "execution_count": 14,
   "metadata": {},
   "outputs": [
    {
     "data": {
      "text/plain": [
       "nltk.text.Text"
      ]
     },
     "execution_count": 14,
     "metadata": {},
     "output_type": "execute_result"
    }
   ],
   "source": [
    "type(my_corpus_text)"
   ]
  },
  {
   "cell_type": "code",
   "execution_count": 15,
   "metadata": {},
   "outputs": [
    {
     "data": {
      "text/plain": [
       "3"
      ]
     },
     "execution_count": 15,
     "metadata": {},
     "output_type": "execute_result"
    }
   ],
   "source": [
    "my_corpus_text.count('is') #Count the number of times this word appears in the text."
   ]
  },
  {
   "cell_type": "code",
   "execution_count": 16,
   "metadata": {},
   "outputs": [
    {
     "data": {
      "text/plain": [
       "51"
      ]
     },
     "execution_count": 16,
     "metadata": {},
     "output_type": "execute_result"
    }
   ],
   "source": [
    "my_corpus_text.index('is') #Find the index of the first occurrence of the word in the text."
   ]
  },
  {
   "cell_type": "code",
   "execution_count": 17,
   "metadata": {
    "scrolled": true
   },
   "outputs": [
    {
     "name": "stdout",
     "output_type": "stream",
     "text": [
      "Displaying 3 of 3 matches:\n",
      " watery part of the world . There now is your insular city of the Manhattoes ,\n",
      " you waterward . Its extreme downtown is the battery , where that noble mole i\n",
      "s the battery , where that noble mole is washed by waves , and cooled by breez\n"
     ]
    }
   ],
   "source": [
    "my_corpus_text.concordance('is') #Prints a concordance for word with the specified context window. Word matching is not case-sensitive."
   ]
  },
  {
   "cell_type": "code",
   "execution_count": 18,
   "metadata": {},
   "outputs": [
    {
     "name": "stdout",
     "output_type": "stream",
     "text": [
      "There now is\n"
     ]
    }
   ],
   "source": [
    "my_corpus_text.findall('<[Tt]here><.*><is>') #Find instances of the regular expression in the text. The text is a list of tokens, and a regexp pattern to match a single token must be surrounded by angle brackets. "
   ]
  },
  {
   "cell_type": "code",
   "execution_count": 19,
   "metadata": {
    "scrolled": false
   },
   "outputs": [
    {
     "data": {
      "text/plain": [
       "{'.': 6,\n",
       " 'Call': 1,\n",
       " 'Ishmael': 1,\n",
       " 'Some': 1,\n",
       " 'ago': 1,\n",
       " 'me': 2,\n",
       " 'mind': 1,\n",
       " 'never': 1,\n",
       " 'years': 1,\n",
       " '—': 3}"
      ]
     },
     "execution_count": 19,
     "metadata": {},
     "output_type": "execute_result"
    }
   ],
   "source": [
    "vocabulary = my_corpus_text.vocab()\n",
    "dict(list(vocabulary.items())[0:10])"
   ]
  },
  {
   "cell_type": "code",
   "execution_count": 20,
   "metadata": {},
   "outputs": [
    {
     "data": {
      "text/plain": [
       "nltk.probability.FreqDist"
      ]
     },
     "execution_count": 20,
     "metadata": {},
     "output_type": "execute_result"
    }
   ],
   "source": [
    "type(vocabulary) #entspricht FreqDist auf Tokens, s.u."
   ]
  },
  {
   "cell_type": "code",
   "execution_count": 21,
   "metadata": {},
   "outputs": [
    {
     "data": {
      "text/plain": [
       "{'.': 6,\n",
       " 'Call': 1,\n",
       " 'Ishmael': 1,\n",
       " 'Some': 1,\n",
       " 'ago': 1,\n",
       " 'me': 2,\n",
       " 'mind': 1,\n",
       " 'never': 1,\n",
       " 'years': 1,\n",
       " '—': 3}"
      ]
     },
     "execution_count": 21,
     "metadata": {},
     "output_type": "execute_result"
    }
   ],
   "source": [
    "from nltk import FreqDist\n",
    "dict(list(FreqDist(my_corpus.words()).items())[0:10])"
   ]
  },
  {
   "cell_type": "markdown",
   "metadata": {},
   "source": [
    "---\n",
    "## 2. Corpus Resources in NLTK\n",
    "\n",
    "https://www.nltk.org/howto/corpus.html#corpus-readers"
   ]
  },
  {
   "cell_type": "markdown",
   "metadata": {},
   "source": [
    "---\n",
    "### 2. 1 Plain Text Corpora\n",
    "\n",
    "####  Texts as &rarr; Lists of Words (**Tokenized Text**)\n",
    "https://www.nltk.org/book/ch01.html"
   ]
  },
  {
   "cell_type": "code",
   "execution_count": 22,
   "metadata": {},
   "outputs": [
    {
     "data": {
      "text/plain": [
       "['Sense',\n",
       " 'and',\n",
       " 'Sensibility',\n",
       " 'by',\n",
       " 'Jane',\n",
       " 'Austen',\n",
       " '1811',\n",
       " ']',\n",
       " 'CHAPTER',\n",
       " '1',\n",
       " 'The',\n",
       " 'family',\n",
       " 'of',\n",
       " 'Dashwood',\n",
       " 'had',\n",
       " 'long',\n",
       " 'been',\n",
       " 'settled',\n",
       " 'in']"
      ]
     },
     "execution_count": 22,
     "metadata": {},
     "output_type": "execute_result"
    }
   ],
   "source": [
    "text = nltk.corpus.gutenberg.words('austen-sense.txt')\n",
    "text[1:20]"
   ]
  },
  {
   "cell_type": "markdown",
   "metadata": {},
   "source": [
    "---\n",
    "### 2.2 POS Annotated Corpora (POS = Part of Speech)\n",
    "\n",
    "#### &rarr; Tuple lists: `(word, POS)`\n",
    "\n",
    "https://www.nltk.org/howto/corpus.html"
   ]
  },
  {
   "cell_type": "code",
   "execution_count": 23,
   "metadata": {},
   "outputs": [],
   "source": [
    "from nltk.corpus import brown"
   ]
  },
  {
   "cell_type": "code",
   "execution_count": 24,
   "metadata": {},
   "outputs": [
    {
     "name": "stdout",
     "output_type": "stream",
     "text": [
      "[('The', 'AT'), ('Fulton', 'NP-TL'), ...]\n"
     ]
    }
   ],
   "source": [
    "# POS-annotated text as list of tuples (word, pos):\n",
    "print(brown.tagged_words())"
   ]
  },
  {
   "cell_type": "code",
   "execution_count": 25,
   "metadata": {},
   "outputs": [
    {
     "name": "stdout",
     "output_type": "stream",
     "text": [
      "[[('The', 'AT'), ('Fulton', 'NP-TL'), ('County', 'NN-TL'), ('Grand', 'JJ-TL'), ('Jury', 'NN-TL'), ('said', 'VBD'), ('Friday', 'NR'), ('an', 'AT'), ('investigation', 'NN'), ('of', 'IN'), (\"Atlanta's\", 'NP$'), ('recent', 'JJ'), ('primary', 'NN'), ('election', 'NN'), ('produced', 'VBD'), ('``', '``'), ('no', 'AT'), ('evidence', 'NN'), (\"''\", \"''\"), ('that', 'CS'), ('any', 'DTI'), ('irregularities', 'NNS'), ('took', 'VBD'), ('place', 'NN'), ('.', '.')]]\n"
     ]
    }
   ],
   "source": [
    "print(brown.tagged_sents()[:1])"
   ]
  },
  {
   "cell_type": "code",
   "execution_count": 26,
   "metadata": {},
   "outputs": [
    {
     "name": "stdout",
     "output_type": "stream",
     "text": [
      "[[('The', 'DET'), ('Fulton', 'NOUN'), ('County', 'NOUN'), ('Grand', 'ADJ'), ('Jury', 'NOUN'), ('said', 'VERB'), ('Friday', 'NOUN'), ('an', 'DET'), ('investigation', 'NOUN'), ('of', 'ADP'), (\"Atlanta's\", 'NOUN'), ('recent', 'ADJ'), ('primary', 'NOUN'), ('election', 'NOUN'), ('produced', 'VERB'), ('``', '.'), ('no', 'DET'), ('evidence', 'NOUN'), (\"''\", '.'), ('that', 'ADP'), ('any', 'DET'), ('irregularities', 'NOUN'), ('took', 'VERB'), ('place', 'NOUN'), ('.', '.')]]\n"
     ]
    }
   ],
   "source": [
    "print(brown.tagged_sents(tagset='universal')[:1])"
   ]
  },
  {
   "cell_type": "markdown",
   "metadata": {},
   "source": [
    "---\n",
    "### 2.3 Treebanks (Syntactically annotated corpora)\n",
    "\n",
    "#### &rarr; List of Parse Trees"
   ]
  },
  {
   "cell_type": "code",
   "execution_count": 27,
   "metadata": {},
   "outputs": [
    {
     "name": "stdout",
     "output_type": "stream",
     "text": [
      "[('Pierre', 'NNP'), ('Vinken', 'NNP'), (',', ','), ...]\n"
     ]
    }
   ],
   "source": [
    "from nltk.corpus import treebank # Sample of Penn Treebank \n",
    "print(treebank.tagged_words('wsj_0001.mrg'))"
   ]
  },
  {
   "cell_type": "code",
   "execution_count": 28,
   "metadata": {},
   "outputs": [
    {
     "name": "stdout",
     "output_type": "stream",
     "text": [
      "(S\n",
      "  (NP-SBJ\n",
      "    (NP (NNP Pierre) (NNP Vinken))\n",
      "    (, ,)\n",
      "    (ADJP (NP (CD 61) (NNS years)) (JJ old))\n",
      "    (, ,))\n",
      "  (VP\n",
      "    (MD will)\n",
      "    (VP\n",
      "      (VB join)\n",
      "      (NP (DT the) (NN board))\n",
      "      (PP-CLR (IN as) (NP (DT a) (JJ nonexecutive) (NN director)))\n",
      "      (NP-TMP (NNP Nov.) (CD 29))))\n",
      "  (. .))\n"
     ]
    }
   ],
   "source": [
    "# Parsed text as list of trees:\n",
    "print(treebank.parsed_sents('wsj_0001.mrg')[0])"
   ]
  },
  {
   "cell_type": "code",
   "execution_count": 29,
   "metadata": {},
   "outputs": [
    {
     "data": {
      "image/png": "[encoded data removed]",
      "text/plain": [
       "Tree('S', [Tree('NP-SBJ', [Tree('NP', [Tree('NNP', ['Pierre']), Tree('NNP', ['Vinken'])]), Tree(',', [',']), Tree('ADJP', [Tree('NP', [Tree('CD', ['61']), Tree('NNS', ['years'])]), Tree('JJ', ['old'])]), Tree(',', [','])]), Tree('VP', [Tree('MD', ['will']), Tree('VP', [Tree('VB', ['join']), Tree('NP', [Tree('DT', ['the']), Tree('NN', ['board'])]), Tree('PP-CLR', [Tree('IN', ['as']), Tree('NP', [Tree('DT', ['a']), Tree('JJ', ['nonexecutive']), Tree('NN', ['director'])])]), Tree('NP-TMP', [Tree('NNP', ['Nov.']), Tree('CD', ['29'])])])]), Tree('.', ['.'])])"
      ]
     },
     "execution_count": 29,
     "metadata": {},
     "output_type": "execute_result"
    }
   ],
   "source": [
    "treebank.parsed_sents('wsj_0001.mrg')[0]\n",
    "#treebank.parsed_sents('wsj_0001.mrg')[0].pretty_print(unicodelines=True)"
   ]
  },
  {
   "cell_type": "markdown",
   "metadata": {},
   "source": [
    "---\n",
    "### 2.4 Chunk Treebanks (partial, flat analysis of syntactic units)\n",
    "\n",
    "#### Triple lists: &rarr; `(word, POS, IOB-Tag)`\n",
    "\n",
    "https://www.nltk.org/howto/corpus.html\n"
   ]
  },
  {
   "cell_type": "code",
   "execution_count": 30,
   "metadata": {},
   "outputs": [
    {
     "name": "stdout",
     "output_type": "stream",
     "text": [
      "['Over', 'a', 'cup', 'of', 'coffee', ',', 'Mr.', 'Stone', 'told', 'his', 'story', '.']\n"
     ]
    }
   ],
   "source": [
    "from nltk.corpus import conll2000, conll2002\n",
    "print(conll2000.sents()[99])"
   ]
  },
  {
   "cell_type": "code",
   "execution_count": 31,
   "metadata": {},
   "outputs": [
    {
     "name": "stdout",
     "output_type": "stream",
     "text": [
      "[('Over', 'IN', 'B-PP'), ('a', 'DT', 'B-NP'), ('cup', 'NN', 'I-NP'), ('of', 'IN', 'B-PP'), ('coffee', 'NN', 'B-NP'), (',', ',', 'O'), ('Mr.', 'NNP', 'B-NP'), ('Stone', 'NNP', 'I-NP'), ('told', 'VBD', 'B-VP'), ('his', 'PRP$', 'B-NP'), ('story', 'NN', 'I-NP'), ('.', '.', 'O')]\n"
     ]
    }
   ],
   "source": [
    "print(conll2000.iob_sents()[99])"
   ]
  },
  {
   "cell_type": "code",
   "execution_count": 32,
   "metadata": {},
   "outputs": [
    {
     "name": "stdout",
     "output_type": "stream",
     "text": [
      "(S\n",
      "  (PP Over/IN)\n",
      "  (NP a/DT cup/NN)\n",
      "  (PP of/IN)\n",
      "  (NP coffee/NN)\n",
      "  ,/,\n",
      "  (NP Mr./NNP Stone/NNP)\n",
      "  (VP told/VBD)\n",
      "  (NP his/PRP$ story/NN)\n",
      "  ./.)\n"
     ]
    }
   ],
   "source": [
    "print(conll2000.chunked_sents()[99])"
   ]
  },
  {
   "cell_type": "code",
   "execution_count": 33,
   "metadata": {},
   "outputs": [
    {
     "data": {
      "image/png": "[encoded data removed]",
      "text/plain": [
       "Tree('S', [('Over', 'IN'), Tree('NP', [('a', 'DT'), ('cup', 'NN')]), ('of', 'IN'), Tree('NP', [('coffee', 'NN')]), (',', ','), Tree('NP', [('Mr.', 'NNP'), ('Stone', 'NNP')]), ('told', 'VBD'), Tree('NP', [('his', 'PRP$'), ('story', 'NN')]), ('.', '.')])"
      ]
     },
     "execution_count": 33,
     "metadata": {},
     "output_type": "execute_result"
    }
   ],
   "source": [
    "conll2000.chunked_sents(chunk_types=['NP'])[99]\n",
    "#from nltk import Tree\n",
    "#Tree.fromstring(str(conll2000.chunked_sents(chunk_types=['NP'])[99])).pretty_print()"
   ]
  },
  {
   "cell_type": "markdown",
   "metadata": {},
   "source": [
    "---\n",
    "### 2.5 Dependency Treebanks (dependency relations, syntactic functions, e.g. `nsubj`, `obj`)\n",
    "\n",
    "#### Tokenlist with &rarr; Head-Dependency-Relations\n",
    "\n",
    "https://www.nltk.org/howto/corpus.html"
   ]
  },
  {
   "cell_type": "code",
   "execution_count": 34,
   "metadata": {},
   "outputs": [],
   "source": [
    "## http://www.nltk.org/howto/dependency.html\n",
    "from nltk.corpus import dependency_treebank"
   ]
  },
  {
   "cell_type": "code",
   "execution_count": 35,
   "metadata": {
    "scrolled": false
   },
   "outputs": [
    {
     "name": "stdout",
     "output_type": "stream",
     "text": [
      "(is\n",
      "  (Vinken Mr.)\n",
      "  (chairman (of (group (N.V. Elsevier) , the Dutch publishing)))\n",
      "  .) \n",
      "\n",
      "Mr.\tNNP\t2\n",
      "Vinken\tNNP\t3\n",
      "is\tVBZ\t0\n",
      "chairman\tNN\t3\n",
      "of\tIN\t4\n",
      "Elsevier\tNNP\t7\n",
      "N.V.\tNNP\t12\n",
      ",\t,\t12\n",
      "the\tDT\t12\n",
      "Dutch\tNNP\t12\n",
      "publishing\tVBG\t12\n",
      "group\tNN\t5\n",
      ".\t.\t3\n",
      " \n",
      "\n",
      "                is                             \n",
      " ┌────┬─────────┴─────┐                         \n",
      " │    │            chairman                    \n",
      " │    │               │                         \n",
      " │    │               of                       \n",
      " │    │               │                         \n",
      " │    │             group                      \n",
      " │    │     ┌───┬─────┼─────────┬─────────┐     \n",
      " │  Vinken  │   │     │         │        N.V.  \n",
      " │    │     │   │     │         │         │     \n",
      " .   Mr.    ,  the  Dutch   publishing Elsevier\n",
      "\n"
     ]
    }
   ],
   "source": [
    "t = dependency_treebank.parsed_sents()[1]\n",
    "print(t.tree(), \"\\n\")\n",
    "print(t.to_conll(3), \"\\n\")\n",
    "t.tree().pretty_print(unicodelines=True)"
   ]
  },
  {
   "cell_type": "markdown",
   "metadata": {},
   "source": [
    "---\n",
    "### 2.6 Labeled Dependency Corpora\n",
    "\n",
    "##### Universal Dependencies Corpus (German)"
   ]
  },
  {
   "cell_type": "code",
   "execution_count": 36,
   "metadata": {},
   "outputs": [],
   "source": [
    "## first sentence DE-UD-DEV Corpus: https://github.com/UniversalDependencies/UD_German-GSD/tree/master\n",
    "treebank = \"\"\"1\tManasse\tManasse\tPROPN\tNN\tCase=Nom|Gender=Fem|Number=Sing\t5\tnsubj\t_\tNamedEntity=Yes\n",
    "2\tist\tsein\tAUX\tVAFIN\tMood=Ind|Number=Sing|Person=3|Tense=Pres|VerbForm=Fin\t5\tcop\t_\t_\n",
    "3\tein\tein\tDET\tART\tCase=Nom|Definite=Ind|Gender=Masc|Number=Sing|PronType=Art\t5\tdet\t_\t_\n",
    "4\teinzigartiger\teinzigartig\tADJ\tADJA\tCase=Nom|Gender=Masc|Number=Sing\t5\tamod\t_\t_\n",
    "5\tParfümeur\tParfümeur\tNOUN\tNN\tCase=Nom|Gender=Masc|Number=Sing\t0\tROOT\t_\tSpaceAfter=No\n",
    "6\t.\t.\tPUNCT\t$.\t_\t5\tpunct\t_\t_\n",
    "\"\"\""
   ]
  },
  {
   "cell_type": "code",
   "execution_count": 37,
   "metadata": {},
   "outputs": [
    {
     "name": "stdout",
     "output_type": "stream",
     "text": [
      "Manasse\tNN\t5\n",
      "ist\tVAFIN\t5\n",
      "ein\tART\t5\n",
      "einzigartiger\tADJA\t5\n",
      "Parfümeur\tNN\t0\n",
      ".\t$.\t5\n",
      "\n"
     ]
    },
    {
     "data": {
      "image/svg+xml": [
       "<?xml version=\"1.0\" encoding=\"UTF-8\" standalone=\"no\"?>\n",
       "<!DOCTYPE svg PUBLIC \"-//W3C//DTD SVG 1.1//EN\"\n",
       " \"http://www.w3.org/Graphics/SVG/1.1/DTD/svg11.dtd\">\n",
       "<!-- Generated by graphviz version 2.40.1 (20161225.0304)\n",
       " -->\n",
       "<!-- Title: G Pages: 1 -->\n",
       "<svg width=\"432pt\" height=\"216pt\"\n",
       " viewBox=\"0.00 0.00 432.41 216.00\" xmlns=\"http://www.w3.org/2000/svg\" xmlns:xlink=\"http://www.w3.org/1999/xlink\">\n",
       "<g id=\"graph0\" class=\"graph\" transform=\"scale(1 1) rotate(0) translate(4 212)\">\n",
       "<title>G</title>\n",
       "<polygon fill=\"#ffffff\" stroke=\"transparent\" points=\"-4,4 -4,-212 428.4053,-212 428.4053,4 -4,4\"/>\n",
       "<!-- 0 -->\n",
       "<g id=\"node1\" class=\"node\">\n",
       "<title>0</title>\n",
       "<text text-anchor=\"middle\" x=\"201.4053\" y=\"-185.8\" font-family=\"Times,serif\" font-size=\"14.00\" fill=\"#000000\">0 (None)</text>\n",
       "</g>\n",
       "<!-- 5 -->\n",
       "<g id=\"node2\" class=\"node\">\n",
       "<title>5</title>\n",
       "<text text-anchor=\"middle\" x=\"201.4053\" y=\"-99.8\" font-family=\"Times,serif\" font-size=\"14.00\" fill=\"#000000\">5 (Parfümeur)</text>\n",
       "</g>\n",
       "<!-- 0&#45;&gt;5 -->\n",
       "<g id=\"edge1\" class=\"edge\">\n",
       "<title>0&#45;&gt;5</title>\n",
       "<path fill=\"none\" stroke=\"#000000\" d=\"M201.4053,-171.7616C201.4053,-160.3597 201.4053,-145.4342 201.4053,-132.494\"/>\n",
       "<polygon fill=\"#000000\" stroke=\"#000000\" points=\"204.9054,-132.2121 201.4053,-122.2121 197.9054,-132.2121 204.9054,-132.2121\"/>\n",
       "<text text-anchor=\"middle\" x=\"220.4604\" y=\"-142.8\" font-family=\"Times,serif\" font-size=\"14.00\" fill=\"#000000\">ROOT</text>\n",
       "</g>\n",
       "<!-- 1 -->\n",
       "<g id=\"node3\" class=\"node\">\n",
       "<title>1</title>\n",
       "<text text-anchor=\"middle\" x=\"42.4053\" y=\"-13.8\" font-family=\"Times,serif\" font-size=\"14.00\" fill=\"#000000\">1 (Manasse)</text>\n",
       "</g>\n",
       "<!-- 5&#45;&gt;1 -->\n",
       "<g id=\"edge2\" class=\"edge\">\n",
       "<title>5&#45;&gt;1</title>\n",
       "<path fill=\"none\" stroke=\"#000000\" d=\"M162.5175,-85.9133C151.0053,-80.3592 138.4409,-74.0991 127.0674,-68 111.6194,-59.716 94.9424,-50.0328 80.5079,-41.4058\"/>\n",
       "<polygon fill=\"#000000\" stroke=\"#000000\" points=\"82.2146,-38.348 71.8413,-36.1928 78.6064,-44.3465 82.2146,-38.348\"/>\n",
       "<text text-anchor=\"middle\" x=\"142.5742\" y=\"-56.8\" font-family=\"Times,serif\" font-size=\"14.00\" fill=\"#000000\">nsubj</text>\n",
       "</g>\n",
       "<!-- 2 -->\n",
       "<g id=\"node4\" class=\"node\">\n",
       "<title>2</title>\n",
       "<text text-anchor=\"middle\" x=\"129.4053\" y=\"-13.8\" font-family=\"Times,serif\" font-size=\"14.00\" fill=\"#000000\">2 (ist)</text>\n",
       "</g>\n",
       "<!-- 5&#45;&gt;2 -->\n",
       "<g id=\"edge3\" class=\"edge\">\n",
       "<title>5&#45;&gt;2</title>\n",
       "<path fill=\"none\" stroke=\"#000000\" d=\"M186.1359,-85.7616C176.0174,-73.6756 162.5842,-57.6304 151.3296,-44.1874\"/>\n",
       "<polygon fill=\"#000000\" stroke=\"#000000\" points=\"153.7557,-41.6329 144.6526,-36.2121 148.3884,-46.1265 153.7557,-41.6329\"/>\n",
       "<text text-anchor=\"middle\" x=\"180.5122\" y=\"-56.8\" font-family=\"Times,serif\" font-size=\"14.00\" fill=\"#000000\">cop</text>\n",
       "</g>\n",
       "<!-- 3 -->\n",
       "<g id=\"node5\" class=\"node\">\n",
       "<title>3</title>\n",
       "<text text-anchor=\"middle\" x=\"201.4053\" y=\"-13.8\" font-family=\"Times,serif\" font-size=\"14.00\" fill=\"#000000\">3 (ein)</text>\n",
       "</g>\n",
       "<!-- 5&#45;&gt;3 -->\n",
       "<g id=\"edge4\" class=\"edge\">\n",
       "<title>5&#45;&gt;3</title>\n",
       "<path fill=\"none\" stroke=\"#000000\" d=\"M201.4053,-85.7616C201.4053,-74.3597 201.4053,-59.4342 201.4053,-46.494\"/>\n",
       "<polygon fill=\"#000000\" stroke=\"#000000\" points=\"204.9054,-46.2121 201.4053,-36.2121 197.9054,-46.2121 204.9054,-46.2121\"/>\n",
       "<text text-anchor=\"middle\" x=\"209.957\" y=\"-56.8\" font-family=\"Times,serif\" font-size=\"14.00\" fill=\"#000000\">det</text>\n",
       "</g>\n",
       "<!-- 4 -->\n",
       "<g id=\"node6\" class=\"node\">\n",
       "<title>4</title>\n",
       "<text text-anchor=\"middle\" x=\"299.4053\" y=\"-13.8\" font-family=\"Times,serif\" font-size=\"14.00\" fill=\"#000000\">4 (einzigartiger)</text>\n",
       "</g>\n",
       "<!-- 5&#45;&gt;4 -->\n",
       "<g id=\"edge5\" class=\"edge\">\n",
       "<title>5&#45;&gt;4</title>\n",
       "<path fill=\"none\" stroke=\"#000000\" d=\"M222.1886,-85.7616C236.3508,-73.3335 255.2836,-56.719 270.8572,-43.0524\"/>\n",
       "<polygon fill=\"#000000\" stroke=\"#000000\" points=\"273.4442,-45.4387 278.652,-36.2121 268.8271,-40.1773 273.4442,-45.4387\"/>\n",
       "<text text-anchor=\"middle\" x=\"270.957\" y=\"-56.8\" font-family=\"Times,serif\" font-size=\"14.00\" fill=\"#000000\">amod</text>\n",
       "</g>\n",
       "<!-- 6 -->\n",
       "<g id=\"node7\" class=\"node\">\n",
       "<title>6</title>\n",
       "<text text-anchor=\"middle\" x=\"397.4053\" y=\"-13.8\" font-family=\"Times,serif\" font-size=\"14.00\" fill=\"#000000\">6 (.)</text>\n",
       "</g>\n",
       "<!-- 5&#45;&gt;6 -->\n",
       "<g id=\"edge6\" class=\"edge\">\n",
       "<title>5&#45;&gt;6</title>\n",
       "<path fill=\"none\" stroke=\"#000000\" d=\"M247.2812,-85.8417C261.1809,-80.233 276.4583,-73.961 290.4053,-68 319.6218,-55.5127 328.6834,-51.5027 361.065,-36.0977\"/>\n",
       "<polygon fill=\"#000000\" stroke=\"#000000\" points=\"362.8134,-39.1417 370.3356,-31.6807 359.8025,-32.8223 362.8134,-39.1417\"/>\n",
       "<text text-anchor=\"middle\" x=\"337.957\" y=\"-56.8\" font-family=\"Times,serif\" font-size=\"14.00\" fill=\"#000000\">punct</text>\n",
       "</g>\n",
       "</g>\n",
       "</svg>\n"
      ],
      "text/plain": [
       "<DependencyGraph with 7 nodes>"
      ]
     },
     "metadata": {},
     "output_type": "display_data"
    }
   ],
   "source": [
    "from nltk import DependencyGraph\n",
    "t = DependencyGraph(treebank)\n",
    "#print(t.tree())\n",
    "print(t.to_conll(3))\n",
    "#t.tree().pretty_print(unicodelines=True)\n",
    "display(t)"
   ]
  },
  {
   "cell_type": "markdown",
   "metadata": {},
   "source": [
    "---\n",
    "## 3. Lexical Resources"
   ]
  },
  {
   "cell_type": "markdown",
   "metadata": {},
   "source": [
    "---\n",
    "### 3.1 Stop Word Lists\n",
    "\n",
    "#### stop words = negative dictionary\n",
    "- words that are filtered out during processing\n",
    "- dependent on purpose, usually function words\n",
    "\n",
    "https://www.nltk.org/book/ch02.html\n"
   ]
  },
  {
   "cell_type": "code",
   "execution_count": 38,
   "metadata": {
    "scrolled": true
   },
   "outputs": [
    {
     "data": {
      "text/plain": [
       "['i', 'me', 'my', 'myself', 'we', 'our', 'ours', 'ourselves', 'you']"
      ]
     },
     "execution_count": 38,
     "metadata": {},
     "output_type": "execute_result"
    }
   ],
   "source": [
    "from nltk.corpus import stopwords\n",
    "stop = stopwords.words('english')\n",
    "stop[0:9]"
   ]
  },
  {
   "cell_type": "markdown",
   "metadata": {},
   "source": [
    "---\n",
    "### 3.2 Word Lists in NLTK\n",
    "\n",
    "#### word lists = dictionary within corpus (lexicon)\n",
    "- criteria depending on purpose \n",
    "\n",
    "#####  Example: create list of unusal/mis-spelled words based on word list of common words, s. https://www.nltk.org/book/ch02.html"
   ]
  },
  {
   "cell_type": "code",
   "execution_count": 39,
   "metadata": {},
   "outputs": [
    {
     "data": {
      "text/plain": [
       "['a', 'a', 'aa', 'aal', 'aalii', 'aam', 'aani', 'aardvark', 'aardwolf']"
      ]
     },
     "execution_count": 39,
     "metadata": {},
     "output_type": "execute_result"
    }
   ],
   "source": [
    "#nltk.words Corpus: The Words Corpus is the /usr/share/dict/words file from Unix, used by some spell checkers.\n",
    "english_vocab = list(w.lower() for w in nltk.corpus.words.words())  \n",
    "english_vocab[0:9]"
   ]
  },
  {
   "cell_type": "code",
   "execution_count": 40,
   "metadata": {},
   "outputs": [],
   "source": [
    "def unusual_words(text):\n",
    "    text_vocab = set(w.lower() for w in text if w.isalpha()) #The isalpha() method returns True if all characters in the string are alphabets. If not, it returns False.\n",
    "    english_vocab = set(w.lower() for w in nltk.corpus.words.words())\n",
    "    unusual = text_vocab - english_vocab\n",
    "    return sorted(unusual)"
   ]
  },
  {
   "cell_type": "code",
   "execution_count": 41,
   "metadata": {},
   "outputs": [
    {
     "data": {
      "text/plain": [
       "['abhorred',\n",
       " 'abilities',\n",
       " 'abounded',\n",
       " 'abridgement',\n",
       " 'abused',\n",
       " 'abuses',\n",
       " 'accents',\n",
       " 'accepting',\n",
       " 'accommodations']"
      ]
     },
     "execution_count": 41,
     "metadata": {},
     "output_type": "execute_result"
    }
   ],
   "source": [
    "unusual_words(nltk.corpus.gutenberg.words('austen-sense.txt'))[1:10]"
   ]
  },
  {
   "cell_type": "code",
   "execution_count": 42,
   "metadata": {},
   "outputs": [
    {
     "data": {
      "text/plain": [
       "['aaahhhh',\n",
       " 'abortions',\n",
       " 'abou',\n",
       " 'abourted',\n",
       " 'abs',\n",
       " 'ack',\n",
       " 'acros',\n",
       " 'actualy',\n",
       " 'adams']"
      ]
     },
     "execution_count": 42,
     "metadata": {},
     "output_type": "execute_result"
    }
   ],
   "source": [
    "unusual_words(nltk.corpus.nps_chat.words())[1:10]"
   ]
  },
  {
   "cell_type": "markdown",
   "metadata": {},
   "source": [
    "---\n",
    "### 3.3 WordNet\n",
    "\n",
    "#### = lexical database of semantic relations between words\n",
    "- synonyms grouped into synsets\n",
    "\n",
    "- https://www.nltk.org/book/ch02.html\n",
    "- https://www.nltk.org/howto/wordnet.html\n",
    "\n",
    "\n",
    "> WordNet® is a large lexical database of English. Nouns, verbs, adjectives and adverbs are grouped into sets of cognitive synonyms (synsets), each expressing a distinct concept. Synsets are interlinked by means of conceptual-semantic and lexical relations.<br>https://wordnet.princeton.edu/\n",
    "\n"
   ]
  },
  {
   "cell_type": "code",
   "execution_count": 43,
   "metadata": {},
   "outputs": [],
   "source": [
    "from nltk.corpus import wordnet as wn"
   ]
  },
  {
   "cell_type": "code",
   "execution_count": 44,
   "metadata": {},
   "outputs": [
    {
     "data": {
      "text/plain": [
       "[Synset('car.n.01'),\n",
       " Synset('car.n.02'),\n",
       " Synset('car.n.03'),\n",
       " Synset('car.n.04'),\n",
       " Synset('cable_car.n.01')]"
      ]
     },
     "execution_count": 44,
     "metadata": {},
     "output_type": "execute_result"
    }
   ],
   "source": [
    "wn.synsets('car')"
   ]
  },
  {
   "cell_type": "code",
   "execution_count": 45,
   "metadata": {},
   "outputs": [
    {
     "data": {
      "text/plain": [
       "['car', 'auto', 'automobile', 'machine', 'motorcar']"
      ]
     },
     "execution_count": 45,
     "metadata": {},
     "output_type": "execute_result"
    }
   ],
   "source": [
    "wn.synset('car.n.01').lemma_names()"
   ]
  },
  {
   "cell_type": "code",
   "execution_count": 46,
   "metadata": {},
   "outputs": [
    {
     "data": {
      "text/plain": [
       "['car', 'railcar', 'railway_car', 'railroad_car']"
      ]
     },
     "execution_count": 46,
     "metadata": {},
     "output_type": "execute_result"
    }
   ],
   "source": [
    "wn.synset('car.n.02').lemma_names()"
   ]
  },
  {
   "cell_type": "markdown",
   "metadata": {},
   "source": [
    "---\n",
    "### 3.4 FrameNet\n",
    "\n",
    "\n",
    "#### = database with representations of situations, e.g. `Being_born`\n",
    "- information about subcategorization frames\n",
    "\n",
    "\n",
    "\n",
    "> The FrameNet corpus is a lexical database of English that is both human- and machine-readable, based on annotating examples of how words are used in actual texts. FrameNet is based on a theory of meaning called Frame Semantics, deriving from the work of Charles J. Fillmore and colleagues.<br>https://www.nltk.org/howto/framenet.html\n"
   ]
  },
  {
   "cell_type": "code",
   "execution_count": 47,
   "metadata": {},
   "outputs": [],
   "source": [
    "from nltk.corpus import framenet as fn"
   ]
  },
  {
   "cell_type": "code",
   "execution_count": 48,
   "metadata": {},
   "outputs": [
    {
     "data": {
      "text/plain": [
       "[<frame ID=793 name=Being_born>, <frame ID=973 name=People_by_age>]"
      ]
     },
     "execution_count": 48,
     "metadata": {},
     "output_type": "execute_result"
    }
   ],
   "source": [
    "fn.frames_by_lemma(r'born')"
   ]
  },
  {
   "cell_type": "code",
   "execution_count": 49,
   "metadata": {},
   "outputs": [],
   "source": [
    "f = fn.frame(793)"
   ]
  },
  {
   "cell_type": "code",
   "execution_count": 50,
   "metadata": {},
   "outputs": [
    {
     "name": "stdout",
     "output_type": "stream",
     "text": [
      "793 Being_born\n"
     ]
    }
   ],
   "source": [
    "print(f.ID, f.name)"
   ]
  },
  {
   "cell_type": "code",
   "execution_count": 51,
   "metadata": {},
   "outputs": [
    {
     "name": "stdout",
     "output_type": "stream",
     "text": [
      "This frame concerns the inception of the life of a Child, generally human, at a particular Time and Place.  The Relatives may also be mentioned.  'Little Jessie came into the world at 8 last night.'\n"
     ]
    }
   ],
   "source": [
    "print(f.definition)"
   ]
  },
  {
   "cell_type": "code",
   "execution_count": 52,
   "metadata": {},
   "outputs": [
    {
     "data": {
      "text/plain": [
       "2"
      ]
     },
     "execution_count": 52,
     "metadata": {},
     "output_type": "execute_result"
    }
   ],
   "source": [
    "len(f.lexUnit)"
   ]
  },
  {
   "cell_type": "code",
   "execution_count": 53,
   "metadata": {},
   "outputs": [
    {
     "name": "stdout",
     "output_type": "stream",
     "text": [
      "['Child', 'Depictive', 'Means', 'Place', 'Relatives', 'Time']\n"
     ]
    }
   ],
   "source": [
    "from pprint import pprint\n",
    "pprint(sorted([x for x in f.FE]))"
   ]
  },
  {
   "cell_type": "code",
   "execution_count": 54,
   "metadata": {
    "scrolled": true
   },
   "outputs": [
    {
     "name": "stdout",
     "output_type": "stream",
     "text": [
      "[come into the world.v] lexical unit (9790): come into the world.v\n",
      "\n",
      "[definition]\n",
      "  FN: be born.\n",
      "\n",
      "[frame] Being_born(793)\n",
      "\n",
      "[POS] V\n",
      "\n",
      "[status] Created\n",
      "\n",
      "[lexemes] come/V into/PREP the/ART world/N\n",
      "\n",
      "[semTypes] 0 semantic types\n",
      "\n",
      "[URL] https://framenet2.icsi.berkeley.edu/fnReports/data/lu/lu9790.xml\n",
      "\n",
      "[subCorpus] 0 subcorpora\n",
      "  \n",
      "\n",
      "[exemplars] 0 sentences across all subcorpora\n",
      "\n",
      "[born.v] lexical unit (9791): born.v\n",
      "\n",
      "[definition]\n",
      "  FN: existing as a result of birth.\n",
      "\n",
      "[frame] Being_born(793)\n",
      "\n",
      "[POS] V\n",
      "\n",
      "[status] Created\n",
      "\n",
      "[lexemes] born/V\n",
      "\n",
      "[semTypes] 0 semantic types\n",
      "\n",
      "[URL] https://framenet2.icsi.berkeley.edu/fnReports/data/lu/lu9791.xml\n",
      "\n",
      "[subCorpus] 20 subcorpora\n",
      "  V-429-s20-rcoll-daughter, V-429-s20-rcoll-son,\n",
      "  V-510-s20-vping, V-540-s20-np-ap, V-550-s20-np-np,\n",
      "  V-620-s20-np-ppother, V-670-s20-pass-by, V-680-s20-pass,\n",
      "  V-700-s20-ap, V-720-s20-ppof, V-730-s20-ppby,\n",
      "  V-730-s20-ppfrom, V-730-s20-ppin, V-730-s20-ppinto,\n",
      "  V-730-s20-ppon, V-730-s20-ppto, V-730-s25-ppwith,\n",
      "  V-810-s20-pother, V-890-s20-intrans-adverb, manually-added\n",
      "\n",
      "[exemplars] 44 sentences across all subcorpora\n",
      "\n",
      "\n"
     ]
    }
   ],
   "source": [
    " print(f.lexUnit)"
   ]
  },
  {
   "cell_type": "markdown",
   "metadata": {},
   "source": [
    "---\n",
    "## 3. Basic Corpus Statistics"
   ]
  },
  {
   "cell_type": "markdown",
   "metadata": {},
   "source": [
    "#### Loading Corpus:\n",
    "Brown Corpus: first electronic English text corpus with 1 million words"
   ]
  },
  {
   "cell_type": "code",
   "execution_count": 55,
   "metadata": {},
   "outputs": [],
   "source": [
    "from nltk.corpus import brown"
   ]
  },
  {
   "cell_type": "markdown",
   "metadata": {},
   "source": [
    "---\n",
    "### 3.1 Frequency Lists\n",
    "https://www.nltk.org/book/ch02.html\n",
    "\n",
    "#### text/corpus: list of word tokens\n",
    "#### frequency list: list of word types, sorted by token frequency\n",
    "\n",
    "\n",
    "- (cf. lexical resources/word lists as lists of word types)"
   ]
  },
  {
   "cell_type": "markdown",
   "metadata": {},
   "source": [
    "### 3.1.2 Frequency List with NLTK: `FreqDist()` *(Frequency Distribution)*"
   ]
  },
  {
   "cell_type": "code",
   "execution_count": 56,
   "metadata": {},
   "outputs": [],
   "source": [
    "from nltk import FreqDist\n",
    "fd = FreqDist(brown.words())"
   ]
  },
  {
   "cell_type": "code",
   "execution_count": 57,
   "metadata": {},
   "outputs": [
    {
     "data": {
      "text/plain": [
       "[('the', 62713),\n",
       " (',', 58334),\n",
       " ('.', 49346),\n",
       " ('of', 36080),\n",
       " ('and', 27915),\n",
       " ('to', 25732),\n",
       " ('a', 21881),\n",
       " ('in', 19536),\n",
       " ('that', 10237),\n",
       " ('is', 10011)]"
      ]
     },
     "execution_count": 57,
     "metadata": {},
     "output_type": "execute_result"
    }
   ],
   "source": [
    "fd.most_common(10)"
   ]
  },
  {
   "cell_type": "code",
   "execution_count": 58,
   "metadata": {},
   "outputs": [
    {
     "data": {
      "image/png": "[encoded data removed]",
      "text/plain": [
       "<matplotlib.figure.Figure at 0x1344b20f0>"
      ]
     },
     "metadata": {},
     "output_type": "display_data"
    }
   ],
   "source": [
    "fd.plot(35, cumulative=False)"
   ]
  },
  {
   "cell_type": "markdown",
   "metadata": {},
   "source": [
    "### 3.1.3 Conditional Frequency Lists: `ConditionalFreqDist()`\n",
    "\n",
    "#### = frequency distributions under different conditions \n",
    "\n",
    "##### Example: different genres in Brown corpus"
   ]
  },
  {
   "cell_type": "code",
   "execution_count": 59,
   "metadata": {},
   "outputs": [],
   "source": [
    "from nltk import ConditionalFreqDist\n",
    "\n",
    "cfd_genre = ConditionalFreqDist(\n",
    "    (genre, word)\n",
    "    for genre in brown.categories()\n",
    "    for word in brown.words(categories=genre) if (word.lower() not in stop and not re.match(r\"[^\\w]\", word)))"
   ]
  },
  {
   "cell_type": "code",
   "execution_count": 60,
   "metadata": {},
   "outputs": [
    {
     "data": {
      "text/plain": [
       "['adventure',\n",
       " 'belles_lettres',\n",
       " 'editorial',\n",
       " 'fiction',\n",
       " 'government',\n",
       " 'hobbies',\n",
       " 'humor',\n",
       " 'learned',\n",
       " 'lore',\n",
       " 'mystery',\n",
       " 'news',\n",
       " 'religion',\n",
       " 'reviews',\n",
       " 'romance',\n",
       " 'science_fiction']"
      ]
     },
     "execution_count": 60,
     "metadata": {},
     "output_type": "execute_result"
    }
   ],
   "source": [
    "brown.categories()"
   ]
  },
  {
   "cell_type": "code",
   "execution_count": 61,
   "metadata": {},
   "outputs": [
    {
     "data": {
      "text/plain": [
       "[('said', 330),\n",
       " ('would', 244),\n",
       " ('could', 193),\n",
       " ('like', 185),\n",
       " ('one', 166),\n",
       " ('back', 126),\n",
       " ('thought', 105),\n",
       " (\"didn't\", 101),\n",
       " ('little', 99),\n",
       " ('time', 93)]"
      ]
     },
     "execution_count": 61,
     "metadata": {},
     "output_type": "execute_result"
    }
   ],
   "source": [
    "cfd_genre['romance'].most_common(10)"
   ]
  },
  {
   "cell_type": "code",
   "execution_count": 62,
   "metadata": {},
   "outputs": [
    {
     "data": {
      "text/plain": [
       "[('year', 183),\n",
       " ('States', 162),\n",
       " ('United', 155),\n",
       " ('may', 153),\n",
       " ('would', 120),\n",
       " ('made', 118),\n",
       " ('development', 112),\n",
       " ('one', 111),\n",
       " ('1', 107),\n",
       " ('years', 106)]"
      ]
     },
     "execution_count": 62,
     "metadata": {},
     "output_type": "execute_result"
    }
   ],
   "source": [
    "cfd_genre['government'].most_common(10)"
   ]
  },
  {
   "cell_type": "markdown",
   "metadata": {},
   "source": [
    "---\n",
    "### 3.2 Concordances\n",
    "https://www.nltk.org/book/ch01.html\n",
    "\n",
    "#### = occurences in context\n",
    "---"
   ]
  },
  {
   "cell_type": "markdown",
   "metadata": {},
   "source": [
    "#### (Loading NLTK Book Corpus)"
   ]
  },
  {
   "cell_type": "code",
   "execution_count": 63,
   "metadata": {},
   "outputs": [
    {
     "name": "stdout",
     "output_type": "stream",
     "text": [
      "*** Introductory Examples for the NLTK Book ***\n",
      "Loading text1, ..., text9 and sent1, ..., sent9\n",
      "Type the name of the text or sentence to view it.\n",
      "Type: 'texts()' or 'sents()' to list the materials.\n",
      "text1: Moby Dick by Herman Melville 1851\n",
      "text2: Sense and Sensibility by Jane Austen 1811\n",
      "text3: The Book of Genesis\n",
      "text4: Inaugural Address Corpus\n",
      "text5: Chat Corpus\n",
      "text6: Monty Python and the Holy Grail\n",
      "text7: Wall Street Journal\n",
      "text8: Personals Corpus\n",
      "text9: The Man Who Was Thursday by G . K . Chesterton 1908\n"
     ]
    }
   ],
   "source": [
    "from nltk.book import *"
   ]
  },
  {
   "cell_type": "code",
   "execution_count": 64,
   "metadata": {},
   "outputs": [
    {
     "name": "stdout",
     "output_type": "stream",
     "text": [
      "Displaying 11 of 11 matches:\n",
      "ong the former , one was of a most monstrous size . ... This came towards us , \n",
      "ON OF THE PSALMS . \" Touching that monstrous bulk of the whale or ork we have r\n",
      "ll over with a heathenish array of monstrous clubs and spears . Some were thick\n",
      "d as you gazed , and wondered what monstrous cannibal and savage could ever hav\n",
      "that has survived the flood ; most monstrous and most mountainous ! That Himmal\n",
      "they might scout at Moby Dick as a monstrous fable , or still worse and more de\n",
      "th of Radney .'\" CHAPTER 55 Of the Monstrous Pictures of Whales . I shall ere l\n",
      "ing Scenes . In connexion with the monstrous pictures of whales , I am strongly\n",
      "ere to enter upon those still more monstrous stories of them which are to be fo\n",
      "ght have been rummaged out of this monstrous cabinet there is no telling . But \n",
      "of Whale - Bones ; for Whales of a monstrous size are oftentimes cast up dead u\n"
     ]
    }
   ],
   "source": [
    "text1.concordance(\"monstrous\")"
   ]
  },
  {
   "cell_type": "markdown",
   "metadata": {},
   "source": [
    "#### Retrieve words in similar contexts:"
   ]
  },
  {
   "cell_type": "code",
   "execution_count": 65,
   "metadata": {},
   "outputs": [
    {
     "name": "stdout",
     "output_type": "stream",
     "text": [
      "true contemptible christian abundant few part mean careful puzzled\n",
      "mystifying passing curious loving wise doleful gamesome singular\n",
      "delightfully perilous fearless\n"
     ]
    }
   ],
   "source": [
    "text1.similar(\"monstrous\")"
   ]
  },
  {
   "cell_type": "markdown",
   "metadata": {},
   "source": [
    "#### Retrieve shared contexts:"
   ]
  },
  {
   "cell_type": "code",
   "execution_count": 66,
   "metadata": {},
   "outputs": [
    {
     "name": "stdout",
     "output_type": "stream",
     "text": [
      "the_pictures\n"
     ]
    }
   ],
   "source": [
    "text1.common_contexts([\"monstrous\", \"true\"])"
   ]
  },
  {
   "cell_type": "markdown",
   "metadata": {},
   "source": [
    "---\n",
    "### 3.3 Collocations\n",
    "\n",
    "#### = frequent n-grams (appear more frequent than expected) \n",
    "\n",
    "\n",
    "- n-gram: sequence of neighbouring words\n",
    "- default: bigrams (n = 2)\n",
    "\n",
    "https://www.nltk.org/book/ch01.html\n",
    "\n",
    "https://www.nltk.org/howto/collocations.html\n"
   ]
  },
  {
   "cell_type": "code",
   "execution_count": 67,
   "metadata": {},
   "outputs": [
    {
     "data": {
      "text/plain": [
       "[('Call', 'me'), ('me', 'Ishmael'), ('Ishmael', '.')]"
      ]
     },
     "execution_count": 67,
     "metadata": {},
     "output_type": "execute_result"
    }
   ],
   "source": [
    "from nltk import bigrams\n",
    "list(bigrams(['Call', 'me', 'Ishmael', '.']))"
   ]
  },
  {
   "cell_type": "code",
   "execution_count": 68,
   "metadata": {},
   "outputs": [
    {
     "name": "stdout",
     "output_type": "stream",
     "text": [
      "Sperm Whale; Moby Dick; White Whale; old man; Captain Ahab; sperm\n",
      "whale; Right Whale; Captain Peleg; New Bedford; Cape Horn; cried Ahab;\n",
      "years ago; lower jaw; never mind; Father Mapple; cried Stubb; chief\n",
      "mate; white whale; ivory leg; one hand\n"
     ]
    }
   ],
   "source": [
    "text1.collocations()"
   ]
  },
  {
   "cell_type": "markdown",
   "metadata": {},
   "source": [
    "#### Association Measures: \n",
    "\n",
    "https://www.nltk.org/howto/collocations.html#association-measures\n",
    "\n",
    "- e.g. Pointwise Mutual Information\n",
    "\n"
   ]
  },
  {
   "cell_type": "code",
   "execution_count": 69,
   "metadata": {},
   "outputs": [],
   "source": [
    "from nltk.collocations import *\n",
    "bigram_measures = nltk.collocations.BigramAssocMeasures()\n",
    "finder = BigramCollocationFinder.from_words(text1)"
   ]
  },
  {
   "cell_type": "code",
   "execution_count": 70,
   "metadata": {},
   "outputs": [
    {
     "data": {
      "text/plain": [
       "[('Moby', 'Dick'),\n",
       " ('Sperm', 'Whale'),\n",
       " ('White', 'Whale'),\n",
       " ('Right', 'Whale'),\n",
       " ('Captain', 'Peleg'),\n",
       " (',\"', 'said'),\n",
       " ('never', 'mind'),\n",
       " ('!\"', 'cried'),\n",
       " ('no', 'means'),\n",
       " ('each', 'other')]"
      ]
     },
     "execution_count": 70,
     "metadata": {},
     "output_type": "execute_result"
    }
   ],
   "source": [
    "finder.apply_freq_filter(20)\n",
    "finder.nbest(bigram_measures.pmi, 10)"
   ]
  },
  {
   "cell_type": "markdown",
   "metadata": {},
   "source": [
    "---\n",
    "### 3.4 Lexical Diversity\n",
    "https://www.nltk.org/book/ch01.html\n",
    "\n",
    "#### = type/token ratio"
   ]
  },
  {
   "cell_type": "code",
   "execution_count": 71,
   "metadata": {},
   "outputs": [],
   "source": [
    "def lexical_diversity(text):\n",
    "    return len(set(text)) / len(text)"
   ]
  },
  {
   "cell_type": "code",
   "execution_count": 72,
   "metadata": {},
   "outputs": [
    {
     "data": {
      "text/plain": [
       "0.06230453042623537"
      ]
     },
     "execution_count": 72,
     "metadata": {},
     "output_type": "execute_result"
    }
   ],
   "source": [
    "lexical_diversity(text3)"
   ]
  },
  {
   "cell_type": "code",
   "execution_count": 73,
   "metadata": {},
   "outputs": [
    {
     "data": {
      "text/plain": [
       "0.13477005109975562"
      ]
     },
     "execution_count": 73,
     "metadata": {},
     "output_type": "execute_result"
    }
   ],
   "source": [
    "lexical_diversity(text5)"
   ]
  },
  {
   "cell_type": "markdown",
   "metadata": {},
   "source": [
    "### 3.5 Distribution / Dispersion Plots\n",
    "\n",
    "#### = plotting positional information of words (location in corpus)\n",
    "\n",
    "(s. https://www.nltk.org/book/ch01.html)"
   ]
  },
  {
   "cell_type": "code",
   "execution_count": 74,
   "metadata": {
    "scrolled": true
   },
   "outputs": [
    {
     "data": {
      "image/png": "[encoded data removed]",
      "text/plain": [
       "<matplotlib.figure.Figure at 0x1384df390>"
      ]
     },
     "metadata": {},
     "output_type": "display_data"
    },
    {
     "data": {
      "text/plain": [
       "<Text: Inaugural Address Corpus>"
      ]
     },
     "execution_count": 74,
     "metadata": {},
     "output_type": "execute_result"
    }
   ],
   "source": [
    "text4.dispersion_plot([\"citizens\", \"democracy\", \"freedom\", \"duties\", \"America\"])\n",
    "text4\n",
    "# NumPy and Matplotlib needed for plotting"
   ]
  },
  {
   "cell_type": "code",
   "execution_count": 75,
   "metadata": {},
   "outputs": [
    {
     "data": {
      "image/png": "[encoded data removed]",
      "text/plain": [
       "<matplotlib.figure.Figure at 0x143785dd8>"
      ]
     },
     "metadata": {},
     "output_type": "display_data"
    },
    {
     "data": {
      "text/plain": [
       "<Text: Moby Dick by Herman Melville 1851>"
      ]
     },
     "execution_count": 75,
     "metadata": {},
     "output_type": "execute_result"
    }
   ],
   "source": [
    "text1.dispersion_plot([\"Ishmael\",\"Ahab\", \"whale\"])\n",
    "text1"
   ]
  },
  {
   "cell_type": "markdown",
   "metadata": {},
   "source": [
    "---\n",
    "## &Uuml;bungsaufgaben 2\n",
    "\n",
    "\n",
    "### Aufgabe 1 (Frequenzliste mit Python)\n",
    "In der Vorlesung wurde die Frequenzliste mit der NLTK-Funktion `FreqDist()` berechnet. \n",
    "\n",
    "#### 1a: Berechnen Sie für folgende Tokenliste die Frequenzliste mit Python.\n",
    "#### 1b: Verwenden Sie nun einen Counter der Collections-Library für die Frequenzlisten-Erstellung:\n",
    "`collections import Counter`\n"
   ]
  },
  {
   "cell_type": "code",
   "execution_count": 76,
   "metadata": {},
   "outputs": [],
   "source": [
    "text = ['Call', 'me', 'Ishmael', '.', 'Call', 'me', 'Ahab', '.', 'Call', 'him', 'Ahab', '.']"
   ]
  },
  {
   "cell_type": "markdown",
   "metadata": {},
   "source": [
    "#### 1d: Führen Sie Efficiency Tests für die verschiedenen Berechnungsarten auf `wahlverwandschaften.txt` durch.  \n",
    "\n",
    "- Verwenden Sie dafür die timeit-Library.\n",
    "- Dazu muss die Frequenzlistberechnung als eine Funktion umgesetzt sein, die eine Tokenliste als Eingabeargument erwartet und eine Frequenzliste ausgibt.\n",
    "- Übergeben Sie diese Funktion an den Timer (`countwords_def_test` im folgenden Beispielcode)."
   ]
  },
  {
   "cell_type": "code",
   "execution_count": 77,
   "metadata": {},
   "outputs": [
    {
     "data": {
      "text/plain": [
       "['die',\n",
       " 'wahlverwandtschaften',\n",
       " 'ein',\n",
       " 'roman',\n",
       " 'von',\n",
       " 'johann',\n",
       " 'wolfgang',\n",
       " 'von',\n",
       " 'goethe']"
      ]
     },
     "execution_count": 77,
     "metadata": {},
     "output_type": "execute_result"
    }
   ],
   "source": [
    "from nltk.tokenize import word_tokenize\n",
    "raw_wahlverw = open('wahlverwandschaften.txt').read().lower()\n",
    "wahlverw = word_tokenize(raw_wahlverw)\n",
    "wahlverw[0:9]"
   ]
  },
  {
   "cell_type": "code",
   "execution_count": 78,
   "metadata": {},
   "outputs": [
    {
     "name": "stdout",
     "output_type": "stream",
     "text": [
      "{'die': 0, 'wahlverwandtschaften': 0, 'ein': 0, 'roman': 0, 'von': 0, 'johann': 0, 'wolfgang': 0, 'goethe': 0}\n"
     ]
    }
   ],
   "source": [
    "def countwords_def_test(text):\n",
    "    counts = {t:0 for t in text}    \n",
    "    return counts\n",
    "print(countwords_def_test(wahlverw[0:9]))"
   ]
  },
  {
   "cell_type": "code",
   "execution_count": 79,
   "metadata": {},
   "outputs": [
    {
     "name": "stdout",
     "output_type": "stream",
     "text": [
      "0.006647047004662454\n"
     ]
    }
   ],
   "source": [
    "import timeit, functools\n",
    "t = timeit.Timer(functools.partial(countwords_def_test, wahlverw))\n",
    "print(t.timeit(5)) #number of executions"
   ]
  },
  {
   "cell_type": "markdown",
   "metadata": {},
   "source": [
    "### Aufgabe 2 (Tokenisierung mit Python und NLTK)\n",
    "Führen Sie auf `wahlverwandschaften.txt` verschiedene Varianten einer Tokenisierung durch. Verwenden Sie: \n",
    "\n",
    "- `split()`\n",
    "- `re.findall()`\n",
    "- `nltk.word_tokenize()`\n",
    "- `nltk.regexp_tokenize()` (siehe https://www.nltk.org/book/ch03.html)\n"
   ]
  },
  {
   "cell_type": "markdown",
   "metadata": {},
   "source": [
    "### Aufgabe 3 (gefilterte Frequenzliste mit NLTK)\n",
    "\n",
    "Berechnen Sie  mit NLTK eine Stopwort-gefilterte Frequenzliste auf dem Brown-Korpus und plotten diese."
   ]
  },
  {
   "cell_type": "markdown",
   "metadata": {},
   "source": [
    "### Aufgabe 4 (Konkordanzen mit Python)\n",
    "\n",
    "Berechnen Sie auf `wahlverwandschaften.txt` eine zeilenweise Konkordanz mit Python für den Suchterm 'geht'."
   ]
  },
  {
   "cell_type": "markdown",
   "metadata": {},
   "source": [
    "### Aufgabe 5 (Bigramme mit Python und NLTK)\n",
    "\n",
    "\n",
    "\n"
   ]
  },
  {
   "cell_type": "markdown",
   "metadata": {},
   "source": [
    "#### 5a: Berechnen Sie auf `wahlverwandschaften.txt` eine Bigramm-Liste mit Python."
   ]
  },
  {
   "cell_type": "markdown",
   "metadata": {},
   "source": [
    "#### 5b: Testen Sie verschiedene NLTK-Bigramm-Assoziationsmaße und Frequency-Filter für einen Text ihrer Wahl:"
   ]
  },
  {
   "cell_type": "code",
   "execution_count": 80,
   "metadata": {},
   "outputs": [],
   "source": [
    "#import nltk\n",
    "from nltk.book import *"
   ]
  },
  {
   "cell_type": "code",
   "execution_count": 81,
   "metadata": {},
   "outputs": [],
   "source": [
    "from nltk.collocations import *\n",
    "bigram_measures = nltk.collocations.BigramAssocMeasures()\n",
    "finder = BigramCollocationFinder.from_words(text1)"
   ]
  },
  {
   "cell_type": "code",
   "execution_count": 82,
   "metadata": {},
   "outputs": [
    {
     "data": {
      "text/plain": [
       "[('Moby', 'Dick'),\n",
       " ('Sperm', 'Whale'),\n",
       " ('White', 'Whale'),\n",
       " ('Right', 'Whale'),\n",
       " ('Captain', 'Peleg'),\n",
       " (',\"', 'said'),\n",
       " ('never', 'mind'),\n",
       " ('!\"', 'cried'),\n",
       " ('no', 'means'),\n",
       " ('each', 'other')]"
      ]
     },
     "execution_count": 82,
     "metadata": {},
     "output_type": "execute_result"
    }
   ],
   "source": [
    "finder.apply_freq_filter(20)\n",
    "finder.nbest(bigram_measures.pmi, 10)"
   ]
  },
  {
   "cell_type": "code",
   "execution_count": 83,
   "metadata": {},
   "outputs": [
    {
     "data": {
      "text/plain": [
       "[(',', 'and'),\n",
       " ('of', 'the'),\n",
       " (\"'\", 's'),\n",
       " ('in', 'the'),\n",
       " (',', 'the'),\n",
       " (';', 'and'),\n",
       " ('to', 'the'),\n",
       " ('.', 'But'),\n",
       " (',', 'that'),\n",
       " ('.', '\"')]"
      ]
     },
     "execution_count": 83,
     "metadata": {},
     "output_type": "execute_result"
    }
   ],
   "source": [
    "finder.apply_freq_filter(20)\n",
    "finder.nbest(bigram_measures.raw_freq, 10)"
   ]
  }
 ],
 "metadata": {
  "kernelspec": {
   "display_name": "Python 3",
   "language": "python",
   "name": "python3"
  },
  "language_info": {
   "codemirror_mode": {
    "name": "ipython",
    "version": 3
   },
   "file_extension": ".py",
   "mimetype": "text/x-python",
   "name": "python",
   "nbconvert_exporter": "python",
   "pygments_lexer": "ipython3",
   "version": "3.6.1"
  }
 },
 "nbformat": 4,
 "nbformat_minor": 2
}
