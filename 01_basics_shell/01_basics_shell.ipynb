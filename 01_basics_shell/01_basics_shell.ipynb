{
 "cells": [
  {
   "cell_type": "markdown",
   "metadata": {},
   "source": [
    "# 1: Textverarbeitung und Ein-/Ausgabe mit Shell-Skripten\n",
    "\n",
    "* Umleitungsoperatoren (`>`, `<`, ...) \n",
    "* Pipes (`|`)\n",
    "* Textwerkzeuge\n",
    "\n",
    "\n",
    "\n",
    "## Eingabe- und Ausgabestr&ouml;me\n",
    "* von der Shell aus gestartet Programme starten mit 3 offenen Dateihandeln:\n",
    "  * `stdin (0)` Standardeingabe zum Lesen\n",
    "  * `stdout (1)` Standardausgabe zum Schreiben\n",
    "  * `stderr (2)` Standardfehlerausgabe zum Schreiben\n",
    "* in der Shell sind alle drei Datenstr&ouml;me mit dem Terminal verbunden\n",
    "* Umleitungsoperatoren zum &Auml;ndern der Datenstr&ouml;me\n",
    "* ohne Optionen lesen viele Unix-Werkzeuge von der Standardeingabe und schreiben auf die  Standardausgabe\n",
    "\n",
    "| Ausdruck | Beschreibung\n",
    "|:---|:---|\n",
    "| `p > file` | Leitet `stdout` von `p` nach `file` um (**Redirect**) |\n",
    "| <code>p &vert; q</code> | Leitet `stdout` von `p` nach `stdin` von `q` um (**Pipe**)|\n",
    "| `p < file` | Leitet `stdin` von `p` nach `file` um |\n",
    "| `p >> file` | Leitet `stdout` von `p` nach `file` um (h&auml;ngt an) |\n",
    "| `p 2> file` | Leitet `stderr` von `p` nach `file` um |\n",
    "| `p 2>> file` | Leitet `stderr` von `p` nach `file` um (h&auml;ngt an) |\n",
    "| `p > file 2>&1` | Leitet `stdout` von `p` nach `file` und `stderr` nach `stdout` (`file`) um |\n",
    "| `p 2>&1 > file` | Leitet `stderr` von `p` nach `stdout` von `p` um und `stdout` nach `file` |\n",
    "| <code>p &vert;& q</code> | Leitet `stdout` und `stderr` von `p` nach `stdin` von `q` um* |\n",
    "| `p &> file` | Leitet `stdout` und `stderr` von `p` nach `file` um* |\n",
    "\n",
    "\\* markiert inkompatible Erweiterungen\n"
   ]
  },
  {
   "cell_type": "markdown",
   "metadata": {},
   "source": [
    "## Werkzeuge zur Textverarbeitung\n",
    "### cat \n",
    "| Name | cat - Konkateniert Dateien und schreibt sie nach `stdout` |\n",
    "|:---|:---|\n",
    "|&#0220;berblick| cat \\[OPTION\\]... \\[FILE\\]... |\n",
    "| Beschreibung | Konkateniert FILE und schreibt diese nach `stdout`. |\n",
    "| | Ohne FILE oder falls FILE `-` ist, wird `stdin` gelesen. | \n",
    "| Wichtige Optionen: | |\n",
    "| -n, --number | Nummeriert alle Ausgabezeilen |\n",
    "| -v, --shown-nonprinting | Markiert nicht ausdruckbare Zeichen in der `^` bzw. `M-` Notation | "
   ]
  },
  {
   "cell_type": "code",
   "execution_count": 1,
   "metadata": {},
   "outputs": [
    {
     "name": "stdout",
     "output_type": "stream",
     "text": [
      "     1\tHallo Welt!^G\n"
     ]
    }
   ],
   "source": [
    "%%bash\n",
    "echo -e \"Hallo Welt!\\a\" > hallo.txt\n",
    "cat -nv < hallo.txt"
   ]
  },
  {
   "cell_type": "markdown",
   "metadata": {},
   "source": [
    "### wc  \n",
    "| Name | wc - Gibt Anzahl von Zeilenumbr&uuml;chen, W&ouml;rtern und Bytes aus |\n",
    "|:---|:---|\n",
    "|&#0220;berblick| wc \\[OPTION\\]... \\[FILE\\]... |\n",
    "| Beschreibung | Gibt Anzahl von Zeilenumbr&uuml;chen, W&ouml;rtern und Bytes aus. |\n",
    "| | Ein Wort ist dabei eine nicht-leere Folge von Zeichen, |\n",
    "| | die von Leerzeichen umgeben sind. |\n",
    "| Wichtige Optionen: | |\n",
    "| -c, --bytes | Gibt die Byte-Anzahl aus |\n",
    "| -m, --chars | Gibt die Zeichenanzahl aus | \n",
    "| -l, --lines | Gibt die Zeilenanzahl aus |\n",
    "| -w, --words | Gibt die Wortanzahl aus |"
   ]
  },
  {
   "cell_type": "code",
   "execution_count": 2,
   "metadata": {
    "tags": []
   },
   "outputs": [
    {
     "name": "stdout",
     "output_type": "stream",
     "text": [
      "       2\n"
     ]
    }
   ],
   "source": [
    "%%bash\n",
    "echo -e \"Erste Zeile.\\nFünf.\" | wc -l"
   ]
  },
  {
   "cell_type": "code",
   "execution_count": 3,
   "metadata": {
    "tags": []
   },
   "outputs": [
    {
     "name": "stdout",
     "output_type": "stream",
     "text": [
      "   11058 wahlverwandschaften.txt\n"
     ]
    }
   ],
   "source": [
    "%%bash\n",
    "wc -w wahlverwandschaften.txt"
   ]
  },
  {
   "cell_type": "code",
   "execution_count": 4,
   "metadata": {
    "tags": []
   },
   "outputs": [
    {
     "name": "stdout",
     "output_type": "stream",
     "text": [
      "       5\n"
     ]
    }
   ],
   "source": [
    "%%bash\n",
    "ls | wc -l"
   ]
  },
  {
   "cell_type": "markdown",
   "metadata": {},
   "source": [
    "### head\n",
    "| Name | head - Ausgabe der ersten 10 Zeilen einer Datei |\n",
    "|:---|:---|\n",
    "|Überblick| head \\[OPTION\\]... \\[FILE\\]... |\n",
    "| Beschreibung | Schreibt die ersten 10 Zeilen jeder Datei in FILE nach `stdout`. |\n",
    "| Wichtige Optionen: | |\n",
    "| -c, --bytes=\\[-\\]NUM | Gibt die ersten NUM Bytes aus; |\n",
    "| | mit '-' wird alles außer den letzten NUM Bytes ausgegeben |\n",
    "| -n, --lines=\\[-\\]NUM | Gibt die ersten NUM Zeilen aus; |\n",
    "| | mit '-' werden alle Zeilen außer den letzten NUM Zeilen ausgegeben |\n"
   ]
  },
  {
   "cell_type": "code",
   "execution_count": 5,
   "metadata": {},
   "outputs": [
    {
     "name": "stdout",
     "output_type": "stream",
     "text": [
      "     1\t﻿Die Wahlverwandtschaften\n",
      "     2\t\n",
      "     3\t\n",
      "     4\t\n",
      "     5\tEin Roman\n",
      "     6\t\n",
      "     7\t\n",
      "     8\tvon Johann Wolfgang von Goethe\n"
     ]
    }
   ],
   "source": [
    "%%bash\n",
    "head -n 8 wahlverwandschaften.txt | cat -n"
   ]
  },
  {
   "cell_type": "markdown",
   "metadata": {},
   "source": [
    "### tail\n",
    "| Name | tail - Ausgabe der letzten 10 Zeilen einer Datei |\n",
    "|:---|:---|\n",
    "|Überblick| tail \\[OPTION\\]... \\[FILE\\]... |\n",
    "| Beschreibung | Schreibt die letzten 10 Zeilen jeder Datei in FILE nach `stdout`. |\n",
    "| Wichtige Optionen: | |\n",
    "| -c, --bytes=\\[+\\]NUM | Gibt die letzten NUM Bytes aus; |b\n",
    "| | mit '+' wird alles ab Byte NUM ausgegeben |\n",
    "| -n, --lines=\\[+\\]NUM | Gibt die letzten NUM Zeilen aus; |\n",
    "| | mit '+' werden alle Zeilen ab Zeile NUM ausgegeben |\n",
    "\n"
   ]
  },
  {
   "cell_type": "code",
   "execution_count": 6,
   "metadata": {},
   "outputs": [
    {
     "name": "stdout",
     "output_type": "stream",
     "text": [
      "willen bestimmt, das wirst du uns vorlesen. Ich will dir nicht ins\n",
      "Blatt sehen, aber freilich ist mir der Inhalt schon bekannt. Doch ließ\n",
      "nur, lies!“ Mit diesen Worten zog sie einen Brief hervor und reichte\n",
      "ihn Eduarden.\n",
      "\n",
      "\n",
      "\n",
      " Fünftes Kapitel"
     ]
    }
   ],
   "source": [
    "%%bash\n",
    "tail -n 8 wahlverwandschaften.txt"
   ]
  },
  {
   "cell_type": "markdown",
   "metadata": {},
   "source": [
    "### grep\n",
    "| Name | grep - Ausgabe von Zeilen, die bestimmte Muster enthalten |\n",
    "|:---|:---|\n",
    "|Überblick| grep \\[OPTION\\]... PATTERNS \\[FILE\\]... |\n",
    "|         | grep \\[OPTION\\]... -e PATTERNS \\[FILE\\]... |\n",
    "|         | grep \\[OPTION\\]... -f PATTERNS_FILE ... \\[FILE\\]... |\n",
    "| Beschreibung | Sucht nach PATTERNS in den Dateien in FILE und schreibt die\n",
    "|              | passenden Zeilen nach `stdout`. Falls keine Dateien angegeben\n",
    "|              | sind, werden die Zeilen von `stdin` gelesen. |\n",
    "| Wichtige Optionen: | |\n",
    "| -E, --extended-regexp | Interpretiert PATTERNS als erweiterte reguläre Ausdrücke (EREs) |\n",
    "| -i, --ignore-case | Ignoriert Groß- und Kleinschreibung |\n",
    "| -v, --invert-match | Es werden Zeilen ausgegeben, die *nicht* auf das Muster passen |\n",
    "| -w, --word-regexp | Muster werden nur auf Wortebene angewendet |\n",
    "| -A, --after-context=NUM | Ausgabe von NUM Zeilen nach einem Treffer |\n",
    "| -B, --before-context=NUM | Ausgabe von NUM Zeilen vor einem Treffer |\n",
    "| -C, --context=NUM | Ausgabe von NUM Zeilen vor und nach einem Treffer |\n",
    "\n",
    "\n"
   ]
  },
  {
   "cell_type": "code",
   "execution_count": 7,
   "metadata": {},
   "outputs": [
    {
     "name": "stdout",
     "output_type": "stream",
     "text": [
      "andere erfreuliches Ganze zusammenstellen. Ich versprach, dir an der\n",
      "er heut nicht umständlich schreibe, und versprach für nächstens ein\n",
      "Folge den füllereichsten Anblick versprach. Auch einzelne Baumgruppen\n"
     ]
    }
   ],
   "source": [
    "%%bash\n",
    "grep -w versprach wahlverwandschaften.txt"
   ]
  },
  {
   "cell_type": "code",
   "execution_count": 8,
   "metadata": {},
   "outputs": [
    {
     "name": "stdout",
     "output_type": "stream",
     "text": [
      "unschätzbaren, aber verworrenen Heften und Blättern ein für uns und\n",
      "andere erfreuliches Ganze zusammenstellen. Ich versprach, dir an der\n",
      "Abschrift zu helfen, und wir dachten es uns so bequem, so artig, so\n",
      "--\n",
      "--\n",
      "seinen Freund um Verzeihung, daß er diese Tage nicht geschrieben, daß\n",
      "er heut nicht umständlich schreibe, und versprach für nächstens ein\n",
      "bedeutenderes, ein beruhigendes Blatt.\n",
      "--\n",
      "--\n",
      "übersah, Tiefen und Höhen, Büsche und Wälder, deren erstes Grün für die\n",
      "Folge den füllereichsten Anblick versprach. Auch einzelne Baumgruppen\n",
      "hielten an mancher Stelle das Auge fest. Besonders zeichnete zu den\n"
     ]
    }
   ],
   "source": [
    "%%bash\n",
    "grep -w -C 1 versprach wahlverwandschaften.txt"
   ]
  },
  {
   "cell_type": "markdown",
   "metadata": {},
   "source": [
    "### tr\n",
    "| Name | tr - Ersetzt oder löscht Zeichen |\n",
    "|:---|:---|\n",
    "|Überblick| tr \\[OPTION\\]... SET1 \\[SET2\\] |\n",
    "| Beschreibung | Ersetzt, komprimiert und/oder löscht Zeichen von\n",
    "| | `stdin` und schreibt nach `stdout`. |\n",
    "| | Die Mengen SET1 und SET2 sind dabei Zeichen-Strings. |\n",
    "| Wichtige Optionen: | |\n",
    "| -c, -C, --complement | Verwendet die Komplementäre Menge zu SET1 |\n",
    "| -d, --delete | Löscht Zeichen in SET1 |\n",
    "| -s, --squeeze-repeats | Ersetzt jede Sequenz von wiederholten Zeichen durch einem einzelnen Zeichen |\n",
    "| Besondere Zeichen: | |\n",
    "| \\\\\\\\ | Backslash |\n",
    "| \\\\n | Zeilenumbruch |\n",
    "| CHAR1-CHAR2 | Alle Zeichen von CHAR1 zu CHAR2 in aufsteigender Folge |\n",
    "| \\[:alnum:\\] | Buchstaben und Zahlen |\n",
    "| \\[:alpha:\\] | Alle Buchstaben |\n",
    "| \\[:digit:\\] | Alle Zahlen |\n",
    "| \\[:space:\\] | Leerzeichen |\n",
    "| \\[:lower:\\] | Kleinbuchstaben |\n",
    "| \\[:upper:\\] | Großbuchstaben |\n",
    "| \\[:punct:\\] | Punktuationszeichen |\n"
   ]
  },
  {
   "cell_type": "code",
   "execution_count": 9,
   "metadata": {
    "tags": []
   },
   "outputs": [
    {
     "name": "stdout",
     "output_type": "stream",
     "text": [
      "Max\n"
     ]
    }
   ],
   "source": [
    "%%bash\n",
    "echo '123Max456' | tr -d [:digit:]"
   ]
  },
  {
   "cell_type": "code",
   "execution_count": 10,
   "metadata": {
    "tags": []
   },
   "outputs": [
    {
     "name": "stdout",
     "output_type": "stream",
     "text": [
      "MAX\n"
     ]
    }
   ],
   "source": [
    "%%bash\n",
    "echo '123Max456' | tr -d [:digit:] | tr [:lower:] [:upper:]"
   ]
  },
  {
   "cell_type": "code",
   "execution_count": 11,
   "metadata": {
    "tags": []
   },
   "outputs": [
    {
     "name": "stdout",
     "output_type": "stream",
     "text": [
      "sie\n",
      "einen\n",
      "Brief\n",
      "hervor\n",
      "und\n",
      "reichte\n",
      "ihn\n",
      "Eduarden.\n",
      "Fünftes\n",
      "Kapitel"
     ]
    }
   ],
   "source": [
    "%%bash\n",
    "cat wahlverwandschaften.txt | tr -s ' ' '\\n' | tail"
   ]
  },
  {
   "cell_type": "markdown",
   "metadata": {},
   "source": [
    "### sort\n",
    "| Name | sort - Sortiert Zeilen |\n",
    "|:---|:---|\n",
    "|Überblick| sort \\[OPTION\\]... \\[FILE\\]... |\n",
    "| Beschreibung | Sortiert alle Zeilen in allen Dateien in FILE und |\n",
    "|              | und schreibt sie nach `stdout`. Ließt von `stdin`, falls |\n",
    "|              | keine Dateien angegeben werden. |\n",
    "| Wichtige Optionen: | |\n",
    "| -b, --ignore-leading-blanks | Ignoriert führende Leerzeichen |\n",
    "| -f (sic), --ignore-case | Ignoriert Groß- und Kleinschreibung |\n",
    "| -n, --numeric-sort | Sortiert numerisch |\n",
    "| -R, --random-sort | Mischt die Zeilen zufällig |\n",
    "| -r, --reverse | Dreht die Sortierreihenfolge um |\n",
    "\n"
   ]
  },
  {
   "cell_type": "code",
   "execution_count": 12,
   "metadata": {
    "tags": []
   },
   "outputs": [
    {
     "name": "stdout",
     "output_type": "stream",
     "text": [
      "-,\n",
      "-bereiten\n",
      "-einfahren,\n",
      "-tauschen,\n",
      ":\n",
      "A\n",
      "A\n",
      "A\n",
      "A,\n",
      "Abend\n",
      "Abend\n",
      "Abende\n",
      "Abende\n",
      "Abende\n",
      "Abends\n",
      "Abends\n",
      "Aber\n",
      "Aber\n",
      "Aber\n",
      "Aber\n"
     ]
    }
   ],
   "source": [
    "%%bash\n",
    "cat wahlverwandschaften.txt | tr -s ' ' '\\n' | sort | head -20"
   ]
  },
  {
   "cell_type": "markdown",
   "metadata": {},
   "source": [
    "### uniq\n",
    "| Name | uniq - Filtert oder meldet wiederholte Zeilen |\n",
    "|:---|:---|\n",
    "|Überblick| uniq \\[OPTION\\]... \\[INPUT \\[OUTPUT\\]\\] |\n",
    "| Beschreibung | Filtert wiederholte benachbarte Zeilen von INPUT (oder `stdin`) |\n",
    "|              | und schreibt diese nach OUTPUT (oder `stdout`). |\n",
    "| Wichtige Optionen: | |\n",
    "| -c, --count | Stellt den Zeilen die Anzahl ihrere Vorkommen voran |\n",
    "| -i, --ignore-case | Ignoriert Groß- und Kleinschreibung |\n",
    "| -u, --unique | Gibt nur einzigartige Zeilen aus |\n"
   ]
  },
  {
   "cell_type": "code",
   "execution_count": 13,
   "metadata": {
    "tags": []
   },
   "outputs": [
    {
     "name": "stdout",
     "output_type": "stream",
     "text": [
      "   1 -,\n",
      "   1 -bereiten\n",
      "   1 -einfahren,\n",
      "   1 -tauschen,\n",
      "   1 :\n",
      "   3 A\n",
      "   1 A,\n",
      "   2 Abend\n",
      "   3 Abende\n",
      "   2 Abends\n"
     ]
    }
   ],
   "source": [
    "%%bash\n",
    "cat wahlverwandschaften.txt | tr -s ' ' '\\n' | sort | uniq -c | head"
   ]
  },
  {
   "cell_type": "markdown",
   "metadata": {},
   "source": [
    "---\n",
    "## &Uuml;bungsaufgaben 1\n",
    "### 1. Aufgabe `kbytes`\n",
    "Schreiben Sie ein Skript `kbytes.bash`, das f&uuml;r jede &uuml;bergebene Datei die Gr&ouml;&szlig;e der Datei in Kilobytes (=Bytes/1000) ausgibt.  Besipiel:\n",
    "```bash\n",
    "$./kbytes.bash *.txt\n",
    "a.txt: 3K\n",
    "b.txt: 0K\n",
    "c.txt: 10K\n",
    "$\n",
    "```\n",
    "\n",
    "### 2. Aufgabe `man_words`\n",
    "Schreiben Sie ein Skript `man_words.bash`, das  das f&uuml;r jede &uuml;bergebenen Namen die Anzahl der W&ouml;rter in der entsprechenden Manpage vorkommt.\n",
    "Falls f&uuml;r einen Namen kein Manpage-Eintrag existiert, soll `??` ausgegeben werden.  Beispiel:\n",
    "```bash\n",
    "$ ./man_words.bash ls xx\n",
    "ls: 945\n",
    "xx: ??\n",
    "$\n",
    "```\n",
    "\n",
    "### 3. Aufgabe `add_header`\n",
    "Schreiben Sie ein Skript `add_header.bash`, das seine Standardeingabe liest, dieser einen Header voranstellt. \n",
    "Die vorangestellten Header-Zeilen sollen dabei die einzelnen Kommandozeilenargumente sein.  Beispiel:\n",
    "```bash\n",
    "$ echo \"Hello, world!\" | ./add_header '# my' '# header'\n",
    "# my\n",
    "# header\n",
    "Hello, world!\n",
    "$\n",
    "```\n",
    "\n",
    "### 4. Aufgabe `freq_list`\n",
    "\n",
    "Schreiben Sie ein Bash-Skript, das für eine Textdatei\n",
    "(z.B. `wahlverwandschaften.txt`) die Frequenzen der Wörter im Text berechnet und\n",
    "diese dann mitsamt ihrer Frequenzen zeilenweise nach `stdout` schreibt. \n",
    "\n",
    "Verwenden Sie dazu: \n",
    "- `tr` zur Erstellung einer Tokenliste \n",
    "- `sort` zur alphabetischen Sortierung \n",
    "- `uniq` zur Zählung der Types \n",
    "- `sort` für eine abschließende Frequenzsortierung.\n",
    "\n",
    "Beispiel:\n",
    "\n",
    "```bash\n",
    "$ ./freq_list.bash wahlverwandschaften.txt\n",
    "17 der\n",
    "216 in\n",
    "13 sagte\n",
    "...\n",
    "$\n",
    "```\n",
    "\n",
    "\n",
    "### 5. Aufgabe `bigrams`\n",
    "\n",
    "Schreiben Sie ein Bash-Skript, das für eine Textdatei\n",
    "(z.B. `wahlverwandschaften.txt`) die Bigramme im Text berechnet und\n",
    "diese dann mitsamt ihrer Frequenzen zeilenweise nach `stdout` schreibt\n",
    "(Hinweise: `man paste`, Sie können auch temporäre Dateien verwenden,\n",
    "schauen sie sich die verschiedenen Optionen von `tail` genauer an). \n",
    "Beispiel:\n",
    "\n",
    "```bash\n",
    "$ ./bigrams.bash wahlverwandschaften.txt\n",
    "17 der Hauptmann\n",
    "16 in der\n",
    "13 sagte Eduard\n",
    "...\n",
    "$\n",
    "```\n",
    "Wie können Sie nun die Verteilung der Bigramme mit `plot.py` plotten?\n"
   ]
  }
 ],
 "metadata": {
  "kernelspec": {
   "display_name": "Python 3",
   "language": "python",
   "name": "python3"
  },
  "language_info": {
   "codemirror_mode": {
    "name": "ipython",
    "version": 3
   },
   "file_extension": ".py",
   "mimetype": "text/x-python",
   "name": "python",
   "nbconvert_exporter": "python",
   "pygments_lexer": "ipython3",
   "version": "3.6.1"
  },
  "metadata": {
   "interpreter": {
    "hash": "31f2aee4e71d21fbe5cf8b01ff0e069b9275f58929596ceb00d14d90e3e16cd6"
   }
  }
 },
 "nbformat": 4,
 "nbformat_minor": 5
}
