{
 "cells": [
  {
   "cell_type": "markdown",
   "metadata": {},
   "source": [
    "# Übungsaufgaben 5\n",
    "\n"
   ]
  },
  {
   "cell_type": "markdown",
   "metadata": {},
   "source": [
    "## Aufgabe 1 (Bigramme mit pandas und scikit-learn)\n",
    "\n",
    "Berechnen Sie auf dem Wahlverwandschaften-Text eine Stopwort-gefilterte Bigramm-Frequenzliste mit pandas-Dataframe und dem CountVectorizer von scikit-learn:"
   ]
  },
  {
   "cell_type": "code",
   "execution_count": 1,
   "metadata": {},
   "outputs": [
    {
     "data": {
      "text/html": [
       "<div>\n",
       "<style scoped>\n",
       "    .dataframe tbody tr th:only-of-type {\n",
       "        vertical-align: middle;\n",
       "    }\n",
       "\n",
       "    .dataframe tbody tr th {\n",
       "        vertical-align: top;\n",
       "    }\n",
       "\n",
       "    .dataframe thead th {\n",
       "        text-align: right;\n",
       "    }\n",
       "</style>\n",
       "<table border=\"1\" class=\"dataframe\">\n",
       "  <thead>\n",
       "    <tr style=\"text-align: right;\">\n",
       "      <th></th>\n",
       "      <th>lines</th>\n",
       "    </tr>\n",
       "  </thead>\n",
       "  <tbody>\n",
       "    <tr>\n",
       "      <th>0</th>\n",
       "      <td>Die Wahlverwandtschaften</td>\n",
       "    </tr>\n",
       "    <tr>\n",
       "      <th>1</th>\n",
       "      <td>Ein Roman</td>\n",
       "    </tr>\n",
       "    <tr>\n",
       "      <th>2</th>\n",
       "      <td>von Johann Wolfgang von Goethe</td>\n",
       "    </tr>\n",
       "    <tr>\n",
       "      <th>3</th>\n",
       "      <td>Erster Teil</td>\n",
       "    </tr>\n",
       "    <tr>\n",
       "      <th>4</th>\n",
       "      <td>Erstes Kapitel</td>\n",
       "    </tr>\n",
       "  </tbody>\n",
       "</table>\n",
       "</div>"
      ],
      "text/plain": [
       "                            lines\n",
       "0        Die Wahlverwandtschaften\n",
       "1                       Ein Roman\n",
       "2  von Johann Wolfgang von Goethe\n",
       "3                     Erster Teil\n",
       "4                  Erstes Kapitel"
      ]
     },
     "execution_count": 1,
     "metadata": {},
     "output_type": "execute_result"
    }
   ],
   "source": [
    "import pandas as pd\n",
    "df = pd.read_csv('wahlverwandschaften.txt', sep = \"\\n\", header=None) \n",
    "df.columns = ['lines']\n",
    "df.head()"
   ]
  },
  {
   "cell_type": "code",
   "execution_count": 2,
   "metadata": {},
   "outputs": [
    {
     "data": {
      "text/plain": [
       "['aber', 'alle', 'allem', 'allen', 'aller', 'alles', 'als', 'also', 'am', 'an']"
      ]
     },
     "execution_count": 2,
     "metadata": {},
     "output_type": "execute_result"
    }
   ],
   "source": [
    "from nltk.corpus import stopwords\n",
    "stop = stopwords.words('german')\n",
    "stop[0:10]"
   ]
  },
  {
   "cell_type": "code",
   "execution_count": 3,
   "metadata": {},
   "outputs": [],
   "source": [
    "from sklearn.feature_extraction.text import CountVectorizer\n",
    "count_vectorizer = CountVectorizer(stop_words=stop, ngram_range=(2,2))"
   ]
  },
  {
   "cell_type": "code",
   "execution_count": 5,
   "metadata": {},
   "outputs": [
    {
     "data": {
      "text/plain": [
       "<1126x4004 sparse matrix of type '<class 'numpy.int64'>'\n",
       "\twith 4114 stored elements in Compressed Sparse Row format>"
      ]
     },
     "execution_count": 5,
     "metadata": {},
     "output_type": "execute_result"
    }
   ],
   "source": [
    "#CountVectorizer: convert a collection of text documents (here: lines) to a matrix of token (or n-gram) counts\n",
    "\n",
    "# matrix of ngrams\n",
    "ngrams = count_vectorizer.fit_transform(df['lines'])\n",
    "ngrams"
   ]
  },
  {
   "cell_type": "code",
   "execution_count": 14,
   "metadata": {},
   "outputs": [
    {
     "data": {
      "text/plain": [
       "['johann wolfgang',\n",
       " 'wolfgang goethe',\n",
       " 'erster teil',\n",
       " 'erstes kapitel',\n",
       " 'eduard nennen',\n",
       " 'nennen reichen',\n",
       " 'reichen baron',\n",
       " 'baron besten',\n",
       " 'besten mannesalter',\n",
       " 'mannesalter eduard']"
      ]
     },
     "execution_count": 14,
     "metadata": {},
     "output_type": "execute_result"
    }
   ],
   "source": [
    "# list of ngrams\n",
    "vocab = count_vectorizer.vocabulary_\n",
    "list(vocab)[0:10]"
   ]
  },
  {
   "cell_type": "code",
   "execution_count": 18,
   "metadata": {},
   "outputs": [
    {
     "data": {
      "text/plain": [
       "array([1, 1, 1, ..., 1, 1, 1], dtype=int64)"
      ]
     },
     "execution_count": 18,
     "metadata": {},
     "output_type": "execute_result"
    }
   ],
   "source": [
    "# count frequency of ngrams\n",
    "count_values = ngrams.toarray().sum(axis=0) #sum cols\n",
    "count_values"
   ]
  },
  {
   "cell_type": "code",
   "execution_count": 15,
   "metadata": {},
   "outputs": [
    {
     "data": {
      "text/html": [
       "<div>\n",
       "<style scoped>\n",
       "    .dataframe tbody tr th:only-of-type {\n",
       "        vertical-align: middle;\n",
       "    }\n",
       "\n",
       "    .dataframe tbody tr th {\n",
       "        vertical-align: top;\n",
       "    }\n",
       "\n",
       "    .dataframe thead th {\n",
       "        text-align: right;\n",
       "    }\n",
       "</style>\n",
       "<table border=\"1\" class=\"dataframe\">\n",
       "  <thead>\n",
       "    <tr style=\"text-align: right;\">\n",
       "      <th></th>\n",
       "      <th>frequency</th>\n",
       "      <th>bigram</th>\n",
       "    </tr>\n",
       "  </thead>\n",
       "  <tbody>\n",
       "    <tr>\n",
       "      <th>0</th>\n",
       "      <td>17</td>\n",
       "      <td>versetzte charlotte</td>\n",
       "    </tr>\n",
       "    <tr>\n",
       "      <th>1</th>\n",
       "      <td>16</td>\n",
       "      <td>sagte charlotte</td>\n",
       "    </tr>\n",
       "    <tr>\n",
       "      <th>2</th>\n",
       "      <td>13</td>\n",
       "      <td>sagte eduard</td>\n",
       "    </tr>\n",
       "    <tr>\n",
       "      <th>3</th>\n",
       "      <td>9</td>\n",
       "      <td>versetzte eduard</td>\n",
       "    </tr>\n",
       "    <tr>\n",
       "      <th>4</th>\n",
       "      <td>6</td>\n",
       "      <td>versetzte hauptmann</td>\n",
       "    </tr>\n",
       "    <tr>\n",
       "      <th>...</th>\n",
       "      <td>...</td>\n",
       "      <td>...</td>\n",
       "    </tr>\n",
       "    <tr>\n",
       "      <th>3999</th>\n",
       "      <td>1</td>\n",
       "      <td>abende frühsten</td>\n",
       "    </tr>\n",
       "    <tr>\n",
       "      <th>4000</th>\n",
       "      <td>1</td>\n",
       "      <td>abende flöte</td>\n",
       "    </tr>\n",
       "    <tr>\n",
       "      <th>4001</th>\n",
       "      <td>1</td>\n",
       "      <td>abend veranlaßte</td>\n",
       "    </tr>\n",
       "    <tr>\n",
       "      <th>4002</th>\n",
       "      <td>1</td>\n",
       "      <td>abend eduard</td>\n",
       "    </tr>\n",
       "    <tr>\n",
       "      <th>4003</th>\n",
       "      <td>1</td>\n",
       "      <td>ab folge</td>\n",
       "    </tr>\n",
       "  </tbody>\n",
       "</table>\n",
       "<p>4004 rows × 2 columns</p>\n",
       "</div>"
      ],
      "text/plain": [
       "      frequency               bigram\n",
       "0            17  versetzte charlotte\n",
       "1            16      sagte charlotte\n",
       "2            13         sagte eduard\n",
       "3             9     versetzte eduard\n",
       "4             6  versetzte hauptmann\n",
       "...         ...                  ...\n",
       "3999          1      abende frühsten\n",
       "4000          1         abende flöte\n",
       "4001          1     abend veranlaßte\n",
       "4002          1         abend eduard\n",
       "4003          1             ab folge\n",
       "\n",
       "[4004 rows x 2 columns]"
      ]
     },
     "execution_count": 15,
     "metadata": {},
     "output_type": "execute_result"
    }
   ],
   "source": [
    "# create dataframe\n",
    "df_ngram = pd.DataFrame(sorted([(count_values[i],k) for k,i in vocab.items()], reverse=True)\n",
    "            ).rename(columns={0: 'frequency', 1:'bigram'})\n",
    "df_ngram"
   ]
  },
  {
   "cell_type": "markdown",
   "metadata": {},
   "source": [
    "# Aufgabe 2 (Topic Modeling mit scikit-learn und pandas)\n",
    "\n",
    "Lesen Sie den Wahlverwandschaften-Text **absatzweise** ein und speichern die Absätze in einem pandas-Dataframe."
   ]
  },
  {
   "cell_type": "code",
   "execution_count": 5,
   "metadata": {},
   "outputs": [],
   "source": [
    "import warnings\n",
    "warnings.filterwarnings(\"ignore\")"
   ]
  },
  {
   "cell_type": "code",
   "execution_count": 6,
   "metadata": {},
   "outputs": [
    {
     "data": {
      "text/plain": [
       "['die wahlverwandtschaften',\n",
       " 'ein roman',\n",
       " 'von johann wolfgang von goethe',\n",
       " 'erster teil',\n",
       " 'erstes kapitel',\n",
       " 'eduard—so nennen wir einen reichen baron im besten mannesalter—eduard\\nhatte in seiner baumschule die schönste stunde eines aprilnachmittags\\nzugebracht, um frisch erhaltene pfropfreiser auf junge stämme zu\\nbringen. sein geschäft war eben vollendet; er legte die gerätschaften\\nin das futteral zusammen und betrachtete seine arbeit mit vergnügen,\\nals der gärtner hinzutrat und sich an dem teilnehmenden fleiße des\\nherrn ergetzte.',\n",
       " '„hast du meine frau nicht gesehen?“ fragte eduard, indem er sich\\nweiterzugehen anschickte.']"
      ]
     },
     "execution_count": 6,
     "metadata": {},
     "output_type": "execute_result"
    }
   ],
   "source": [
    "text = open('wahlverwandschaften.txt').read().lower()\n",
    "\n",
    "import re\n",
    "paragraphs = re.split(r'\\n\\n+', text)\n",
    "paragraphs[0:7]"
   ]
  },
  {
   "cell_type": "code",
   "execution_count": 7,
   "metadata": {},
   "outputs": [
    {
     "data": {
      "text/html": [
       "<div>\n",
       "<style scoped>\n",
       "    .dataframe tbody tr th:only-of-type {\n",
       "        vertical-align: middle;\n",
       "    }\n",
       "\n",
       "    .dataframe tbody tr th {\n",
       "        vertical-align: top;\n",
       "    }\n",
       "\n",
       "    .dataframe thead th {\n",
       "        text-align: right;\n",
       "    }\n",
       "</style>\n",
       "<table border=\"1\" class=\"dataframe\">\n",
       "  <thead>\n",
       "    <tr style=\"text-align: right;\">\n",
       "      <th></th>\n",
       "      <th>paragraphs</th>\n",
       "    </tr>\n",
       "  </thead>\n",
       "  <tbody>\n",
       "    <tr>\n",
       "      <th>0</th>\n",
       "      <td>die wahlverwandtschaften</td>\n",
       "    </tr>\n",
       "    <tr>\n",
       "      <th>1</th>\n",
       "      <td>ein roman</td>\n",
       "    </tr>\n",
       "    <tr>\n",
       "      <th>2</th>\n",
       "      <td>von johann wolfgang von goethe</td>\n",
       "    </tr>\n",
       "    <tr>\n",
       "      <th>3</th>\n",
       "      <td>erster teil</td>\n",
       "    </tr>\n",
       "    <tr>\n",
       "      <th>4</th>\n",
       "      <td>erstes kapitel</td>\n",
       "    </tr>\n",
       "    <tr>\n",
       "      <th>...</th>\n",
       "      <td>...</td>\n",
       "    </tr>\n",
       "    <tr>\n",
       "      <th>168</th>\n",
       "      <td>„ich leugne nicht“, sagte eduard, „daß die sel...</td>\n",
       "    </tr>\n",
       "    <tr>\n",
       "      <th>169</th>\n",
       "      <td>„wenn sie glauben, daß es nicht pedantisch aus...</td>\n",
       "    </tr>\n",
       "    <tr>\n",
       "      <th>170</th>\n",
       "      <td>„nun denn!“ fiel eduard ein; „bis wir alles di...</td>\n",
       "    </tr>\n",
       "    <tr>\n",
       "      <th>171</th>\n",
       "      <td>„gut!“ versetzte charlotte. „wenn auch das bei...</td>\n",
       "    </tr>\n",
       "    <tr>\n",
       "      <th>172</th>\n",
       "      <td>fünftes kapitel</td>\n",
       "    </tr>\n",
       "  </tbody>\n",
       "</table>\n",
       "<p>173 rows × 1 columns</p>\n",
       "</div>"
      ],
      "text/plain": [
       "                                            paragraphs\n",
       "0                             die wahlverwandtschaften\n",
       "1                                            ein roman\n",
       "2                       von johann wolfgang von goethe\n",
       "3                                          erster teil\n",
       "4                                       erstes kapitel\n",
       "..                                                 ...\n",
       "168  „ich leugne nicht“, sagte eduard, „daß die sel...\n",
       "169  „wenn sie glauben, daß es nicht pedantisch aus...\n",
       "170  „nun denn!“ fiel eduard ein; „bis wir alles di...\n",
       "171  „gut!“ versetzte charlotte. „wenn auch das bei...\n",
       "172                                    fünftes kapitel\n",
       "\n",
       "[173 rows x 1 columns]"
      ]
     },
     "execution_count": 7,
     "metadata": {},
     "output_type": "execute_result"
    }
   ],
   "source": [
    "import pandas as pd\n",
    "df = pd.DataFrame(paragraphs)\n",
    "df.columns = ['paragraphs']\n",
    "df"
   ]
  },
  {
   "cell_type": "markdown",
   "metadata": {},
   "source": [
    "### Aufgabe 2a: Grid Search  \n",
    "\n",
    "Verwenden Sie die Grid-Search-Funktionalität von scikit-learn (https://scikit-learn.org/stable/modules/grid_search.html#grid-search) \n",
    "um für die Absätze des Textes \n",
    "die optimale Topic-Anzahl \n",
    "über LDA (`LatentDirichletAllocation`)\n",
    "herauszufinden. \n",
    "\n",
    "- Wenden Sie den `TfidfVectorizer` auf die Absatzsammlung an (`X`).\n",
    "- Verwenden Sie untenstehenden Code, um für verschiedene Werte des `n_components`-Parameters (Topic-Anzahl) den `best_estimator_` zu berechnen.\n",
    "- Verwenden Sie anschließend die `display_topics`-Funktion von oben (Thema 4), um die Top-Keywords für das beste Modell auszugeben.\n",
    "\n"
   ]
  },
  {
   "cell_type": "code",
   "execution_count": 8,
   "metadata": {},
   "outputs": [
    {
     "name": "stdout",
     "output_type": "stream",
     "text": [
      "(173, 2806)\n"
     ]
    }
   ],
   "source": [
    "#data lda\n",
    "corpus = df['paragraphs']\n",
    "\n",
    "from sklearn.feature_extraction.text import TfidfVectorizer\n",
    "tfidf_vectorizer = TfidfVectorizer(stop_words=stop)\n",
    "X = tfidf_vectorizer.fit_transform(corpus) #X = vectors\n",
    "tfidf_feature_names = tfidf_vectorizer.get_feature_names()\n",
    "print(X.shape)"
   ]
  },
  {
   "cell_type": "code",
   "execution_count": 9,
   "metadata": {},
   "outputs": [
    {
     "data": {
      "text/plain": [
       "GridSearchCV(cv=None, error_score='raise',\n",
       "       estimator=LatentDirichletAllocation(batch_size=128, doc_topic_prior=None,\n",
       "             evaluate_every=-1, learning_decay=0.7, learning_method=None,\n",
       "             learning_offset=10.0, max_doc_update_iter=100, max_iter=10,\n",
       "             mean_change_tol=0.001, n_components=10, n_jobs=1,\n",
       "             n_topics=None, perp_tol=0.1, random_state=0,\n",
       "             topic_word_prior=None, total_samples=1000000.0, verbose=0),\n",
       "       fit_params=None, iid=True, n_jobs=1,\n",
       "       param_grid={'n_components': [3, 5, 7, 10, 15, 20], 'learning_decay': [0.5, 0.7, 0.9]},\n",
       "       pre_dispatch='2*n_jobs', refit=True, return_train_score=True,\n",
       "       scoring=None, verbose=0)"
      ]
     },
     "execution_count": 9,
     "metadata": {},
     "output_type": "execute_result"
    }
   ],
   "source": [
    "#Code: https://www.machinelearningplus.com/nlp/topic-modeling-python-sklearn-examples/#20howtoclusterdocumentsthatsharesimilartopicsandplot\n",
    "from sklearn.decomposition import LatentDirichletAllocation\n",
    "from sklearn.model_selection import GridSearchCV\n",
    "\n",
    "# Define Search Param\n",
    "search_params = {'n_components': [3, 5, 7, 10, 15, 20], 'learning_decay': [.5, .7, .9]}\n",
    "\n",
    "##n_components-Grid: Number of Topics\n",
    "\n",
    "##learning_decay, see: https://scikit-learn.org/stable/modules/generated/sklearn.decomposition.LatentDirichletAllocation.html:\n",
    "#float, default=0.7:\n",
    "#It is a parameter that control learning rate in the online learning method. \n",
    "#The value should be set between (0.5, 1.0] to guarantee asymptotic convergence. \n",
    "#When the value is 0.0 and batch_size is n_samples, the update method is same as batch learning. \n",
    "#In the literature, this is called kappa.\n",
    "\n",
    "\n",
    "# Init the Model\n",
    "lda = LatentDirichletAllocation(random_state=0)\n",
    "\n",
    "# Init Grid Search Class\n",
    "model = GridSearchCV(lda, param_grid=search_params)\n",
    "\n",
    "# Do the Grid Search\n",
    "model.fit(X)"
   ]
  },
  {
   "cell_type": "code",
   "execution_count": 10,
   "metadata": {},
   "outputs": [
    {
     "name": "stdout",
     "output_type": "stream",
     "text": [
      "Best Model's Params:  {'learning_decay': 0.5, 'n_components': 3}\n",
      "Best Log Likelihood Score:  -3074.8505025062054\n",
      "Model Perplexity:  14466.436797311793\n"
     ]
    }
   ],
   "source": [
    "# Best Model\n",
    "best_lda_model = model.best_estimator_\n",
    "\n",
    "# Model Parameters\n",
    "print(\"Best Model's Params: \", model.best_params_)\n",
    "\n",
    "# Log Likelihood Score\n",
    "print(\"Best Log Likelihood Score: \", model.best_score_)\n",
    "\n",
    "# Perplexity\n",
    "print(\"Model Perplexity: \", best_lda_model.perplexity(X))"
   ]
  },
  {
   "cell_type": "code",
   "execution_count": 11,
   "metadata": {},
   "outputs": [
    {
     "data": {
      "text/plain": [
       "LatentDirichletAllocation(batch_size=128, doc_topic_prior=None,\n",
       "             evaluate_every=-1, learning_decay=0.5, learning_method=None,\n",
       "             learning_offset=10.0, max_doc_update_iter=100, max_iter=10,\n",
       "             mean_change_tol=0.001, n_components=3, n_jobs=1,\n",
       "             n_topics=None, perp_tol=0.1, random_state=0,\n",
       "             topic_word_prior=None, total_samples=1000000.0, verbose=0)"
      ]
     },
     "execution_count": 11,
     "metadata": {},
     "output_type": "execute_result"
    }
   ],
   "source": [
    "best_lda_model"
   ]
  },
  {
   "cell_type": "code",
   "execution_count": 12,
   "metadata": {},
   "outputs": [],
   "source": [
    "def display_topics(model, feature_names, no_top_words):\n",
    "    for topic_idx, topic in enumerate(model.components_):\n",
    "        print(\"Topic %d:\" % (topic_idx))\n",
    "        print(\" \".join([feature_names[i]\n",
    "                        for i in topic.argsort()[:-no_top_words - 1:-1]]))\n",
    "\n",
    "no_top_words = 20"
   ]
  },
  {
   "cell_type": "code",
   "execution_count": 13,
   "metadata": {},
   "outputs": [
    {
     "name": "stdout",
     "output_type": "stream",
     "text": [
      "Topic 0:\n",
      "sagte charlotte eduard schon frage lassen vereinigen muß versetzte wesen bald wohl ganz beistimmend wasser verhältnis gern wäre fragte wissen\n",
      "Topic 1:\n",
      "sagte eduard charlotte hauptmann chemiker beschreiben fall versetzte welt viertes völlig immer erst erwiderte versichert beseitelegte aufmerksamkeit chemischen ganzen arbeit\n",
      "Topic 2:\n",
      "kapitel versetzte charlotte fünftes hauptmann fiel öl rief genug verwandtschaften verlassen gleich wasser mehr verbinden leider laugensalz eduard wer wort\n"
     ]
    }
   ],
   "source": [
    "display_topics(best_lda_model, tfidf_feature_names, no_top_words)"
   ]
  },
  {
   "cell_type": "markdown",
   "metadata": {},
   "source": [
    "### Aufgabe 2b: Dominante Topics\n",
    "\n",
    "Verwenden Sie untenstehenden Code (vgl. https://www.machinelearningplus.com/nlp/topic-modeling-python-sklearn-examples/#14howtoseethedominanttopicineachdocument), \n",
    "um die Dokument-Topic-Matrix in einem Dataframe abzuspeichern \n",
    "und das dominante Topic für jedes Dokument (hier: Absatz) zu bestimmen."
   ]
  },
  {
   "cell_type": "code",
   "execution_count": 14,
   "metadata": {},
   "outputs": [
    {
     "data": {
      "text/plain": [
       "3"
      ]
     },
     "execution_count": 14,
     "metadata": {},
     "output_type": "execute_result"
    }
   ],
   "source": [
    "best_lda_model.n_components"
   ]
  },
  {
   "cell_type": "code",
   "execution_count": 15,
   "metadata": {},
   "outputs": [],
   "source": [
    "data = df['paragraphs']\n",
    "data_vectorized = X"
   ]
  },
  {
   "cell_type": "code",
   "execution_count": 16,
   "metadata": {},
   "outputs": [],
   "source": [
    "#Code: https://www.machinelearningplus.com/nlp/topic-modeling-python-sklearn-examples/#14howtoseethedominanttopicineachdocument\n",
    "\n",
    "# Create Document - Topic Matrix\n",
    "lda_output = best_lda_model.transform(data_vectorized)\n",
    "\n",
    "# column names\n",
    "topicnames = [\"Topic\" + str(i) for i in range(best_lda_model.n_components)]\n",
    "\n",
    "# index names\n",
    "#docnames = [\"Doc\" + str(i) for i in range(len(data))]\n",
    "docnames = [str(i) for i in data]"
   ]
  },
  {
   "cell_type": "code",
   "execution_count": 17,
   "metadata": {},
   "outputs": [],
   "source": [
    "import numpy as np\n",
    "\n",
    "# Make the pandas dataframe\n",
    "df_document_topic = pd.DataFrame(np.round(lda_output, 2), columns=topicnames, index=docnames)\n",
    "\n",
    "# Get dominant topic for each document\n",
    "dominant_topic = np.argmax(df_document_topic.values, axis=1)\n",
    "df_document_topic['dominant_topic'] = dominant_topic"
   ]
  },
  {
   "cell_type": "code",
   "execution_count": 18,
   "metadata": {},
   "outputs": [
    {
     "data": {
      "text/html": [
       "<style  type=\"text/css\" >\n",
       "#T_f4f90ac8_f087_11ec_9661_acbc32b6f41brow0_col0,#T_f4f90ac8_f087_11ec_9661_acbc32b6f41brow0_col1,#T_f4f90ac8_f087_11ec_9661_acbc32b6f41brow0_col2,#T_f4f90ac8_f087_11ec_9661_acbc32b6f41brow0_col3,#T_f4f90ac8_f087_11ec_9661_acbc32b6f41brow1_col0,#T_f4f90ac8_f087_11ec_9661_acbc32b6f41brow1_col1,#T_f4f90ac8_f087_11ec_9661_acbc32b6f41brow1_col2,#T_f4f90ac8_f087_11ec_9661_acbc32b6f41brow2_col0,#T_f4f90ac8_f087_11ec_9661_acbc32b6f41brow2_col1,#T_f4f90ac8_f087_11ec_9661_acbc32b6f41brow2_col2,#T_f4f90ac8_f087_11ec_9661_acbc32b6f41brow2_col3,#T_f4f90ac8_f087_11ec_9661_acbc32b6f41brow3_col0,#T_f4f90ac8_f087_11ec_9661_acbc32b6f41brow3_col1,#T_f4f90ac8_f087_11ec_9661_acbc32b6f41brow3_col2,#T_f4f90ac8_f087_11ec_9661_acbc32b6f41brow3_col3,#T_f4f90ac8_f087_11ec_9661_acbc32b6f41brow4_col0,#T_f4f90ac8_f087_11ec_9661_acbc32b6f41brow4_col1,#T_f4f90ac8_f087_11ec_9661_acbc32b6f41brow4_col2,#T_f4f90ac8_f087_11ec_9661_acbc32b6f41brow4_col3,#T_f4f90ac8_f087_11ec_9661_acbc32b6f41brow5_col0,#T_f4f90ac8_f087_11ec_9661_acbc32b6f41brow6_col0,#T_f4f90ac8_f087_11ec_9661_acbc32b6f41brow6_col1,#T_f4f90ac8_f087_11ec_9661_acbc32b6f41brow6_col3,#T_f4f90ac8_f087_11ec_9661_acbc32b6f41brow7_col2,#T_f4f90ac8_f087_11ec_9661_acbc32b6f41brow7_col3,#T_f4f90ac8_f087_11ec_9661_acbc32b6f41brow8_col0,#T_f4f90ac8_f087_11ec_9661_acbc32b6f41brow9_col2,#T_f4f90ac8_f087_11ec_9661_acbc32b6f41brow9_col3,#T_f4f90ac8_f087_11ec_9661_acbc32b6f41brow10_col0,#T_f4f90ac8_f087_11ec_9661_acbc32b6f41brow11_col0,#T_f4f90ac8_f087_11ec_9661_acbc32b6f41brow12_col0,#T_f4f90ac8_f087_11ec_9661_acbc32b6f41brow13_col0,#T_f4f90ac8_f087_11ec_9661_acbc32b6f41brow14_col0,#T_f4f90ac8_f087_11ec_9661_acbc32b6f41brow14_col1,#T_f4f90ac8_f087_11ec_9661_acbc32b6f41brow14_col2,#T_f4f90ac8_f087_11ec_9661_acbc32b6f41brow14_col3{\n",
       "            color:  green;\n",
       "            font-weight:  700;\n",
       "        }#T_f4f90ac8_f087_11ec_9661_acbc32b6f41brow1_col3,#T_f4f90ac8_f087_11ec_9661_acbc32b6f41brow5_col1,#T_f4f90ac8_f087_11ec_9661_acbc32b6f41brow5_col2,#T_f4f90ac8_f087_11ec_9661_acbc32b6f41brow5_col3,#T_f4f90ac8_f087_11ec_9661_acbc32b6f41brow6_col2,#T_f4f90ac8_f087_11ec_9661_acbc32b6f41brow7_col0,#T_f4f90ac8_f087_11ec_9661_acbc32b6f41brow7_col1,#T_f4f90ac8_f087_11ec_9661_acbc32b6f41brow8_col1,#T_f4f90ac8_f087_11ec_9661_acbc32b6f41brow8_col2,#T_f4f90ac8_f087_11ec_9661_acbc32b6f41brow8_col3,#T_f4f90ac8_f087_11ec_9661_acbc32b6f41brow9_col0,#T_f4f90ac8_f087_11ec_9661_acbc32b6f41brow9_col1,#T_f4f90ac8_f087_11ec_9661_acbc32b6f41brow10_col1,#T_f4f90ac8_f087_11ec_9661_acbc32b6f41brow10_col2,#T_f4f90ac8_f087_11ec_9661_acbc32b6f41brow10_col3,#T_f4f90ac8_f087_11ec_9661_acbc32b6f41brow11_col1,#T_f4f90ac8_f087_11ec_9661_acbc32b6f41brow11_col2,#T_f4f90ac8_f087_11ec_9661_acbc32b6f41brow11_col3,#T_f4f90ac8_f087_11ec_9661_acbc32b6f41brow12_col1,#T_f4f90ac8_f087_11ec_9661_acbc32b6f41brow12_col2,#T_f4f90ac8_f087_11ec_9661_acbc32b6f41brow12_col3,#T_f4f90ac8_f087_11ec_9661_acbc32b6f41brow13_col1,#T_f4f90ac8_f087_11ec_9661_acbc32b6f41brow13_col2,#T_f4f90ac8_f087_11ec_9661_acbc32b6f41brow13_col3{\n",
       "            color:  black;\n",
       "            font-weight:  400;\n",
       "        }</style><table id=\"T_f4f90ac8_f087_11ec_9661_acbc32b6f41b\" ><thead>    <tr>        <th class=\"blank level0\" ></th>        <th class=\"col_heading level0 col0\" >Topic0</th>        <th class=\"col_heading level0 col1\" >Topic1</th>        <th class=\"col_heading level0 col2\" >Topic2</th>        <th class=\"col_heading level0 col3\" >dominant_topic</th>    </tr></thead><tbody>\n",
       "                <tr>\n",
       "                        <th id=\"T_f4f90ac8_f087_11ec_9661_acbc32b6f41blevel0_row0\" class=\"row_heading level0 row0\" >die wahlverwandtschaften</th>\n",
       "                        <td id=\"T_f4f90ac8_f087_11ec_9661_acbc32b6f41brow0_col0\" class=\"data row0 col0\" >0.180000</td>\n",
       "                        <td id=\"T_f4f90ac8_f087_11ec_9661_acbc32b6f41brow0_col1\" class=\"data row0 col1\" >0.630000</td>\n",
       "                        <td id=\"T_f4f90ac8_f087_11ec_9661_acbc32b6f41brow0_col2\" class=\"data row0 col2\" >0.180000</td>\n",
       "                        <td id=\"T_f4f90ac8_f087_11ec_9661_acbc32b6f41brow0_col3\" class=\"data row0 col3\" >1</td>\n",
       "            </tr>\n",
       "            <tr>\n",
       "                        <th id=\"T_f4f90ac8_f087_11ec_9661_acbc32b6f41blevel0_row1\" class=\"row_heading level0 row1\" >ein roman</th>\n",
       "                        <td id=\"T_f4f90ac8_f087_11ec_9661_acbc32b6f41brow1_col0\" class=\"data row1 col0\" >0.660000</td>\n",
       "                        <td id=\"T_f4f90ac8_f087_11ec_9661_acbc32b6f41brow1_col1\" class=\"data row1 col1\" >0.170000</td>\n",
       "                        <td id=\"T_f4f90ac8_f087_11ec_9661_acbc32b6f41brow1_col2\" class=\"data row1 col2\" >0.170000</td>\n",
       "                        <td id=\"T_f4f90ac8_f087_11ec_9661_acbc32b6f41brow1_col3\" class=\"data row1 col3\" >0</td>\n",
       "            </tr>\n",
       "            <tr>\n",
       "                        <th id=\"T_f4f90ac8_f087_11ec_9661_acbc32b6f41blevel0_row2\" class=\"row_heading level0 row2\" >von johann wolfgang von goethe</th>\n",
       "                        <td id=\"T_f4f90ac8_f087_11ec_9661_acbc32b6f41brow2_col0\" class=\"data row2 col0\" >0.120000</td>\n",
       "                        <td id=\"T_f4f90ac8_f087_11ec_9661_acbc32b6f41brow2_col1\" class=\"data row2 col1\" >0.130000</td>\n",
       "                        <td id=\"T_f4f90ac8_f087_11ec_9661_acbc32b6f41brow2_col2\" class=\"data row2 col2\" >0.750000</td>\n",
       "                        <td id=\"T_f4f90ac8_f087_11ec_9661_acbc32b6f41brow2_col3\" class=\"data row2 col3\" >2</td>\n",
       "            </tr>\n",
       "            <tr>\n",
       "                        <th id=\"T_f4f90ac8_f087_11ec_9661_acbc32b6f41blevel0_row3\" class=\"row_heading level0 row3\" >erster teil</th>\n",
       "                        <td id=\"T_f4f90ac8_f087_11ec_9661_acbc32b6f41brow3_col0\" class=\"data row3 col0\" >0.140000</td>\n",
       "                        <td id=\"T_f4f90ac8_f087_11ec_9661_acbc32b6f41brow3_col1\" class=\"data row3 col1\" >0.150000</td>\n",
       "                        <td id=\"T_f4f90ac8_f087_11ec_9661_acbc32b6f41brow3_col2\" class=\"data row3 col2\" >0.710000</td>\n",
       "                        <td id=\"T_f4f90ac8_f087_11ec_9661_acbc32b6f41brow3_col3\" class=\"data row3 col3\" >2</td>\n",
       "            </tr>\n",
       "            <tr>\n",
       "                        <th id=\"T_f4f90ac8_f087_11ec_9661_acbc32b6f41blevel0_row4\" class=\"row_heading level0 row4\" >erstes kapitel</th>\n",
       "                        <td id=\"T_f4f90ac8_f087_11ec_9661_acbc32b6f41brow4_col0\" class=\"data row4 col0\" >0.140000</td>\n",
       "                        <td id=\"T_f4f90ac8_f087_11ec_9661_acbc32b6f41brow4_col1\" class=\"data row4 col1\" >0.140000</td>\n",
       "                        <td id=\"T_f4f90ac8_f087_11ec_9661_acbc32b6f41brow4_col2\" class=\"data row4 col2\" >0.720000</td>\n",
       "                        <td id=\"T_f4f90ac8_f087_11ec_9661_acbc32b6f41brow4_col3\" class=\"data row4 col3\" >2</td>\n",
       "            </tr>\n",
       "            <tr>\n",
       "                        <th id=\"T_f4f90ac8_f087_11ec_9661_acbc32b6f41blevel0_row5\" class=\"row_heading level0 row5\" >eduard—so nennen wir einen reichen baron im besten mannesalter—eduard\n",
       "hatte in seiner baumschule die schönste stunde eines aprilnachmittags\n",
       "zugebracht, um frisch erhaltene pfropfreiser auf junge stämme zu\n",
       "bringen. sein geschäft war eben vollendet; er legte die gerätschaften\n",
       "in das futteral zusammen und betrachtete seine arbeit mit vergnügen,\n",
       "als der gärtner hinzutrat und sich an dem teilnehmenden fleiße des\n",
       "herrn ergetzte.</th>\n",
       "                        <td id=\"T_f4f90ac8_f087_11ec_9661_acbc32b6f41brow5_col0\" class=\"data row5 col0\" >0.890000</td>\n",
       "                        <td id=\"T_f4f90ac8_f087_11ec_9661_acbc32b6f41brow5_col1\" class=\"data row5 col1\" >0.060000</td>\n",
       "                        <td id=\"T_f4f90ac8_f087_11ec_9661_acbc32b6f41brow5_col2\" class=\"data row5 col2\" >0.060000</td>\n",
       "                        <td id=\"T_f4f90ac8_f087_11ec_9661_acbc32b6f41brow5_col3\" class=\"data row5 col3\" >0</td>\n",
       "            </tr>\n",
       "            <tr>\n",
       "                        <th id=\"T_f4f90ac8_f087_11ec_9661_acbc32b6f41blevel0_row6\" class=\"row_heading level0 row6\" >„hast du meine frau nicht gesehen?“ fragte eduard, indem er sich\n",
       "weiterzugehen anschickte.</th>\n",
       "                        <td id=\"T_f4f90ac8_f087_11ec_9661_acbc32b6f41brow6_col0\" class=\"data row6 col0\" >0.120000</td>\n",
       "                        <td id=\"T_f4f90ac8_f087_11ec_9661_acbc32b6f41brow6_col1\" class=\"data row6 col1\" >0.780000</td>\n",
       "                        <td id=\"T_f4f90ac8_f087_11ec_9661_acbc32b6f41brow6_col2\" class=\"data row6 col2\" >0.100000</td>\n",
       "                        <td id=\"T_f4f90ac8_f087_11ec_9661_acbc32b6f41brow6_col3\" class=\"data row6 col3\" >1</td>\n",
       "            </tr>\n",
       "            <tr>\n",
       "                        <th id=\"T_f4f90ac8_f087_11ec_9661_acbc32b6f41blevel0_row7\" class=\"row_heading level0 row7\" >„drüben in den neuen anlagen“, versetzte der gärtner. „die mooshütte\n",
       "wird heute fertig, die sie an der felswand, dem schlosse gegenüber,\n",
       "gebaut hat. alles ist recht schön geworden und muß euer gnaden\n",
       "gefallen. man hat einen vortrefflichen anblick: unten das dorf, ein\n",
       "wenig rechter hand die kirche, über deren turmspitze man fast\n",
       "hinwegsieht, gegenüber das schloß und die gärten“.</th>\n",
       "                        <td id=\"T_f4f90ac8_f087_11ec_9661_acbc32b6f41brow7_col0\" class=\"data row7 col0\" >0.060000</td>\n",
       "                        <td id=\"T_f4f90ac8_f087_11ec_9661_acbc32b6f41brow7_col1\" class=\"data row7 col1\" >0.060000</td>\n",
       "                        <td id=\"T_f4f90ac8_f087_11ec_9661_acbc32b6f41brow7_col2\" class=\"data row7 col2\" >0.880000</td>\n",
       "                        <td id=\"T_f4f90ac8_f087_11ec_9661_acbc32b6f41brow7_col3\" class=\"data row7 col3\" >2</td>\n",
       "            </tr>\n",
       "            <tr>\n",
       "                        <th id=\"T_f4f90ac8_f087_11ec_9661_acbc32b6f41blevel0_row8\" class=\"row_heading level0 row8\" >„ganz recht“, versetzte eduard; „einige schritte von hier konnte ich\n",
       "die leute arbeiten sehen“.</th>\n",
       "                        <td id=\"T_f4f90ac8_f087_11ec_9661_acbc32b6f41brow8_col0\" class=\"data row8 col0\" >0.810000</td>\n",
       "                        <td id=\"T_f4f90ac8_f087_11ec_9661_acbc32b6f41brow8_col1\" class=\"data row8 col1\" >0.090000</td>\n",
       "                        <td id=\"T_f4f90ac8_f087_11ec_9661_acbc32b6f41brow8_col2\" class=\"data row8 col2\" >0.090000</td>\n",
       "                        <td id=\"T_f4f90ac8_f087_11ec_9661_acbc32b6f41brow8_col3\" class=\"data row8 col3\" >0</td>\n",
       "            </tr>\n",
       "            <tr>\n",
       "                        <th id=\"T_f4f90ac8_f087_11ec_9661_acbc32b6f41blevel0_row9\" class=\"row_heading level0 row9\" >„dann“, fuhr der gärtner fort, „öffnet sich rechts das tal, und man\n",
       "sieht über die reichen baumwiesen in eine heitere ferne. der stieg die\n",
       "felsen hinauf ist gar hübsch angelegt. die gnädige frau versteht es;\n",
       "man arbeitet unter ihr mit vergnügen“.</th>\n",
       "                        <td id=\"T_f4f90ac8_f087_11ec_9661_acbc32b6f41brow9_col0\" class=\"data row9 col0\" >0.080000</td>\n",
       "                        <td id=\"T_f4f90ac8_f087_11ec_9661_acbc32b6f41brow9_col1\" class=\"data row9 col1\" >0.080000</td>\n",
       "                        <td id=\"T_f4f90ac8_f087_11ec_9661_acbc32b6f41brow9_col2\" class=\"data row9 col2\" >0.850000</td>\n",
       "                        <td id=\"T_f4f90ac8_f087_11ec_9661_acbc32b6f41brow9_col3\" class=\"data row9 col3\" >2</td>\n",
       "            </tr>\n",
       "            <tr>\n",
       "                        <th id=\"T_f4f90ac8_f087_11ec_9661_acbc32b6f41blevel0_row10\" class=\"row_heading level0 row10\" >„geh zu ihr“, sagte eduard, „und ersuche sie, auf mich zu warten. sage\n",
       "ihr, ich wünsche die neue schöpfung zu sehen und mich daran zu\n",
       "erfreuen“.</th>\n",
       "                        <td id=\"T_f4f90ac8_f087_11ec_9661_acbc32b6f41brow10_col0\" class=\"data row10 col0\" >0.830000</td>\n",
       "                        <td id=\"T_f4f90ac8_f087_11ec_9661_acbc32b6f41brow10_col1\" class=\"data row10 col1\" >0.080000</td>\n",
       "                        <td id=\"T_f4f90ac8_f087_11ec_9661_acbc32b6f41brow10_col2\" class=\"data row10 col2\" >0.090000</td>\n",
       "                        <td id=\"T_f4f90ac8_f087_11ec_9661_acbc32b6f41brow10_col3\" class=\"data row10 col3\" >0</td>\n",
       "            </tr>\n",
       "            <tr>\n",
       "                        <th id=\"T_f4f90ac8_f087_11ec_9661_acbc32b6f41blevel0_row11\" class=\"row_heading level0 row11\" >der gärtner entfernte sich eilig, und eduard folgte bald.</th>\n",
       "                        <td id=\"T_f4f90ac8_f087_11ec_9661_acbc32b6f41brow11_col0\" class=\"data row11 col0\" >0.790000</td>\n",
       "                        <td id=\"T_f4f90ac8_f087_11ec_9661_acbc32b6f41brow11_col1\" class=\"data row11 col1\" >0.100000</td>\n",
       "                        <td id=\"T_f4f90ac8_f087_11ec_9661_acbc32b6f41brow11_col2\" class=\"data row11 col2\" >0.100000</td>\n",
       "                        <td id=\"T_f4f90ac8_f087_11ec_9661_acbc32b6f41brow11_col3\" class=\"data row11 col3\" >0</td>\n",
       "            </tr>\n",
       "            <tr>\n",
       "                        <th id=\"T_f4f90ac8_f087_11ec_9661_acbc32b6f41blevel0_row12\" class=\"row_heading level0 row12\" >dieser stieg nun die terrassen hinunter, musterte im vorbeigehen\n",
       "gewächshäuser und treibebeete, bis er ans wasser, dann über einen steg\n",
       "an den ort kam, wo sich der pfad nach den neuen anlagen in zwei arme\n",
       "teilte. den einen, der über den kirchhof ziemlich gerade nach der\n",
       "felswand hinging, ließ er liegen, um den andern einzuschlagen, der sich\n",
       "links etwas weiter durch anmutiges gebüsch sachte hinaufwand; da, wo\n",
       "beide zusammentrafen, setzte er sich für einen augenblick auf einer\n",
       "wohlangebrachten bank nieder, betrat sodann den eigentlichen stieg und\n",
       "sah sich durch allerlei treppen und absätze auf dem schmalen, bald mehr\n",
       "bald weniger steilen wege endlich zur mooshütte geleitet.</th>\n",
       "                        <td id=\"T_f4f90ac8_f087_11ec_9661_acbc32b6f41brow12_col0\" class=\"data row12 col0\" >0.910000</td>\n",
       "                        <td id=\"T_f4f90ac8_f087_11ec_9661_acbc32b6f41brow12_col1\" class=\"data row12 col1\" >0.050000</td>\n",
       "                        <td id=\"T_f4f90ac8_f087_11ec_9661_acbc32b6f41brow12_col2\" class=\"data row12 col2\" >0.050000</td>\n",
       "                        <td id=\"T_f4f90ac8_f087_11ec_9661_acbc32b6f41brow12_col3\" class=\"data row12 col3\" >0</td>\n",
       "            </tr>\n",
       "            <tr>\n",
       "                        <th id=\"T_f4f90ac8_f087_11ec_9661_acbc32b6f41blevel0_row13\" class=\"row_heading level0 row13\" >an der türe empfing charlotte ihren gemahl und ließ ihn dergestalt\n",
       "niedersitzen, daß er durch tür und fenster die verschiedenen bilder,\n",
       "welche die landschaft gleichsam im rahmen zeigten, auf einen blick\n",
       "übersehen konnte. er freute sich daran in hoffnung, daß der frühling\n",
       "bald alles noch reichlicher beleben würde. „nur eines habe ich zu\n",
       "erinnern“, setzte er hinzu, „die hütte scheint mir etwas zu eng“.</th>\n",
       "                        <td id=\"T_f4f90ac8_f087_11ec_9661_acbc32b6f41brow13_col0\" class=\"data row13 col0\" >0.890000</td>\n",
       "                        <td id=\"T_f4f90ac8_f087_11ec_9661_acbc32b6f41brow13_col1\" class=\"data row13 col1\" >0.060000</td>\n",
       "                        <td id=\"T_f4f90ac8_f087_11ec_9661_acbc32b6f41brow13_col2\" class=\"data row13 col2\" >0.060000</td>\n",
       "                        <td id=\"T_f4f90ac8_f087_11ec_9661_acbc32b6f41brow13_col3\" class=\"data row13 col3\" >0</td>\n",
       "            </tr>\n",
       "            <tr>\n",
       "                        <th id=\"T_f4f90ac8_f087_11ec_9661_acbc32b6f41blevel0_row14\" class=\"row_heading level0 row14\" >„für uns beide doch geräumig genug“, versetzte charlotte.</th>\n",
       "                        <td id=\"T_f4f90ac8_f087_11ec_9661_acbc32b6f41brow14_col0\" class=\"data row14 col0\" >0.120000</td>\n",
       "                        <td id=\"T_f4f90ac8_f087_11ec_9661_acbc32b6f41brow14_col1\" class=\"data row14 col1\" >0.120000</td>\n",
       "                        <td id=\"T_f4f90ac8_f087_11ec_9661_acbc32b6f41brow14_col2\" class=\"data row14 col2\" >0.770000</td>\n",
       "                        <td id=\"T_f4f90ac8_f087_11ec_9661_acbc32b6f41brow14_col3\" class=\"data row14 col3\" >2</td>\n",
       "            </tr>\n",
       "    </tbody></table>"
      ],
      "text/plain": [
       "<pandas.io.formats.style.Styler at 0x127beca20>"
      ]
     },
     "execution_count": 18,
     "metadata": {},
     "output_type": "execute_result"
    }
   ],
   "source": [
    "# Styling\n",
    "def color_green(val):\n",
    "    color = 'green' if val > .1 else 'black'\n",
    "    return 'color: {col}'.format(col=color)\n",
    "\n",
    "def make_bold(val):\n",
    "    weight = 700 if val > .1 else 400\n",
    "    return 'font-weight: {weight}'.format(weight=weight)\n",
    "\n",
    "# Apply Style\n",
    "df_document_topics = df_document_topic.head(15).style.applymap(color_green).applymap(make_bold)\n",
    "df_document_topics"
   ]
  },
  {
   "cell_type": "markdown",
   "metadata": {},
   "source": [
    "### Aufgabe 2c: Clustering  der Topics\n",
    "\n",
    "Verwenden Sie den KMeans-Algorithmus, \n",
    "um ähnliche Themen zu clustern\n",
    "und das Ergebnis zu plotten.\n",
    "\n",
    "Sie können sich dabei an untenstehendem Code orientieren (vgl. https://www.machinelearningplus.com/nlp/topic-modeling-python-sklearn-examples/#20howtoclusterdocumentsthatsharesimilartopicsandplot).\n"
   ]
  },
  {
   "cell_type": "code",
   "execution_count": 19,
   "metadata": {},
   "outputs": [
    {
     "data": {
      "text/plain": [
       "array([[0.18303698, 0.63311213, 0.18385089],\n",
       "       [0.661269  , 0.16935577, 0.16937523],\n",
       "       [0.12484935, 0.12512748, 0.75002317],\n",
       "       [0.14108025, 0.1494746 , 0.70944515],\n",
       "       [0.1397106 , 0.14082282, 0.71946659]])"
      ]
     },
     "execution_count": 19,
     "metadata": {},
     "output_type": "execute_result"
    }
   ],
   "source": [
    "lda_output[0:5]"
   ]
  },
  {
   "cell_type": "code",
   "execution_count": 20,
   "metadata": {},
   "outputs": [
    {
     "data": {
      "text/plain": [
       "3"
      ]
     },
     "execution_count": 20,
     "metadata": {},
     "output_type": "execute_result"
    }
   ],
   "source": [
    "best_lda_model.n_components"
   ]
  },
  {
   "cell_type": "code",
   "execution_count": 21,
   "metadata": {},
   "outputs": [
    {
     "name": "stdout",
     "output_type": "stream",
     "text": [
      "Component's weights: \n",
      " [[ 0.82  0.42  0.39]\n",
      " [-0.57  0.68  0.46]]\n",
      "Perc of Variance Explained: \n",
      " [0.06 0.49]\n"
     ]
    }
   ],
   "source": [
    "#Code: https://www.machinelearningplus.com/nlp/topic-modeling-python-sklearn-examples/#20howtoclusterdocumentsthatsharesimilartopicsandplot\n",
    "\n",
    "# Construct the k-means clusters\n",
    "from sklearn.cluster import KMeans\n",
    "clusters = KMeans(n_clusters=best_lda_model.n_components, random_state=0).fit_predict(lda_output)\n",
    "\n",
    "## Dimensionsreduktion:\n",
    "\n",
    "# Build the Singular Value Decomposition(SVD) model\n",
    "from sklearn.decomposition import TruncatedSVD\n",
    "\n",
    "svd_model = TruncatedSVD(n_components=2)  # 2 components\n",
    "lda_output_svd = svd_model.fit_transform(lda_output)\n",
    "\n",
    "# X and Y axes of the plot using SVD decomposition\n",
    "x = lda_output_svd[:, 0]\n",
    "y = lda_output_svd[:, 1]\n",
    "\n",
    "# Weights for the 15 columns of lda_output, for each component\n",
    "print(\"Component's weights: \\n\", np.round(svd_model.components_, 2))\n",
    "\n",
    "# Percentage of total information in 'lda_output' explained by the two components\n",
    "print(\"Perc of Variance Explained: \\n\", np.round(svd_model.explained_variance_ratio_, 2))"
   ]
  },
  {
   "cell_type": "code",
   "execution_count": 22,
   "metadata": {},
   "outputs": [
    {
     "data": {
      "text/plain": [
       "<matplotlib.text.Text at 0x126835860>"
      ]
     },
     "execution_count": 22,
     "metadata": {},
     "output_type": "execute_result"
    },
    {
     "data": {
      "image/png": "[encoded data removed]",
      "text/plain": [
       "<matplotlib.figure.Figure at 0x126525be0>"
      ]
     },
     "metadata": {},
     "output_type": "display_data"
    }
   ],
   "source": [
    "# Plot\n",
    "import matplotlib.pyplot as plt\n",
    "#import pandas as pd\n",
    "%matplotlib inline\n",
    "\n",
    "plt.figure(figsize=(5, 5))\n",
    "plt.scatter(x, y, c=clusters)\n",
    "plt.xlabel('Component 2')\n",
    "plt.xlabel('Component 1')\n",
    "plt.title(\"Segregation of Topic Clusters\", )"
   ]
  },
  {
   "cell_type": "markdown",
   "metadata": {},
   "source": [
    "# Aufgabe 3 (Dokumentenklassifikation mit scikit-learn)\n",
    "\n",
    "\n",
    "### Aufgabe 3a: SVM-Klassifikator-Pipeline\n",
    "\n",
    "Trainieren und testen Sie - analog zu Thema 3 der Vorlesung einer tfidf-Keyword-basierten Klassifikation mit Naive Bayes Modell - einen SVM-Klassifikator mit dem `20newsgroups`-Korpus von scikit-learn in einer Pipeline."
   ]
  },
  {
   "cell_type": "code",
   "execution_count": 23,
   "metadata": {},
   "outputs": [],
   "source": [
    "#import data\n",
    "from sklearn.datasets import fetch_20newsgroups\n",
    "categories = ['alt.atheism', 'soc.religion.christian','comp.graphics', 'sci.med']\n",
    "twenty_train = fetch_20newsgroups(subset='train', categories=categories, shuffle=True, random_state=42)"
   ]
  },
  {
   "cell_type": "code",
   "execution_count": 24,
   "metadata": {},
   "outputs": [],
   "source": [
    "#import classifier\n",
    "from sklearn import svm\n",
    "from sklearn.feature_extraction.text import CountVectorizer\n",
    "from sklearn.feature_extraction.text import TfidfTransformer\n",
    "\n",
    "#Building a pipeline with SVM-classifier:\n",
    "from sklearn.pipeline import Pipeline\n",
    "text_clf = Pipeline([\n",
    "    ('vect', CountVectorizer()),\n",
    "    ('tfidf', TfidfTransformer()),\n",
    "    ('clf', svm.LinearSVC()),\n",
    "    ])"
   ]
  },
  {
   "cell_type": "code",
   "execution_count": 25,
   "metadata": {},
   "outputs": [
    {
     "data": {
      "text/plain": [
       "Pipeline(memory=None,\n",
       "     steps=[('vect', CountVectorizer(analyzer='word', binary=False, decode_error='strict',\n",
       "        dtype=<class 'numpy.int64'>, encoding='utf-8', input='content',\n",
       "        lowercase=True, max_df=1.0, max_features=None, min_df=1,\n",
       "        ngram_range=(1, 1), preprocessor=None, stop_words=None,\n",
       "        strip...ax_iter=1000,\n",
       "     multi_class='ovr', penalty='l2', random_state=None, tol=0.0001,\n",
       "     verbose=0))])"
      ]
     },
     "execution_count": 25,
     "metadata": {},
     "output_type": "execute_result"
    }
   ],
   "source": [
    "text_clf.fit(twenty_train.data, twenty_train.target)"
   ]
  },
  {
   "cell_type": "code",
   "execution_count": 26,
   "metadata": {},
   "outputs": [
    {
     "data": {
      "text/plain": [
       "0.9214380825565912"
      ]
     },
     "execution_count": 26,
     "metadata": {},
     "output_type": "execute_result"
    }
   ],
   "source": [
    "#Evaluation of the performance on the test set\n",
    "twenty_test = fetch_20newsgroups(subset='test', categories=categories, shuffle=True, random_state=42)\n",
    "docs_test = twenty_test.data\n",
    "predicted = text_clf.predict(docs_test)\n",
    "np.mean(predicted == twenty_test.target)"
   ]
  },
  {
   "cell_type": "markdown",
   "metadata": {},
   "source": [
    "### Aufgabe 3b: Prediction\n",
    "\n",
    "Verwenden Sie das trainierte Klassifikator-Modell anschließend für die Vorhersage der Genre-Klassen neuer Texte/Sätze."
   ]
  },
  {
   "cell_type": "code",
   "execution_count": 27,
   "metadata": {},
   "outputs": [],
   "source": [
    "#predict\n",
    "docs_new = ['God is love', 'OpenGL on the GPU is fast']\n",
    "#keine Vektorisierung nötig mit Pipeline!"
   ]
  },
  {
   "cell_type": "code",
   "execution_count": 28,
   "metadata": {},
   "outputs": [
    {
     "data": {
      "text/plain": [
       "Pipeline(memory=None,\n",
       "     steps=[('vect', CountVectorizer(analyzer='word', binary=False, decode_error='strict',\n",
       "        dtype=<class 'numpy.int64'>, encoding='utf-8', input='content',\n",
       "        lowercase=True, max_df=1.0, max_features=None, min_df=1,\n",
       "        ngram_range=(1, 1), preprocessor=None, stop_words=None,\n",
       "        strip...ax_iter=1000,\n",
       "     multi_class='ovr', penalty='l2', random_state=None, tol=0.0001,\n",
       "     verbose=0))])"
      ]
     },
     "execution_count": 28,
     "metadata": {},
     "output_type": "execute_result"
    }
   ],
   "source": [
    "#from above:\n",
    "text_clf"
   ]
  },
  {
   "cell_type": "code",
   "execution_count": 29,
   "metadata": {},
   "outputs": [
    {
     "name": "stdout",
     "output_type": "stream",
     "text": [
      "'God is love' => soc.religion.christian\n",
      "'OpenGL on the GPU is fast' => comp.graphics\n"
     ]
    }
   ],
   "source": [
    "predicted = text_clf.predict(docs_new)\n",
    "\n",
    "for doc, category in zip(docs_new, predicted):\n",
    "    print('%r => %s' % (doc, twenty_train.target_names[category]))"
   ]
  }
 ],
 "metadata": {
  "kernelspec": {
   "display_name": "Python 3",
   "language": "python",
   "name": "python3"
  },
  "language_info": {
   "codemirror_mode": {
    "name": "ipython",
    "version": 3
   },
   "file_extension": ".py",
   "mimetype": "text/x-python",
   "name": "python",
   "nbconvert_exporter": "python",
   "pygments_lexer": "ipython3",
   "version": "3.6.1"
  }
 },
 "nbformat": 4,
 "nbformat_minor": 2
}
