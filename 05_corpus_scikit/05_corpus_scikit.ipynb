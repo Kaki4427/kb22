{
 "cells": [
  {
   "cell_type": "markdown",
   "metadata": {},
   "source": [
    "# 5: Korpusanalyse mit scikit-learn\n",
    "\n",
    "- Train-Test-Splits\n",
    "- Cluster Analysis\n",
    "- Preprocessing (Scaling)\n",
    "- CountVectorizer, TfidfVectorizer \n",
    "- Document Classification\n",
    "- Topic Modeling (LatentDirichletAllocation) \n"
   ]
  },
  {
   "cell_type": "markdown",
   "metadata": {},
   "source": [
    "--- \n",
    "## Package Info\n",
    "\n",
    "### scikit-learn (Machine Learning with Python)\n",
    "\n",
    "https://scikit-learn.org/\n",
    "\n",
    "- Python Library with many **Machine Learning Algorithms** for:\n",
    "  - **Supervised Learning (Classification, Regression)**\n",
    "  - **Unsupervised Learning (Clustering, etc.)**\n",
    "- also provides data sets for classification tasks (e.g. '20 Newsgroup text dataset')"
   ]
  },
  {
   "cell_type": "markdown",
   "metadata": {},
   "source": [
    "\n",
    "\n",
    "---\n",
    "## Corpus Analysis\n",
    "\n",
    "\n",
    "#### Basic Analysis (Descriptive Statistics):\n",
    "- **Frequency Lists**\n",
    "- **Collocations**\n",
    "- **Concordance**\n",
    "\n",
    "\n",
    "- Libraries:\n",
    "    - numpy: https://numpy.org/doc/stable/reference/routines.statistics.html\n",
    "    - pandas: https://pandas.pydata.org/docs/getting_started/intro_tutorials/06_calculate_statistics.html\n",
    "\n",
    "\n",
    "#### *Corpus-based* Analysis  (Inferential Statistics):\n",
    "- Hypothesis Testing on Corpus Data\n",
    "- see https://towardsdatascience.com/anova-t-test-and-other-statistical-tests-with-python-e7a36a2fdc0c#2258\n",
    "\n",
    "\n",
    "- Libraries:\n",
    "    - scipy (hyothesis testing): https://docs.scipy.org/doc/scipy/reference/stats.html\n",
    "    - scikit-learn (classification & regression): https://scikit-learn.org/stable/\n",
    "\n",
    "#### *Corpus-driven* Analysis  (Exploratory Statistics):\n",
    "- Finding Patterns of Language Use \n",
    "- *data-driven* (finding hypothesis)\n",
    "- e.g. Clustering, Topic Modeling with LDA (Latent Dirichlet Allocation)\n",
    "\n",
    "\n",
    "- Library: \n",
    "    - scikit-learn: https://scikit-learn.org/stable/"
   ]
  },
  {
   "cell_type": "markdown",
   "metadata": {},
   "source": [
    "\n",
    "\n",
    "---\n",
    "## Loading Packages"
   ]
  },
  {
   "cell_type": "code",
   "execution_count": 1,
   "metadata": {},
   "outputs": [],
   "source": [
    "import sklearn"
   ]
  },
  {
   "cell_type": "code",
   "execution_count": 2,
   "metadata": {},
   "outputs": [],
   "source": [
    "import pandas as pd\n",
    "import numpy as np\n",
    "import warnings\n",
    "warnings.filterwarnings(\"ignore\")"
   ]
  },
  {
   "cell_type": "code",
   "execution_count": 3,
   "metadata": {},
   "outputs": [],
   "source": [
    "import matplotlib.pyplot as plt\n",
    "%matplotlib inline"
   ]
  },
  {
   "cell_type": "markdown",
   "metadata": {},
   "source": [
    "\n",
    "\n",
    "## 1. Machine Learning for Text Analysis\n",
    "\n",
    "- ***Machine learning algorithms build models based on patterns in data***\n",
    "\n",
    "> Machine Learning, bzw. maschinelles Lernen im Deutschen, ist ein Teilbereich der künstlichen Intelligenz. Auf Grundlage möglichst vieler (Text-)Daten erkennt und erlernt ein Computer die häufig sehr komplexen Muster und Gesetzmäßigkeiten bestimmter Phänomene. Daraufhin können die aus den Daten gewonnen Erkenntnisse verallgemeinert werden und für neue Problemlösungen oder für die Analyse von bisher unbekannten Daten verwendet werden.<br>https://fortext.net/ueber-fortext/glossar/machine-learning\n",
    "\n",
    "\n",
    "\n",
    "\n",
    "### 1.1 Models:\n",
    "\n",
    "- **supervised** (Classification & Regression) vs. **unsupervised models** (Clustering, Topic Modeling, etc.)\n",
    "- statistical models vs neural networks models: https://scikit-learn.org/stable/modules/neural_networks_supervised.html\n",
    "\n",
    "- models in scikit learn: https://scikit-learn.org/stable/user_guide.html\n",
    "\n",
    "\n",
    "- ***Clustering models: important method in exploratory data analysis (discovering patterns in data)***\n",
    "- ***Classification models: can also be used for data analysis (inspecting model), in addition to predicting (e.g. in automated annotation/labeling task)***\n",
    "\n",
    "\n",
    "### 1.2 Data Representations:\n",
    "\n",
    "- compare **text objects (documents)** based on certain characteristics\n",
    "- typically represented as a **feature set**\n",
    "- feature extraction from document collection results in **document-feature-matrix** (list of list of feature-values)\n",
    "\n",
    "\n",
    "\n"
   ]
  },
  {
   "cell_type": "code",
   "execution_count": 4,
   "metadata": {},
   "outputs": [
    {
     "data": {
      "text/html": [
       "<div>\n",
       "<style scoped>\n",
       "    .dataframe tbody tr th:only-of-type {\n",
       "        vertical-align: middle;\n",
       "    }\n",
       "\n",
       "    .dataframe tbody tr th {\n",
       "        vertical-align: top;\n",
       "    }\n",
       "\n",
       "    .dataframe thead th {\n",
       "        text-align: right;\n",
       "    }\n",
       "</style>\n",
       "<table border=\"1\" class=\"dataframe\">\n",
       "  <thead>\n",
       "    <tr style=\"text-align: right;\">\n",
       "      <th></th>\n",
       "      <th>Feature_A</th>\n",
       "      <th>Feature_B</th>\n",
       "      <th>Feature_C</th>\n",
       "      <th>Feature_D</th>\n",
       "    </tr>\n",
       "  </thead>\n",
       "  <tbody>\n",
       "    <tr>\n",
       "      <th>Document_1</th>\n",
       "      <td>0.496714</td>\n",
       "      <td>-0.138264</td>\n",
       "      <td>0.647689</td>\n",
       "      <td>1.523030</td>\n",
       "    </tr>\n",
       "    <tr>\n",
       "      <th>Document_2</th>\n",
       "      <td>-0.234153</td>\n",
       "      <td>-0.234137</td>\n",
       "      <td>1.579213</td>\n",
       "      <td>0.767435</td>\n",
       "    </tr>\n",
       "    <tr>\n",
       "      <th>Document_3</th>\n",
       "      <td>-0.469474</td>\n",
       "      <td>0.542560</td>\n",
       "      <td>-0.463418</td>\n",
       "      <td>-0.465730</td>\n",
       "    </tr>\n",
       "    <tr>\n",
       "      <th>Document_4</th>\n",
       "      <td>0.241962</td>\n",
       "      <td>-1.913280</td>\n",
       "      <td>-1.724918</td>\n",
       "      <td>-0.562288</td>\n",
       "    </tr>\n",
       "    <tr>\n",
       "      <th>Document_5</th>\n",
       "      <td>-1.012831</td>\n",
       "      <td>0.314247</td>\n",
       "      <td>-0.908024</td>\n",
       "      <td>-1.412304</td>\n",
       "    </tr>\n",
       "  </tbody>\n",
       "</table>\n",
       "</div>"
      ],
      "text/plain": [
       "            Feature_A  Feature_B  Feature_C  Feature_D\n",
       "Document_1   0.496714  -0.138264   0.647689   1.523030\n",
       "Document_2  -0.234153  -0.234137   1.579213   0.767435\n",
       "Document_3  -0.469474   0.542560  -0.463418  -0.465730\n",
       "Document_4   0.241962  -1.913280  -1.724918  -0.562288\n",
       "Document_5  -1.012831   0.314247  -0.908024  -1.412304"
      ]
     },
     "execution_count": 4,
     "metadata": {},
     "output_type": "execute_result"
    }
   ],
   "source": [
    "np.random.seed(42) #set seed for reproducibility\n",
    "df = pd.DataFrame(np.random.randn(5, 4), \n",
    "                  index=[\"Document_1\",\"Document_2\",\"Document_3\",\"Document_4\",\"Document_5\",], \n",
    "                  columns=[\"Feature_A\",\"Feature_B\",\"Feature_C\",\"Feature_D\"])\n",
    "df"
   ]
  },
  {
   "cell_type": "code",
   "execution_count": 5,
   "metadata": {},
   "outputs": [
    {
     "data": {
      "text/plain": [
       "[[0.4967141530112327,\n",
       "  -0.13826430117118466,\n",
       "  0.6476885381006925,\n",
       "  1.5230298564080254]]"
      ]
     },
     "execution_count": 5,
     "metadata": {},
     "output_type": "execute_result"
    }
   ],
   "source": [
    "# list view of values of first document\n",
    "df.values.tolist()[0:1]"
   ]
  },
  {
   "cell_type": "markdown",
   "metadata": {},
   "source": [
    "---\n",
    "### 1.3. Example: Linear Regression Model (*Supervised Learning*)\n",
    "\n",
    "- Regression analysis models the *relationship between **two numerical variables***\n",
    "- Linear Regression Model: linear equation, learned from training data (<code>y = ax + b</code>)\n",
    "- Model allows prediction of **response variable (<code>y</code>)** for new objects (based on  **predictor variable <code>x</code>**, also: explanatory/independent variable)\n",
    "\n",
    "\n",
    "- https://scikit-learn.org/stable/auto_examples/linear_model/plot_ols.html\n",
    "- https://www.tutorialspoint.com/r/r_linear_regression.htm\n",
    "\n"
   ]
  },
  {
   "cell_type": "code",
   "execution_count": 6,
   "metadata": {},
   "outputs": [],
   "source": [
    "#Select 2 variables\n",
    "X = df[['Feature_A']]\n",
    "y = df[['Feature_D']]"
   ]
  },
  {
   "cell_type": "code",
   "execution_count": 7,
   "metadata": {},
   "outputs": [
    {
     "data": {
      "text/plain": [
       "<matplotlib.axes._subplots.AxesSubplot at 0x11f5db4e0>"
      ]
     },
     "execution_count": 7,
     "metadata": {},
     "output_type": "execute_result"
    },
    {
     "data": {
      "image/png": "[encoded data removed]",
      "text/plain": [
       "<matplotlib.figure.Figure at 0x101dc9048>"
      ]
     },
     "metadata": {},
     "output_type": "display_data"
    }
   ],
   "source": [
    "df.plot(x='Feature_A',y='Feature_D',style='o')"
   ]
  },
  {
   "cell_type": "code",
   "execution_count": 8,
   "metadata": {},
   "outputs": [
    {
     "data": {
      "text/plain": [
       "LinearRegression(copy_X=True, fit_intercept=True, n_jobs=1, normalize=False)"
      ]
     },
     "execution_count": 8,
     "metadata": {},
     "output_type": "execute_result"
    }
   ],
   "source": [
    "from sklearn import linear_model\n",
    "\n",
    "# Create linear regression object\n",
    "regr = linear_model.LinearRegression()\n",
    "\n",
    "# Train the model\n",
    "regr.fit(X, y)"
   ]
  },
  {
   "cell_type": "code",
   "execution_count": 9,
   "metadata": {},
   "outputs": [
    {
     "data": {
      "text/plain": [
       "array([[ 0.9780306 ],\n",
       "       [-0.08617145],\n",
       "       [-0.42881782],\n",
       "       [ 0.60709132],\n",
       "       [-1.21998904]])"
      ]
     },
     "execution_count": 9,
     "metadata": {},
     "output_type": "execute_result"
    }
   ],
   "source": [
    "# Predict the set results\n",
    "y_pred = regr.predict(X)\n",
    "y_pred"
   ]
  },
  {
   "cell_type": "code",
   "execution_count": 10,
   "metadata": {
    "scrolled": true
   },
   "outputs": [
    {
     "data": {
      "image/png": "[encoded data removed]",
      "text/plain": [
       "<matplotlib.figure.Figure at 0x12271b128>"
      ]
     },
     "metadata": {},
     "output_type": "display_data"
    }
   ],
   "source": [
    "plt.scatter(X, y, color = 'red')\n",
    "plt.plot(X, regr.predict(X), color = 'blue')\n",
    "plt.title('Feature_A vs Feature_D')\n",
    "plt.xlabel('Feature_A')\n",
    "plt.ylabel('Feature_D')\n",
    "plt.show()"
   ]
  },
  {
   "cell_type": "markdown",
   "metadata": {},
   "source": [
    "---\n",
    "### 1.4. Classification: *Supervised Learning*\n",
    "\n",
    "- ***categorical response variable*** (class label, e.g. genre label)\n",
    "- classifier model assigns class label to input (problem instance)\n",
    "- model learns mapping from data representation to (apriori given) classes based on patterns in training data\n",
    "\n",
    "##### Mapping: **object &rarr; class**\n",
    "\n"
   ]
  },
  {
   "cell_type": "code",
   "execution_count": 11,
   "metadata": {},
   "outputs": [
    {
     "data": {
      "text/html": [
       "<div>\n",
       "<style scoped>\n",
       "    .dataframe tbody tr th:only-of-type {\n",
       "        vertical-align: middle;\n",
       "    }\n",
       "\n",
       "    .dataframe tbody tr th {\n",
       "        vertical-align: top;\n",
       "    }\n",
       "\n",
       "    .dataframe thead th {\n",
       "        text-align: right;\n",
       "    }\n",
       "</style>\n",
       "<table border=\"1\" class=\"dataframe\">\n",
       "  <thead>\n",
       "    <tr style=\"text-align: right;\">\n",
       "      <th></th>\n",
       "      <th>Feature_A</th>\n",
       "      <th>Feature_B</th>\n",
       "      <th>Feature_C</th>\n",
       "      <th>Feature_D</th>\n",
       "      <th>Class_Label</th>\n",
       "    </tr>\n",
       "  </thead>\n",
       "  <tbody>\n",
       "    <tr>\n",
       "      <th>Document_1</th>\n",
       "      <td>0.496714</td>\n",
       "      <td>-0.138264</td>\n",
       "      <td>0.647689</td>\n",
       "      <td>1.523030</td>\n",
       "      <td>neutral</td>\n",
       "    </tr>\n",
       "    <tr>\n",
       "      <th>Document_2</th>\n",
       "      <td>-0.234153</td>\n",
       "      <td>-0.234137</td>\n",
       "      <td>1.579213</td>\n",
       "      <td>0.767435</td>\n",
       "      <td>neutral</td>\n",
       "    </tr>\n",
       "    <tr>\n",
       "      <th>Document_3</th>\n",
       "      <td>-0.469474</td>\n",
       "      <td>0.542560</td>\n",
       "      <td>-0.463418</td>\n",
       "      <td>-0.465730</td>\n",
       "      <td>positive</td>\n",
       "    </tr>\n",
       "    <tr>\n",
       "      <th>Document_4</th>\n",
       "      <td>0.241962</td>\n",
       "      <td>-1.913280</td>\n",
       "      <td>-1.724918</td>\n",
       "      <td>-0.562288</td>\n",
       "      <td>negative</td>\n",
       "    </tr>\n",
       "    <tr>\n",
       "      <th>Document_5</th>\n",
       "      <td>-1.012831</td>\n",
       "      <td>0.314247</td>\n",
       "      <td>-0.908024</td>\n",
       "      <td>-1.412304</td>\n",
       "      <td>neutral</td>\n",
       "    </tr>\n",
       "  </tbody>\n",
       "</table>\n",
       "</div>"
      ],
      "text/plain": [
       "            Feature_A  Feature_B  Feature_C  Feature_D Class_Label\n",
       "Document_1   0.496714  -0.138264   0.647689   1.523030     neutral\n",
       "Document_2  -0.234153  -0.234137   1.579213   0.767435     neutral\n",
       "Document_3  -0.469474   0.542560  -0.463418  -0.465730    positive\n",
       "Document_4   0.241962  -1.913280  -1.724918  -0.562288    negative\n",
       "Document_5  -1.012831   0.314247  -0.908024  -1.412304     neutral"
      ]
     },
     "execution_count": 11,
     "metadata": {},
     "output_type": "execute_result"
    }
   ],
   "source": [
    "# add categorical response variable = output label\n",
    "class_labels = pd.Categorical([\"neutral\", \"neutral\", \"positive\", \"negative\", \"neutral\"])\n",
    "df[\"Class_Label\"] = class_labels\n",
    "df"
   ]
  },
  {
   "cell_type": "markdown",
   "metadata": {},
   "source": [
    "<br>\n",
    "<img src=\"https://www.nltk.org/images/supervised-classification.png\" width=38%>\n",
    "\n",
    "https://www.nltk.org/book/ch06.html#fig-supervised-classification\n",
    ">Supervised Classification. (a) During training, a feature extractor is used to convert each input value to a feature set. These feature sets, which capture the basic information about each input that should be used to classify it, are discussed in the next section. Pairs of feature sets and labels are fed into the machine learning algorithm to generate a model. (b) During prediction, the same feature extractor is used to convert unseen inputs to feature sets. These feature sets are then fed into the model, which generates predicted labels."
   ]
  },
  {
   "cell_type": "markdown",
   "metadata": {},
   "source": [
    "### 1.5. Train-Test-Splits of Dataset\n",
    "\n",
    "- split shuffled data \n",
    "\n",
    "#### A: Training\n",
    "\n",
    "- *train* model on **training set** with given classes\n",
    "\n",
    "\n",
    "#### B: Testing / Prediction\n",
    "- use model to *predict* class of new data with unknown class\n",
    "- evaluate accuracy etc. of predictions based on correct classes in **test set** (\"gold standard\")\n",
    "\n",
    "\n",
    "#### C: Error Analysis for Feature Selection\n",
    "\n",
    "- additional **dev test set** for improving accuracy of classification by adding/selecting features (which features should be taken into account by the classification algorithm)\n",
    "\n",
    "\n",
    "<img src=\"https://www.nltk.org/images/corpus-org.png\" width=33% /> \n",
    "\n",
    "https://www.nltk.org/book/ch06.html#fig-corpus-org \n",
    ">Organization of corpus data for training supervised classifiers. The corpus data is divided into two sets: the development set, and the test set. The development set is often further subdivided into a training set and a dev-test set."
   ]
  },
  {
   "cell_type": "markdown",
   "metadata": {},
   "source": [
    "\n"
   ]
  },
  {
   "cell_type": "code",
   "execution_count": 12,
   "metadata": {},
   "outputs": [
    {
     "name": "stdout",
     "output_type": "stream",
     "text": [
      "4 1\n"
     ]
    }
   ],
   "source": [
    "# mit scikit-learn:\n",
    "from sklearn.model_selection import train_test_split\n",
    "\n",
    "train, test = train_test_split(df, test_size=0.2, random_state=42) #random_state is seed value\n",
    "print(len(train),len(test))"
   ]
  },
  {
   "cell_type": "code",
   "execution_count": 13,
   "metadata": {},
   "outputs": [
    {
     "data": {
      "text/html": [
       "<div>\n",
       "<style scoped>\n",
       "    .dataframe tbody tr th:only-of-type {\n",
       "        vertical-align: middle;\n",
       "    }\n",
       "\n",
       "    .dataframe tbody tr th {\n",
       "        vertical-align: top;\n",
       "    }\n",
       "\n",
       "    .dataframe thead th {\n",
       "        text-align: right;\n",
       "    }\n",
       "</style>\n",
       "<table border=\"1\" class=\"dataframe\">\n",
       "  <thead>\n",
       "    <tr style=\"text-align: right;\">\n",
       "      <th></th>\n",
       "      <th>Feature_A</th>\n",
       "      <th>Feature_B</th>\n",
       "      <th>Feature_C</th>\n",
       "      <th>Feature_D</th>\n",
       "      <th>Class_Label</th>\n",
       "    </tr>\n",
       "  </thead>\n",
       "  <tbody>\n",
       "    <tr>\n",
       "      <th>Document_2</th>\n",
       "      <td>-0.234153</td>\n",
       "      <td>-0.234137</td>\n",
       "      <td>1.579213</td>\n",
       "      <td>0.767435</td>\n",
       "      <td>neutral</td>\n",
       "    </tr>\n",
       "  </tbody>\n",
       "</table>\n",
       "</div>"
      ],
      "text/plain": [
       "            Feature_A  Feature_B  Feature_C  Feature_D Class_Label\n",
       "Document_2  -0.234153  -0.234137   1.579213   0.767435     neutral"
      ]
     },
     "execution_count": 13,
     "metadata": {},
     "output_type": "execute_result"
    }
   ],
   "source": [
    "test"
   ]
  },
  {
   "cell_type": "code",
   "execution_count": 14,
   "metadata": {},
   "outputs": [
    {
     "name": "stdout",
     "output_type": "stream",
     "text": [
      "4 1\n"
     ]
    }
   ],
   "source": [
    "# mit pandas:\n",
    "train = df.sample(frac=0.8,random_state=42) #random_state is seed value\n",
    "test = df.drop(train.index)\n",
    "print(len(train),len(test))"
   ]
  },
  {
   "cell_type": "markdown",
   "metadata": {},
   "source": [
    "#### Train-Test-Dev-Split:"
   ]
  },
  {
   "cell_type": "code",
   "execution_count": 15,
   "metadata": {},
   "outputs": [
    {
     "name": "stdout",
     "output_type": "stream",
     "text": [
      "3 1 1\n"
     ]
    }
   ],
   "source": [
    "# mit numpy und pandas: 60%, 20%, 20% split\n",
    "train, validate, test = np.split(df.sample(frac=1,random_state=42), [int(.6*len(df)), int(.8*len(df))]) \n",
    "print(len(train),len(validate),len(test))"
   ]
  },
  {
   "cell_type": "markdown",
   "metadata": {},
   "source": [
    "---\n",
    "### 1.6. Clustering: *Unsupervised Learning*\n",
    "\n",
    "https://scikit-learn.org/stable/modules/clustering.html\n",
    "\n",
    "- Learning algorithms that discover patterns in data (grouping) \n",
    "- Cluster model learns clusters (classes) in feature sets (cluster = grouping of similar data points / objects)\n",
    "- *no classes given!* (= **unsupervised learning**)\n",
    "- Evaluation based on internal as well as external ***cluster quality measures*** (see below)\n",
    "\n",
    "<img src=\"https://scikit-learn.org/stable/_images/sphx_glr_plot_kmeans_assumptions_001.png\" width=\"44%\">\n",
    "https://scikit-learn.org/stable/_images/sphx_glr_plot_kmeans_assumptions_001.png"
   ]
  },
  {
   "cell_type": "markdown",
   "metadata": {},
   "source": [
    "---\n",
    "\n",
    "---\n",
    "\n",
    "\n",
    "## 2. Cluster Analysis Example (Stylometry)\n",
    "\n",
    "#####  Clustering texts based on quantitative characteristics\n",
    "\n",
    "\n",
    ">In der digitalen Stilometrie werden Texte oder Textpassagen auf Grundlage statistischer Verteilungen (i. d. R. der häufigsten Wörter) stilistisch miteinander verglichen. So lässt sich beispielsweise die stilistische Entwicklung oder Differenzierung eines literarischen Textes, eines Œuvres, oder gar einer ganzen Epoche quantitativ nachvollziehen. Insbesondere werden stilometrische Methoden bei Autorschaftsattributionen, Genreklassifikationen, Epochendifferenzierungen oder auch in der forensischen Linguistik eingesetzt.<br>https://fortext.net/routinen/methoden/stilometrie"
   ]
  },
  {
   "cell_type": "markdown",
   "metadata": {},
   "source": [
    "#### Load Brown Corpus (with Genre Classes)"
   ]
  },
  {
   "cell_type": "code",
   "execution_count": 16,
   "metadata": {},
   "outputs": [],
   "source": [
    "import nltk\n",
    "import re\n",
    "from nltk.corpus import brown\n",
    "from nltk.corpus import stopwords\n",
    "stop = stopwords.words('english')"
   ]
  },
  {
   "cell_type": "code",
   "execution_count": 17,
   "metadata": {},
   "outputs": [
    {
     "data": {
      "text/plain": [
       "['adventure',\n",
       " 'belles_lettres',\n",
       " 'editorial',\n",
       " 'fiction',\n",
       " 'government',\n",
       " 'hobbies',\n",
       " 'humor',\n",
       " 'learned',\n",
       " 'lore',\n",
       " 'mystery',\n",
       " 'news',\n",
       " 'religion',\n",
       " 'reviews',\n",
       " 'romance',\n",
       " 'science_fiction']"
      ]
     },
     "execution_count": 17,
     "metadata": {},
     "output_type": "execute_result"
    }
   ],
   "source": [
    "brown.categories()"
   ]
  },
  {
   "cell_type": "markdown",
   "metadata": {},
   "source": [
    "#### Select 2 genres for later comparison:"
   ]
  },
  {
   "cell_type": "code",
   "execution_count": 18,
   "metadata": {},
   "outputs": [
    {
     "data": {
      "text/plain": [
       "70022"
      ]
     },
     "execution_count": 18,
     "metadata": {},
     "output_type": "execute_result"
    }
   ],
   "source": [
    "len(brown.words(categories='romance'))"
   ]
  },
  {
   "cell_type": "code",
   "execution_count": 19,
   "metadata": {
    "scrolled": true
   },
   "outputs": [
    {
     "data": {
      "text/plain": [
       "['cp01', 'cp02', 'cp03']"
      ]
     },
     "execution_count": 19,
     "metadata": {},
     "output_type": "execute_result"
    }
   ],
   "source": [
    "brown.fileids(categories='romance')[0:3]"
   ]
  },
  {
   "cell_type": "code",
   "execution_count": 20,
   "metadata": {},
   "outputs": [
    {
     "data": {
      "text/plain": [
       "29"
      ]
     },
     "execution_count": 20,
     "metadata": {},
     "output_type": "execute_result"
    }
   ],
   "source": [
    "len(brown.fileids(categories='romance'))"
   ]
  },
  {
   "cell_type": "code",
   "execution_count": 21,
   "metadata": {},
   "outputs": [
    {
     "data": {
      "text/plain": [
       "[['People', 'came', 'in', 'and', 'out', 'all', 'evening', 'to', 'see', 'the', 'baby', 'and', 'hold', 'it', '.'], ['The', 'room', 'filled', 'with', 'smoke', ',', 'and', \"Maggie's\", 'head', 'throbbed', 'with', 'excitement', 'and', 'fatigue', ',', 'but', 'Stuart', 'had', 'such', 'a', 'happy', ',', 'earnest', 'look', 'of', 'proud', 'possession', 'on', 'his', 'face', 'that', 'Maggie', \"couldn't\", 'bear', 'to', 'do', 'anything', 'to', 'quench', 'it', '.'], ...]"
      ]
     },
     "execution_count": 21,
     "metadata": {},
     "output_type": "execute_result"
    }
   ],
   "source": [
    "brown.sents('cp02')"
   ]
  },
  {
   "cell_type": "markdown",
   "metadata": {},
   "source": [
    "---"
   ]
  },
  {
   "cell_type": "code",
   "execution_count": 22,
   "metadata": {},
   "outputs": [
    {
     "data": {
      "text/plain": [
       "70117"
      ]
     },
     "execution_count": 22,
     "metadata": {},
     "output_type": "execute_result"
    }
   ],
   "source": [
    "len(brown.words(categories='government'))"
   ]
  },
  {
   "cell_type": "code",
   "execution_count": 23,
   "metadata": {
    "scrolled": true
   },
   "outputs": [
    {
     "data": {
      "text/plain": [
       "['ch01', 'ch02', 'ch03']"
      ]
     },
     "execution_count": 23,
     "metadata": {},
     "output_type": "execute_result"
    }
   ],
   "source": [
    "brown.fileids(categories='government')[0:3]"
   ]
  },
  {
   "cell_type": "code",
   "execution_count": 24,
   "metadata": {},
   "outputs": [
    {
     "data": {
      "text/plain": [
       "30"
      ]
     },
     "execution_count": 24,
     "metadata": {},
     "output_type": "execute_result"
    }
   ],
   "source": [
    "len(brown.fileids(categories='government'))"
   ]
  },
  {
   "cell_type": "code",
   "execution_count": 25,
   "metadata": {},
   "outputs": [
    {
     "data": {
      "text/plain": [
       "[['The', 'Office', 'of', 'Business', 'Economics', '(', 'OBE', ')', 'of', 'the', 'U.S.', 'Department', 'of', 'Commerce', 'provides', 'basic', 'measures', 'of', 'the', 'national', 'economy', 'and', 'current', 'analysis', 'of', 'short-run', 'changes', 'in', 'the', 'economic', 'situation', 'and', 'business', 'outlook', '.'], ['It', 'develops', 'and', 'analyzes', 'the', 'national', 'income', ',', 'balance', 'of', 'international', 'payments', ',', 'and', 'many', 'other', 'business', 'indicators', '.'], ...]"
      ]
     },
     "execution_count": 25,
     "metadata": {},
     "output_type": "execute_result"
    }
   ],
   "source": [
    "brown.sents('ch01')"
   ]
  },
  {
   "cell_type": "markdown",
   "metadata": {},
   "source": [
    "### 2.1 Feature Extraction\n"
   ]
  },
  {
   "cell_type": "code",
   "execution_count": 26,
   "metadata": {},
   "outputs": [],
   "source": [
    "def style_features(category):\n",
    "    style_features={}\n",
    "    for x in brown.fileids(categories=category):\n",
    "        \n",
    "        #average sentence length:\n",
    "        av_sent_length = len(brown.words(x)) / len(brown.sents(x)) \n",
    " \n",
    "        #average word length:\n",
    "        word_char_list = [list(x) for x in brown.words(x)] \n",
    "        char_list = [char for chars in word_char_list for char in chars]\n",
    "        av_word_length = len(char_list) / len(brown.words(x))\n",
    "\n",
    "        #select features:\n",
    "        style_features[x] = [av_sent_length, av_word_length]\n",
    "\n",
    "    return style_features"
   ]
  },
  {
   "cell_type": "markdown",
   "metadata": {},
   "source": [
    "\n",
    "#### Feature Extraction for Government Genre:"
   ]
  },
  {
   "cell_type": "code",
   "execution_count": 27,
   "metadata": {},
   "outputs": [],
   "source": [
    "gov_features = style_features('government')"
   ]
  },
  {
   "cell_type": "code",
   "execution_count": 28,
   "metadata": {},
   "outputs": [
    {
     "data": {
      "text/plain": [
       "[[16.21476510067114, 4.962334437086093],\n",
       " [20.344827586206897, 4.827118644067797],\n",
       " [26.59036144578313, 4.285455369279565],\n",
       " [18.829268292682926, 4.8713298791019],\n",
       " [26.843373493975903, 4.6014362657091565]]"
      ]
     },
     "execution_count": 28,
     "metadata": {},
     "output_type": "execute_result"
    }
   ],
   "source": [
    "gov_feat = [x for x in gov_features.values()]\n",
    "gov_feat[0:5]"
   ]
  },
  {
   "cell_type": "markdown",
   "metadata": {},
   "source": [
    "#### Feature Extraction for Romance Genre:"
   ]
  },
  {
   "cell_type": "code",
   "execution_count": 29,
   "metadata": {},
   "outputs": [],
   "source": [
    "rom_features = style_features('romance')"
   ]
  },
  {
   "cell_type": "code",
   "execution_count": 30,
   "metadata": {},
   "outputs": [
    {
     "data": {
      "text/plain": [
       "[[17.801526717557252, 3.949399656946827],\n",
       " [23.6734693877551, 3.945258620689655],\n",
       " [16.589041095890412, 3.741535920726672],\n",
       " [19.142857142857142, 3.9371563236449334],\n",
       " [17.908396946564885, 3.998294970161978]]"
      ]
     },
     "execution_count": 30,
     "metadata": {},
     "output_type": "execute_result"
    }
   ],
   "source": [
    "rom_feat = [x for x in rom_features.values()]\n",
    "rom_feat[0:5]"
   ]
  },
  {
   "cell_type": "markdown",
   "metadata": {},
   "source": [
    "### 2.2 Prepare Data\n",
    "\n",
    "#### Combine Romance + Government Feature Sets:"
   ]
  },
  {
   "cell_type": "code",
   "execution_count": 31,
   "metadata": {},
   "outputs": [
    {
     "data": {
      "text/plain": [
       "59"
      ]
     },
     "execution_count": 31,
     "metadata": {},
     "output_type": "execute_result"
    }
   ],
   "source": [
    "feat = gov_feat + rom_feat\n",
    "len(feat)"
   ]
  },
  {
   "cell_type": "markdown",
   "metadata": {},
   "source": [
    "#### Create list of class labels for comparison & evaluation:"
   ]
  },
  {
   "cell_type": "code",
   "execution_count": 32,
   "metadata": {
    "scrolled": true
   },
   "outputs": [
    {
     "name": "stdout",
     "output_type": "stream",
     "text": [
      "['gov', 'gov', 'gov', 'gov', 'gov', 'gov', 'gov', 'gov', 'gov', 'gov', 'gov', 'gov', 'gov', 'gov', 'gov', 'gov', 'gov', 'gov', 'gov', 'gov', 'gov', 'gov', 'gov', 'gov', 'gov', 'gov', 'gov', 'gov', 'gov', 'gov', 'rom', 'rom', 'rom', 'rom', 'rom', 'rom', 'rom', 'rom', 'rom', 'rom', 'rom', 'rom', 'rom', 'rom', 'rom', 'rom', 'rom', 'rom', 'rom', 'rom', 'rom', 'rom', 'rom', 'rom', 'rom', 'rom', 'rom', 'rom', 'rom']\n"
     ]
    }
   ],
   "source": [
    "genre_labels = ['gov' for x in gov_features] + ['rom' for x in rom_features]\n",
    "print(genre_labels)"
   ]
  },
  {
   "cell_type": "code",
   "execution_count": 33,
   "metadata": {},
   "outputs": [
    {
     "name": "stdout",
     "output_type": "stream",
     "text": [
      "[0, 0, 0, 0, 0, 0, 0, 0, 0, 0, 0, 0, 0, 0, 0, 0, 0, 0, 0, 0, 0, 0, 0, 0, 0, 0, 0, 0, 0, 0, 1, 1, 1, 1, 1, 1, 1, 1, 1, 1, 1, 1, 1, 1, 1, 1, 1, 1, 1, 1, 1, 1, 1, 1, 1, 1, 1, 1, 1]\n"
     ]
    }
   ],
   "source": [
    "genre_labels_num = [0 for x in gov_features] + [1 for x in rom_features]\n",
    "print(genre_labels_num)"
   ]
  },
  {
   "cell_type": "markdown",
   "metadata": {},
   "source": [
    "#### Scatterplot of data with genre classes given in corpus:"
   ]
  },
  {
   "cell_type": "code",
   "execution_count": 34,
   "metadata": {},
   "outputs": [
    {
     "data": {
      "text/plain": [
       "<matplotlib.text.Text at 0x122755358>"
      ]
     },
     "execution_count": 34,
     "metadata": {},
     "output_type": "execute_result"
    },
    {
     "data": {
      "image/png": "[encoded data removed]",
      "text/plain": [
       "<matplotlib.figure.Figure at 0x1281fea90>"
      ]
     },
     "metadata": {},
     "output_type": "display_data"
    }
   ],
   "source": [
    "fig, ax = plt.subplots()\n",
    "ax.scatter([x[0] for x in feat],[x[1] for x in feat], c=genre_labels_num, cmap='rainbow')\n",
    "        \n",
    "for i, txt in enumerate(genre_labels):\n",
    "    ax.annotate(txt, ([x[0] for x in feat][i], [x[1] for x in feat][i]))\n",
    "\n",
    "plt.xlabel('Average Sentence Length')\n",
    "plt.ylabel('Average Word Length')"
   ]
  },
  {
   "cell_type": "markdown",
   "metadata": {},
   "source": [
    "### 2.3 Agglomerative Hierarchical Clustering\n",
    "\n",
    "##### Clustering algorithm that builds a buttom-up hierarchy of clusters\n",
    "\n",
    "- Cluster = grouping of data points in feature space\n",
    "- Grouping based on distances in feature space (= dissimiliarity)\n",
    "\n",
    "\n",
    "#### Parameter:\n",
    "1. **Distance measure** (e.g. [Euclidean Distance](https://en.wikipedia.org/wiki/Euclidean_distance)), specifies how to measure the distance between data points\n",
    "2. **Linkage type** (e.g. Complete, Ward), specifies how to measure the distance between clusters (how to merge clusters)\n"
   ]
  },
  {
   "cell_type": "markdown",
   "metadata": {},
   "source": [
    "\n",
    "#### Linkage Types in Agglomerativ Hierarchical Clustering\n",
    ">Agglomerative cluster has a “rich get richer” behavior that leads to uneven cluster sizes. In this regard, single linkage is the worst strategy, and Ward gives the most regular sizes. However, the affinity (or distance used in clustering) cannot be varied with Ward, thus for non Euclidean metrics, average linkage is a good alternative. Single linkage, while not robust to noisy data, can be computed very efficiently and can therefore be useful to provide hierarchical clustering of larger datasets. Single linkage can also perform well on non-globular data.<br>\n",
    "https://scikit-learn.org/stable/modules/clustering.html \n",
    "\n",
    "<img width=40% src=\"https://scikit-learn.org/stable/_images/sphx_glr_plot_linkage_comparison_001.png\"> https://scikit-learn.org/stable/_images/sphx_glr_plot_linkage_comparison_001.png"
   ]
  },
  {
   "cell_type": "code",
   "execution_count": 35,
   "metadata": {},
   "outputs": [
    {
     "data": {
      "text/plain": [
       "array([0, 0, 1, 0, 1, 0, 0, 1, 0, 0, 0, 1, 0, 0, 0, 1, 0, 1, 0, 0, 1, 1,\n",
       "       1, 0, 1, 1, 0, 0, 1, 0, 0, 0, 0, 0, 0, 0, 0, 0, 1, 0, 0, 0, 0, 0,\n",
       "       0, 0, 0, 0, 0, 0, 0, 0, 0, 0, 0, 0, 0, 0, 0])"
      ]
     },
     "execution_count": 35,
     "metadata": {},
     "output_type": "execute_result"
    }
   ],
   "source": [
    "from sklearn.cluster import AgglomerativeClustering\n",
    "\n",
    "X = np.array(feat)\n",
    "cluster = AgglomerativeClustering(n_clusters=2, affinity='euclidean', linkage='ward')\n",
    "cluster.fit_predict(X)"
   ]
  },
  {
   "cell_type": "code",
   "execution_count": 36,
   "metadata": {},
   "outputs": [
    {
     "data": {
      "text/plain": [
       "array([0, 0, 1, 0, 1, 0, 0, 1, 0, 0, 0, 1, 0, 0, 0, 1, 0, 1, 0, 0, 1, 1,\n",
       "       1, 0, 1, 1, 0, 0, 1, 0, 0, 0, 0, 0, 0, 0, 0, 0, 1, 0, 0, 0, 0, 0,\n",
       "       0, 0, 0, 0, 0, 0, 0, 0, 0, 0, 0, 0, 0, 0, 0])"
      ]
     },
     "execution_count": 36,
     "metadata": {},
     "output_type": "execute_result"
    }
   ],
   "source": [
    "cluster.labels_"
   ]
  },
  {
   "cell_type": "code",
   "execution_count": 37,
   "metadata": {},
   "outputs": [
    {
     "data": {
      "text/plain": [
       "<matplotlib.text.Text at 0x1291bd908>"
      ]
     },
     "execution_count": 37,
     "metadata": {},
     "output_type": "execute_result"
    },
    {
     "data": {
      "image/png": "[encoded data removed]",
      "text/plain": [
       "<matplotlib.figure.Figure at 0x1291b34a8>"
      ]
     },
     "metadata": {},
     "output_type": "display_data"
    }
   ],
   "source": [
    "fig, ax = plt.subplots()\n",
    "ax.scatter(X[:,0],X[:,1], c=cluster.labels_, cmap='rainbow')\n",
    "        \n",
    "for i, txt in enumerate(genre_labels):\n",
    "    ax.annotate(txt, (X[:,0][i], X[:,1][i]))\n",
    "    \n",
    "plt.xlabel('Average Sentence Length')\n",
    "plt.ylabel('Average Word Length')"
   ]
  },
  {
   "cell_type": "markdown",
   "metadata": {},
   "source": [
    "#### Evaluate clustering result (unscaled features):"
   ]
  },
  {
   "cell_type": "code",
   "execution_count": 38,
   "metadata": {},
   "outputs": [
    {
     "name": "stdout",
     "output_type": "stream",
     "text": [
      "Homogeneity: 0.161\n",
      "Completeness: 0.211\n",
      "V-measure: 0.183\n",
      "Adjusted Rand-Index: 0.116\n",
      "Silhouette Coefficient: 0.568\n"
     ]
    }
   ],
   "source": [
    "#https://scikit-learn.org/stable/auto_examples/text/plot_document_clustering.html\n",
    "from sklearn import metrics\n",
    "\n",
    "print(\"Homogeneity: %0.3f\" % metrics.homogeneity_score(genre_labels, cluster.labels_))\n",
    "print(\"Completeness: %0.3f\" % metrics.completeness_score(genre_labels, cluster.labels_))\n",
    "print(\"V-measure: %0.3f\" % metrics.v_measure_score(genre_labels, cluster.labels_))\n",
    "print(\"Adjusted Rand-Index: %.3f\" % metrics.adjusted_rand_score(genre_labels, cluster.labels_))\n",
    "print(\"Silhouette Coefficient: %0.3f\" % metrics.silhouette_score(X, cluster.labels_, sample_size=1000))"
   ]
  },
  {
   "cell_type": "markdown",
   "metadata": {},
   "source": [
    "### 2.4 Feature Scaling (using scikit-learn's Preprocessing Library)\n",
    "\n",
    "##### Scaling = normalize range of variables"
   ]
  },
  {
   "cell_type": "code",
   "execution_count": 39,
   "metadata": {},
   "outputs": [
    {
     "data": {
      "text/plain": [
       "array([[16.2147651 ,  4.96233444],\n",
       "       [20.34482759,  4.82711864],\n",
       "       [26.59036145,  4.28545537],\n",
       "       [18.82926829,  4.87132988],\n",
       "       [26.84337349,  4.60143627]])"
      ]
     },
     "execution_count": 39,
     "metadata": {},
     "output_type": "execute_result"
    }
   ],
   "source": [
    "X = np.array(feat)\n",
    "X[0:5]"
   ]
  },
  {
   "cell_type": "code",
   "execution_count": 40,
   "metadata": {},
   "outputs": [
    {
     "data": {
      "text/plain": [
       "array([[-0.74713711,  1.48169518],\n",
       "       [-0.03892086,  1.20502815],\n",
       "       [ 1.0320529 ,  0.09672296],\n",
       "       [-0.29880645,  1.29548941],\n",
       "       [ 1.07543899,  0.74325612]])"
      ]
     },
     "execution_count": 40,
     "metadata": {},
     "output_type": "execute_result"
    }
   ],
   "source": [
    "X_scaled = sklearn.preprocessing.scale(X)\n",
    "X_scaled[0:5]"
   ]
  },
  {
   "cell_type": "code",
   "execution_count": 41,
   "metadata": {},
   "outputs": [
    {
     "data": {
      "text/plain": [
       "array([0, 0, 0, 0, 0, 0, 1, 0, 0, 0, 0, 0, 0, 0, 1, 0, 0, 0, 0, 0, 0, 0,\n",
       "       0, 1, 0, 0, 0, 0, 0, 0, 1, 1, 1, 1, 1, 1, 1, 1, 0, 1, 1, 1, 1, 1,\n",
       "       1, 1, 1, 1, 1, 1, 1, 1, 1, 1, 1, 1, 1, 1, 1])"
      ]
     },
     "execution_count": 41,
     "metadata": {},
     "output_type": "execute_result"
    }
   ],
   "source": [
    "#Clustering with scaled data:\n",
    "cluster = AgglomerativeClustering(n_clusters=2, affinity='euclidean', linkage='ward')\n",
    "cluster.fit_predict(X_scaled)"
   ]
  },
  {
   "cell_type": "code",
   "execution_count": 42,
   "metadata": {},
   "outputs": [
    {
     "data": {
      "text/plain": [
       "<matplotlib.text.Text at 0x129328748>"
      ]
     },
     "execution_count": 42,
     "metadata": {},
     "output_type": "execute_result"
    },
    {
     "data": {
      "image/png": "[encoded data removed]",
      "text/plain": [
       "<matplotlib.figure.Figure at 0x12175d390>"
      ]
     },
     "metadata": {},
     "output_type": "display_data"
    }
   ],
   "source": [
    "#scaled axes\n",
    "fig, ax = plt.subplots()\n",
    "ax.scatter(X_scaled[:,0],X_scaled[:,1], c=cluster.labels_, cmap='rainbow')\n",
    "        \n",
    "for i, txt in enumerate(genre_labels):\n",
    "    ax.annotate(txt, (X_scaled[:,0][i], X_scaled[:,1][i]))\n",
    "    \n",
    "plt.xlabel('Average Sentence Length (scaled)')\n",
    "plt.ylabel('Average Word Length (scaled)')"
   ]
  },
  {
   "cell_type": "markdown",
   "metadata": {},
   "source": [
    "#### Evaluate clustering result (scaled features):"
   ]
  },
  {
   "cell_type": "code",
   "execution_count": 43,
   "metadata": {},
   "outputs": [
    {
     "name": "stdout",
     "output_type": "stream",
     "text": [
      "Homogeneity: 0.653\n",
      "Completeness: 0.655\n",
      "V-measure: 0.654\n",
      "Adjusted Rand-Index: 0.743\n",
      "Silhouette Coefficient: 0.391\n"
     ]
    }
   ],
   "source": [
    "print(\"Homogeneity: %0.3f\" % metrics.homogeneity_score(genre_labels, cluster.labels_))\n",
    "print(\"Completeness: %0.3f\" % metrics.completeness_score(genre_labels, cluster.labels_))\n",
    "print(\"V-measure: %0.3f\" % metrics.v_measure_score(genre_labels, cluster.labels_))\n",
    "print(\"Adjusted Rand-Index: %.3f\" % metrics.adjusted_rand_score(genre_labels, cluster.labels_))\n",
    "print(\"Silhouette Coefficient: %0.3f\" % metrics.silhouette_score(X, cluster.labels_, sample_size=1000))"
   ]
  },
  {
   "cell_type": "markdown",
   "metadata": {},
   "source": [
    "---\n",
    "## 3. Keyword-based Document Classification\n",
    "\n",
    "#### tf-idf = bag-of-words model with term weights \n",
    "\n",
    "- **bag-of-words model:** simple text representation based on counts of words (vocabulary)\n",
    "- **tf-idf:** term frequency – inverse document frequency\n",
    "  - models the importance of each word (vocabulary) in a text collection (training data) based on its frequencies in text and collection (~keywords)\n",
    "\n",
    "\n",
    "- results in **high-dimensional feature space** (feature set = vocabulary of documents)\n",
    "\n",
    "https://scikit-learn.org/stable/tutorial/text_analytics/working_with_text_data.html"
   ]
  },
  {
   "cell_type": "markdown",
   "metadata": {},
   "source": [
    "### 3.1 Introduction example for tf-idf-based Keyword Extraction\n",
    "\n",
    "> In order to feed predictive or clustering models with the text data, one first need to turn the text into vectors of numerical values suitable for statistical analysis. This can be achieved with the utilities of the sklearn.feature_extraction.text as demonstrated in the following example that extract TF-IDF vectors of unigram tokens [...]<br> https://scikit-learn.org/0.19/datasets/twenty_newsgroups.html#converting-text-to-vectors\n",
    "\n",
    "\n",
    "\n",
    "#### TfidfVectorizer"
   ]
  },
  {
   "cell_type": "code",
   "execution_count": 47,
   "metadata": {},
   "outputs": [
    {
     "name": "stdout",
     "output_type": "stream",
     "text": [
      "(4, 9)\n"
     ]
    }
   ],
   "source": [
    "#https://scikit-learn.org/stable/modules/generated/sklearn.feature_extraction.text.TfidfVectorizer.html\n",
    "from sklearn.feature_extraction.text import TfidfVectorizer\n",
    "corpus = [\n",
    "'This is the first document.',\n",
    "'This document is the second document.',\n",
    "'And this is the third one.',\n",
    "'Is this the first document?',\n",
    "]\n",
    "vectorizer = TfidfVectorizer()\n",
    "X = vectorizer.fit_transform(corpus) #X = vectors\n",
    "print(X.shape)"
   ]
  },
  {
   "cell_type": "code",
   "execution_count": 48,
   "metadata": {},
   "outputs": [
    {
     "data": {
      "text/plain": [
       "['and', 'document', 'first', 'is', 'one', 'second', 'the', 'third', 'this']"
      ]
     },
     "execution_count": 48,
     "metadata": {},
     "output_type": "execute_result"
    }
   ],
   "source": [
    "terms = vectorizer.get_feature_names()\n",
    "terms"
   ]
  },
  {
   "cell_type": "code",
   "execution_count": 49,
   "metadata": {},
   "outputs": [
    {
     "data": {
      "text/plain": [
       "<4x9 sparse matrix of type '<class 'numpy.float64'>'\n",
       "\twith 21 stored elements in Compressed Sparse Row format>"
      ]
     },
     "execution_count": 49,
     "metadata": {},
     "output_type": "execute_result"
    }
   ],
   "source": [
    "X"
   ]
  },
  {
   "cell_type": "code",
   "execution_count": 50,
   "metadata": {},
   "outputs": [
    {
     "data": {
      "text/plain": [
       "matrix([[0.        , 0.46979139, 0.58028582, 0.38408524, 0.        ,\n",
       "         0.        , 0.38408524, 0.        , 0.38408524],\n",
       "        [0.        , 0.6876236 , 0.        , 0.28108867, 0.        ,\n",
       "         0.53864762, 0.28108867, 0.        , 0.28108867],\n",
       "        [0.51184851, 0.        , 0.        , 0.26710379, 0.51184851,\n",
       "         0.        , 0.26710379, 0.51184851, 0.26710379],\n",
       "        [0.        , 0.46979139, 0.58028582, 0.38408524, 0.        ,\n",
       "         0.        , 0.38408524, 0.        , 0.38408524]])"
      ]
     },
     "execution_count": 50,
     "metadata": {},
     "output_type": "execute_result"
    }
   ],
   "source": [
    "X.todense()"
   ]
  },
  {
   "cell_type": "code",
   "execution_count": 51,
   "metadata": {},
   "outputs": [],
   "source": [
    "def keywords(i):\n",
    "    scores = X[i].toarray().flatten().tolist()\n",
    "    data = list(zip(terms,scores))\n",
    "    sorted_data = sorted(data,key=lambda x: x[1],reverse=True)\n",
    "    sorted_keywords = [w[0] for w in sorted_data[:2]]\n",
    "    return sorted_keywords"
   ]
  },
  {
   "cell_type": "code",
   "execution_count": 52,
   "metadata": {},
   "outputs": [
    {
     "data": {
      "text/plain": [
       "['first', 'document']"
      ]
     },
     "execution_count": 52,
     "metadata": {},
     "output_type": "execute_result"
    }
   ],
   "source": [
    "#Keywords first document:\n",
    "keywords(0)"
   ]
  },
  {
   "cell_type": "code",
   "execution_count": 53,
   "metadata": {},
   "outputs": [
    {
     "data": {
      "text/plain": [
       "['document', 'second']"
      ]
     },
     "execution_count": 53,
     "metadata": {},
     "output_type": "execute_result"
    }
   ],
   "source": [
    "#Keywords second document:\n",
    "keywords(1)"
   ]
  },
  {
   "cell_type": "code",
   "execution_count": 54,
   "metadata": {},
   "outputs": [
    {
     "data": {
      "text/plain": [
       "['and', 'one']"
      ]
     },
     "execution_count": 54,
     "metadata": {},
     "output_type": "execute_result"
    }
   ],
   "source": [
    "#Keywords third document:\n",
    "keywords(2)"
   ]
  },
  {
   "cell_type": "markdown",
   "metadata": {},
   "source": [
    "### 3.2 Prepare Training Data\n",
    "\n",
    "- Using the training corpora of scikit-learn:"
   ]
  },
  {
   "cell_type": "code",
   "execution_count": 55,
   "metadata": {},
   "outputs": [],
   "source": [
    "#https://scikit-learn.org/stable/tutorial/text_analytics/working_with_text_data.html\n",
    "from sklearn.datasets import fetch_20newsgroups"
   ]
  },
  {
   "cell_type": "code",
   "execution_count": 56,
   "metadata": {},
   "outputs": [
    {
     "data": {
      "text/plain": [
       "['alt.atheism', 'comp.graphics', 'sci.med', 'soc.religion.christian']"
      ]
     },
     "execution_count": 56,
     "metadata": {},
     "output_type": "execute_result"
    }
   ],
   "source": [
    "categories = ['alt.atheism', 'soc.religion.christian','comp.graphics', 'sci.med']\n",
    "twenty_train = fetch_20newsgroups(subset='train', categories=categories, shuffle=True, random_state=42)\n",
    "twenty_train.target_names"
   ]
  },
  {
   "cell_type": "code",
   "execution_count": 57,
   "metadata": {},
   "outputs": [
    {
     "data": {
      "text/plain": [
       "2257"
      ]
     },
     "execution_count": 57,
     "metadata": {},
     "output_type": "execute_result"
    }
   ],
   "source": [
    "len(twenty_train.data)\n",
    "len(twenty_train.filenames)"
   ]
  },
  {
   "cell_type": "code",
   "execution_count": 58,
   "metadata": {},
   "outputs": [
    {
     "name": "stdout",
     "output_type": "stream",
     "text": [
      "From: sd345@city.ac.uk (Michael Collier)\n",
      "Subject: Converting images to HP LaserJet III?\n",
      "Nntp-Posting-Host: hampton\n"
     ]
    }
   ],
   "source": [
    "print(\"\\n\".join(twenty_train.data[0].split(\"\\n\")[:3]))"
   ]
  },
  {
   "cell_type": "code",
   "execution_count": 59,
   "metadata": {},
   "outputs": [
    {
     "name": "stdout",
     "output_type": "stream",
     "text": [
      "comp.graphics\n"
     ]
    }
   ],
   "source": [
    "print(twenty_train.target_names[twenty_train.target[0]])"
   ]
  },
  {
   "cell_type": "code",
   "execution_count": 60,
   "metadata": {},
   "outputs": [
    {
     "data": {
      "text/plain": [
       "array([1, 1, 3, 3, 3, 3, 3, 2, 2, 2])"
      ]
     },
     "execution_count": 60,
     "metadata": {},
     "output_type": "execute_result"
    }
   ],
   "source": [
    "twenty_train.target[:10]"
   ]
  },
  {
   "cell_type": "markdown",
   "metadata": {},
   "source": [
    "### 3.3 Feature Extraction (Keywords)\n",
    "\n",
    "#### CountVectorizer + TfidfTransformer\n",
    "(alternativ zu TfidfVectorizer)"
   ]
  },
  {
   "cell_type": "code",
   "execution_count": 61,
   "metadata": {},
   "outputs": [
    {
     "data": {
      "text/plain": [
       "(2257, 35788)"
      ]
     },
     "execution_count": 61,
     "metadata": {},
     "output_type": "execute_result"
    }
   ],
   "source": [
    "# Extracting features from text files\n",
    "\n",
    "# Tokenizing text with scikit-learn\n",
    "# extracting count-based features:\n",
    "from sklearn.feature_extraction.text import CountVectorizer\n",
    "count_vect = CountVectorizer()\n",
    "X_train_counts = count_vect.fit_transform(twenty_train.data)\n",
    "X_train_counts.shape"
   ]
  },
  {
   "cell_type": "code",
   "execution_count": 63,
   "metadata": {},
   "outputs": [
    {
     "data": {
      "text/plain": [
       "(2257, 35788)"
      ]
     },
     "execution_count": 63,
     "metadata": {},
     "output_type": "execute_result"
    }
   ],
   "source": [
    "# from occurrence to relative frequency of word within document: tf\n",
    "from sklearn.feature_extraction.text import TfidfTransformer\n",
    "tf_transformer = TfidfTransformer(use_idf=False).fit(X_train_counts)\n",
    "X_train_tf = tf_transformer.transform(X_train_counts)\n",
    "X_train_tf.shape"
   ]
  },
  {
   "cell_type": "code",
   "execution_count": 64,
   "metadata": {},
   "outputs": [
    {
     "data": {
      "text/plain": [
       "(2257, 35788)"
      ]
     },
     "execution_count": 64,
     "metadata": {},
     "output_type": "execute_result"
    }
   ],
   "source": [
    "#tf weighted by inverse document frequency (share of documents that contain the word): tfidf\n",
    "tfidf_transformer = TfidfTransformer()\n",
    "X_train_tfidf = tfidf_transformer.fit_transform(X_train_counts)\n",
    "X_train_tfidf.shape"
   ]
  },
  {
   "cell_type": "markdown",
   "metadata": {},
   "source": [
    "> The extracted TF-IDF vectors are very sparse: \n",
    "\n",
    "an average of 162 non-zero components by sample in a more than 35000-dimensional space (less than .5% non-zero features; 162/35788) \n",
    "\n",
    "- cf. https://scikit-learn.org/0.19/datasets/twenty_newsgroups.html#converting-text-to-vectors"
   ]
  },
  {
   "cell_type": "code",
   "execution_count": 65,
   "metadata": {},
   "outputs": [
    {
     "data": {
      "text/plain": [
       "162.1116526362428"
      ]
     },
     "execution_count": 65,
     "metadata": {},
     "output_type": "execute_result"
    }
   ],
   "source": [
    "#vectors.nnz / float(vectors.shape[0])\n",
    "X_train_tfidf.nnz / float(X_train_tfidf.shape[0])"
   ]
  },
  {
   "cell_type": "code",
   "execution_count": 66,
   "metadata": {},
   "outputs": [
    {
     "data": {
      "text/plain": [
       "365886"
      ]
     },
     "execution_count": 66,
     "metadata": {},
     "output_type": "execute_result"
    }
   ],
   "source": [
    "#Get the count of explicitly-stored values (nonzeros)\n",
    "X_train_tfidf.nnz"
   ]
  },
  {
   "cell_type": "markdown",
   "metadata": {},
   "source": [
    "### 3.4 Train and Test Classifier"
   ]
  },
  {
   "cell_type": "code",
   "execution_count": 67,
   "metadata": {},
   "outputs": [],
   "source": [
    "#import classifier\n",
    "from sklearn.naive_bayes import MultinomialNB"
   ]
  },
  {
   "cell_type": "code",
   "execution_count": 68,
   "metadata": {},
   "outputs": [],
   "source": [
    "#Training a classifier\n",
    "clf = MultinomialNB().fit(X_train_tfidf, twenty_train.target)"
   ]
  },
  {
   "cell_type": "code",
   "execution_count": 69,
   "metadata": {},
   "outputs": [
    {
     "name": "stdout",
     "output_type": "stream",
     "text": [
      "'God is love' => soc.religion.christian\n",
      "'OpenGL on the GPU is fast' => comp.graphics\n"
     ]
    }
   ],
   "source": [
    "#predict\n",
    "docs_new = ['God is love', 'OpenGL on the GPU is fast']\n",
    "X_new_counts = count_vect.transform(docs_new)\n",
    "X_new_tfidf = tfidf_transformer.transform(X_new_counts)\n",
    "\n",
    "predicted = clf.predict(X_new_tfidf)\n",
    "\n",
    "for doc, category in zip(docs_new, predicted):\n",
    "    print('%r => %s' % (doc, twenty_train.target_names[category]))"
   ]
  },
  {
   "cell_type": "markdown",
   "metadata": {},
   "source": [
    "#### Build Pipeline and Evaluate Classifier Model:"
   ]
  },
  {
   "cell_type": "code",
   "execution_count": 70,
   "metadata": {},
   "outputs": [],
   "source": [
    "#Building a pipeline with MultinomialNB-classifier:\n",
    "from sklearn.pipeline import Pipeline\n",
    "text_clf = Pipeline([\n",
    "    ('vect', CountVectorizer()),\n",
    "    ('tfidf', TfidfTransformer()),\n",
    "    ('clf', MultinomialNB()),\n",
    "    ])"
   ]
  },
  {
   "cell_type": "code",
   "execution_count": 71,
   "metadata": {},
   "outputs": [
    {
     "data": {
      "text/plain": [
       "Pipeline(memory=None,\n",
       "     steps=[('vect', CountVectorizer(analyzer='word', binary=False, decode_error='strict',\n",
       "        dtype=<class 'numpy.int64'>, encoding='utf-8', input='content',\n",
       "        lowercase=True, max_df=1.0, max_features=None, min_df=1,\n",
       "        ngram_range=(1, 1), preprocessor=None, stop_words=None,\n",
       "        strip...inear_tf=False, use_idf=True)), ('clf', MultinomialNB(alpha=1.0, class_prior=None, fit_prior=True))])"
      ]
     },
     "execution_count": 71,
     "metadata": {},
     "output_type": "execute_result"
    }
   ],
   "source": [
    "text_clf.fit(twenty_train.data, twenty_train.target)"
   ]
  },
  {
   "cell_type": "code",
   "execution_count": 72,
   "metadata": {},
   "outputs": [
    {
     "data": {
      "text/plain": [
       "0.8348868175765646"
      ]
     },
     "execution_count": 72,
     "metadata": {},
     "output_type": "execute_result"
    }
   ],
   "source": [
    "#Evaluation of the performance on the test set\n",
    "twenty_test = fetch_20newsgroups(subset='test', categories=categories, shuffle=True, random_state=42)\n",
    "docs_test = twenty_test.data\n",
    "predicted = text_clf.predict(docs_test)\n",
    "np.mean(predicted == twenty_test.target)"
   ]
  },
  {
   "cell_type": "markdown",
   "metadata": {},
   "source": [
    "---\n",
    "## 4. Topic Modeling with LDA (Latent Dirichlet Allocation)\n",
    "\n",
    "> Das Topic Modeling ist ein statistisches, auf Wahrscheinlichkeitsrechnung basierendes, Verfahren zur thematischen Exploration größerer Textsammlungen. Das Verfahren erzeugt „Topics“ zur Abbildung häufig gemeinsam vorkommender Wörter in einem Text. Für die Durchführung können verschiedene Algorithmen und Modelle wie das LDA verwendet werden.<br>https://fortext.net/ueber-fortext/glossar/topic-modeling\n",
    "\n",
    "\n",
    "---\n",
    "- Unsupervised classification method, similar to clustering, cf. https://scikit-learn.org/stable/unsupervised_learning.html\n",
    "- Discover topics in text collection by extracting set of frequently occuring words\n",
    " \n",
    "---\n",
    "\n",
    "\n",
    "\n",
    "\n",
    "#### LDA\n",
    "\n",
    "> LDA steht für Latent Dirichlet Allocation und ist ein generatives, statistisches Wahrscheinlichkeitsmodell, welches zum Topic Modeling angewendet werden kann. Bei der LDA werden auf Grundlage eines Wahrscheinlichkeitsmodells Wortgruppen aus Textdokumenten erstellt. Dabei wird jedes Dokument als eine Mischung von verborgenen Themen betrachtet und jedes Wort einem Thema zugeordnet. Wortreihenfolgen und Satzzusammenhänge spielen dabei keine Rolle.<br>https://fortext.net/ueber-fortext/glossar/lda\n",
    "\n",
    "\n",
    "- https://scikit-learn.org/stable/modules/decomposition.html#latentdirichletallocation\n",
    "\n",
    "- https://blog.mlreview.com/topic-modeling-with-scikit-learn-e80d33668730\n",
    "\n"
   ]
  },
  {
   "cell_type": "code",
   "execution_count": 69,
   "metadata": {},
   "outputs": [],
   "source": [
    "#https://blog.mlreview.com/topic-modeling-with-scikit-learn-e80d33668730\n",
    "from sklearn.datasets import fetch_20newsgroups\n",
    "\n",
    "dataset = fetch_20newsgroups(shuffle=True, random_state=1, remove=('headers', 'footers', 'quotes'))\n",
    "documents = dataset.data"
   ]
  },
  {
   "cell_type": "code",
   "execution_count": 70,
   "metadata": {},
   "outputs": [],
   "source": [
    "from sklearn.feature_extraction.text import TfidfVectorizer, CountVectorizer\n",
    "\n",
    "no_features = 1000\n",
    "\n",
    "# LDA can only use raw term counts for LDA because it is a probabilistic graphical model\n",
    "tf_vectorizer = CountVectorizer(max_df=0.95, min_df=2, max_features=no_features, stop_words='english')\n",
    "tf = tf_vectorizer.fit_transform(documents)\n",
    "tf_feature_names = tf_vectorizer.get_feature_names()"
   ]
  },
  {
   "cell_type": "code",
   "execution_count": 71,
   "metadata": {},
   "outputs": [],
   "source": [
    "from sklearn.decomposition import LatentDirichletAllocation\n",
    "\n",
    "no_topics = 10\n",
    "\n",
    "# Run LDA\n",
    "lda = LatentDirichletAllocation(n_topics=no_topics, max_iter=5, learning_method='online', learning_offset=50.,random_state=0).fit(tf)"
   ]
  },
  {
   "cell_type": "code",
   "execution_count": 72,
   "metadata": {},
   "outputs": [],
   "source": [
    "def display_topics(model, feature_names, no_top_words):\n",
    "    for topic_idx, topic in enumerate(model.components_):\n",
    "        print(\"Topic %d:\" % (topic_idx))\n",
    "        print(\" \".join([feature_names[i]\n",
    "                        for i in topic.argsort()[:-no_top_words - 1:-1]]))\n",
    "\n",
    "no_top_words = 10\n",
    "#display_topics(nmf, tfidf_feature_names, no_top_words)"
   ]
  },
  {
   "cell_type": "code",
   "execution_count": 73,
   "metadata": {
    "scrolled": false
   },
   "outputs": [
    {
     "name": "stdout",
     "output_type": "stream",
     "text": [
      "Topic 0:\n",
      "people gun armenian armenians war turkish states israel said children\n",
      "Topic 1:\n",
      "government people law mr use president don think right public\n",
      "Topic 2:\n",
      "space program output entry data nasa use science research build\n",
      "Topic 3:\n",
      "key car chip used keys bike use bit clipper number\n",
      "Topic 4:\n",
      "edu file com available mail ftp files information image send\n",
      "Topic 5:\n",
      "god people does jesus say think believe don know just\n",
      "Topic 6:\n",
      "windows use drive thanks does problem know card like using\n",
      "Topic 7:\n",
      "ax max b8f g9v a86 pl 145 1d9 0t 34u\n",
      "Topic 8:\n",
      "just don like think know good time ve people said\n",
      "Topic 9:\n",
      "10 00 25 15 12 20 11 14 17 16\n"
     ]
    }
   ],
   "source": [
    "display_topics(lda, tf_feature_names, no_top_words)"
   ]
  },
  {
   "cell_type": "markdown",
   "metadata": {},
   "source": [
    "---\n",
    "# &Uuml;bungsaufgaben 5\n",
    "\n"
   ]
  },
  {
   "cell_type": "markdown",
   "metadata": {},
   "source": [
    "## Aufgabe 1 (Bigramme mit pandas und scikit-learn)\n",
    "\n",
    "Berechnen Sie auf dem Wahlverwandschaften-Text eine Stopwort-gefilterte Bigramm-Frequenzliste mit pandas-Dataframe und dem CountVectorizer von scikit-learn:"
   ]
  },
  {
   "cell_type": "code",
   "execution_count": null,
   "metadata": {},
   "outputs": [],
   "source": [
    "#Beispiel CountVectorizer:\n",
    "from sklearn.feature_extraction.text import CountVectorizer\n",
    "c_vec = CountVectorizer(stop_words='english', ngram_range=(2,2))"
   ]
  },
  {
   "cell_type": "markdown",
   "metadata": {},
   "source": [
    "## Aufgabe 2 (Topic Modeling mit scikit-learn und pandas)\n",
    "\n",
    "Lesen Sie den Wahlverwandschaften-Text **absatzweise** ein und speichern die Absätze in einem pandas-Dataframe."
   ]
  },
  {
   "cell_type": "markdown",
   "metadata": {},
   "source": [
    "### Aufgabe 2a: Grid Search  \n",
    "\n",
    "Verwenden Sie die Grid-Search-Funktionalität von scikit-learn (https://scikit-learn.org/stable/modules/grid_search.html#grid-search) \n",
    "um für die Absätze des Textes \n",
    "die optimale Topic-Anzahl \n",
    "über LDA (`LatentDirichletAllocation`)\n",
    "herauszufinden. \n",
    "\n",
    "- Wenden Sie den `TfidfVectorizer` auf die Absatzsammlung an (`X`).\n",
    "- Verwenden Sie untenstehenden Code, um für verschiedene Werte des `n_components`-Parameters (Topic-Anzahl) den `best_estimator_` zu berechnen.\n",
    "- Verwenden Sie anschließend die `display_topics`-Funktion von oben (Thema 4), um die Top-Keywords für das beste Modell auszugeben.\n",
    "\n"
   ]
  },
  {
   "cell_type": "code",
   "execution_count": null,
   "metadata": {},
   "outputs": [],
   "source": [
    "from sklearn.decomposition import LatentDirichletAllocation\n",
    "from sklearn.model_selection import GridSearchCV\n",
    "\n",
    "# Define Search Param\n",
    "search_params = {'n_components': [], 'learning_decay': [.5, .7, .9]}\n",
    "\n",
    "# Init the Model\n",
    "lda = LatentDirichletAllocation(random_state=0)\n",
    "\n",
    "# Init Grid Search Class\n",
    "model = GridSearchCV(lda, param_grid=search_params)\n",
    "\n",
    "# Do the Grid Search\n",
    "model.fit(X)"
   ]
  },
  {
   "cell_type": "code",
   "execution_count": null,
   "metadata": {},
   "outputs": [],
   "source": [
    "# Best Model\n",
    "best_lda_model = model.best_estimator_\n",
    "\n",
    "# Model Parameters\n",
    "print(\"Best Model's Params: \", model.best_params_)\n",
    "\n",
    "# Log Likelihood Score\n",
    "print(\"Best Log Likelihood Score: \", model.best_score_)\n",
    "\n",
    "# Perplexity\n",
    "print(\"Model Perplexity: \", best_lda_model.perplexity(X))"
   ]
  },
  {
   "cell_type": "markdown",
   "metadata": {},
   "source": [
    "### Aufgabe 2b: Dominante Topics\n",
    "\n",
    "Verwenden Sie untenstehenden Code (vgl. https://www.machinelearningplus.com/nlp/topic-modeling-python-sklearn-examples/#14howtoseethedominanttopicineachdocument), \n",
    "um die Dokument-Topic-Matrix in einem Dataframe abzuspeichern \n",
    "und das dominante Topic für jedes Dokument (hier: Absatz) zu bestimmen."
   ]
  },
  {
   "cell_type": "code",
   "execution_count": null,
   "metadata": {},
   "outputs": [],
   "source": [
    "import numpy as np\n",
    "\n",
    "# Create Document - Topic Matrix\n",
    "lda_output = best_lda_model.transform(data_vectorized)\n",
    "\n",
    "# column names\n",
    "topicnames = [\"Topic\" + str(i) for i in range(best_lda_model.n_components)]\n",
    "\n",
    "# index names\n",
    "docnames = [\"Doc\" + str(i) for i in range(len(data))]\n",
    "\n",
    "# Make the pandas dataframe\n",
    "df_document_topic = pd.DataFrame(np.round(lda_output, 2), columns=topicnames, index=docnames)\n",
    "\n",
    "# Get dominant topic for each document\n",
    "dominant_topic = np.argmax(df_document_topic.values, axis=1)\n",
    "df_document_topic['dominant_topic'] = dominant_topic"
   ]
  },
  {
   "cell_type": "markdown",
   "metadata": {},
   "source": [
    "### Aufgabe 2c: Clustering der Topics\n",
    "\n",
    "Verwenden Sie den KMeans-Algorithmus, \n",
    "um ähnliche Themen zu clustern\n",
    "und das Ergebnis zu plotten.\n",
    "\n",
    "Sie können sich dabei an untenstehendem Code orientieren (vgl. https://www.machinelearningplus.com/nlp/topic-modeling-python-sklearn-examples/#20howtoclusterdocumentsthatsharesimilartopicsandplot).\n"
   ]
  },
  {
   "cell_type": "code",
   "execution_count": null,
   "metadata": {},
   "outputs": [],
   "source": [
    "# Construct the k-means clusters\n",
    "from sklearn.cluster import KMeans\n",
    "clusters = KMeans(n_clusters=best_lda_model.n_components, random_state=0).fit_predict(lda_output)\n",
    "\n",
    "# Build the Singular Value Decomposition(SVD) model\n",
    "from sklearn.decomposition import TruncatedSVD\n",
    "\n",
    "svd_model = TruncatedSVD(n_components=2)  # 2 components\n",
    "lda_output_svd = svd_model.fit_transform(lda_output)\n",
    "\n",
    "# X and Y axes of the plot using SVD decomposition\n",
    "x = lda_output_svd[:, 0]\n",
    "y = lda_output_svd[:, 1]\n",
    "\n",
    "# Weights for the 15 columns of lda_output, for each component\n",
    "print(\"Component's weights: \\n\", np.round(svd_model.components_, 2))\n",
    "\n",
    "# Percentage of total information in 'lda_output' explained by the two components\n",
    "print(\"Perc of Variance Explained: \\n\", np.round(svd_model.explained_variance_ratio_, 2))"
   ]
  },
  {
   "cell_type": "code",
   "execution_count": null,
   "metadata": {},
   "outputs": [],
   "source": [
    "# Plot\n",
    "import matplotlib.pyplot as plt\n",
    "#import pandas as pd\n",
    "%matplotlib inline\n",
    "\n",
    "plt.figure(figsize=(12, 12))\n",
    "plt.scatter(x, y, c=clusters)\n",
    "plt.xlabel('Component 2')\n",
    "plt.xlabel('Component 1')\n",
    "plt.title(\"Segregation of Topic Clusters\", )"
   ]
  },
  {
   "cell_type": "markdown",
   "metadata": {},
   "source": [
    "# Aufgabe 3 (Dokumentenklassifikation mit scikit-learn)\n",
    "\n",
    "\n",
    "### Aufgabe 3a: SVM-Klassifikator-Pipeline\n",
    "\n",
    "Trainieren und testen Sie - analog zu Thema 3 der Vorlesung einer tfidf-Keyword-basierten Klassifikation mit Naive Bayes Modell - einen SVM-Klassifikator mit dem `20newsgroups`-Korpus von scikit-learn in einer Pipeline."
   ]
  },
  {
   "cell_type": "code",
   "execution_count": null,
   "metadata": {},
   "outputs": [],
   "source": [
    "#import classifier\n",
    "from sklearn import svm"
   ]
  },
  {
   "cell_type": "code",
   "execution_count": null,
   "metadata": {},
   "outputs": [],
   "source": [
    "#import data\n",
    "from sklearn.datasets import fetch_20newsgroups\n",
    "categories = ['alt.atheism', 'soc.religion.christian','comp.graphics', 'sci.med']\n",
    "twenty_train = fetch_20newsgroups(subset='train', categories=categories, shuffle=True, random_state=42)"
   ]
  },
  {
   "cell_type": "markdown",
   "metadata": {},
   "source": [
    "### Aufgabe 3b: Prediction\n",
    "\n",
    "Verwenden Sie das trainierte Klassifikator-Modell anschließend für die Vorhersage der Genre-Klassen neuer Texte/Sätze."
   ]
  }
 ],
 "metadata": {
  "kernelspec": {
   "display_name": "Python 3",
   "language": "python",
   "name": "python3"
  },
  "language_info": {
   "codemirror_mode": {
    "name": "ipython",
    "version": 3
   },
   "file_extension": ".py",
   "mimetype": "text/x-python",
   "name": "python",
   "nbconvert_exporter": "python",
   "pygments_lexer": "ipython3",
   "version": "3.6.1"
  }
 },
 "nbformat": 4,
 "nbformat_minor": 2
}
